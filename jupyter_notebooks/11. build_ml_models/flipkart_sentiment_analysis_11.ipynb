{
  "cells": [
    {
      "cell_type": "markdown",
      "metadata": {
        "id": "u7cwR_Vheqr7"
      },
      "source": [
        "# 15. Build Machine Learning models\n"
      ]
    },
    {
      "cell_type": "markdown",
      "source": [
        "## Final `CleanCorpusTransformer`\n",
        "- To clean the corpus"
      ],
      "metadata": {
        "id": "C-OuXs-eEITG"
      }
    },
    {
      "cell_type": "code",
      "source": [
        "import re\n",
        "import nltk\n",
        "import pickle\n",
        "import pandas as pd\n",
        "from sklearn.base import TransformerMixin\n",
        "from bs4 import BeautifulSoup\n",
        "from nltk.stem import WordNetLemmatizer\n",
        "from nltk.tag import pos_tag\n",
        "from nltk.corpus import stopwords\n",
        "nltk.download('punkt')\n",
        "nltk.download('averaged_perceptron_tagger')\n",
        "nltk.download('wordnet')\n",
        "nltk.download('omw-1.4')\n",
        "nltk.download('stopwords')\n",
        "\n",
        "class CleanCorpusTransformer(TransformerMixin):\n",
        "  \"\"\"\n",
        "  Transformer for cleaning and preprocessing text data.\n",
        "\n",
        "  This transformer performs various operations such as removing punctuation,\n",
        "  handling emojis, lemmatization, and stop word removal.\n",
        "\n",
        "  If `emoji` is set to True, it loads emoticons from an HTML file.\n",
        "  It also initializes a lemmatizer and a tag map for POS tagging.\n",
        "  \"\"\"\n",
        "  def __init__(self, emoji:bool=False, stop_words:bool=False) -> None:\n",
        "    \"\"\"\n",
        "    Initializes the CleanCorpusTransformer with options for emoji and stop words handling.\n",
        "\n",
        "    If `emoji` is True, it loads emoticons from \"/content/emoji.html\".\n",
        "    It first attempts to load emoticons from a cached file (\"emoticons.pkl\").\n",
        "    If the file doesn't exist, it extracts emoticons from the HTML and caches them for future use.\n",
        "\n",
        "    It also initializes a WordNetLemmatizer and a tag map for mapping POS tags\n",
        "    to lemmatizer POS tags.\n",
        "\n",
        "    Args:\n",
        "        emoji (bool, optional): Whether to handle emojis. Defaults to False.\n",
        "        stop_words (bool, optional): Whether to remove stop words. Defaults to False.\n",
        "    \"\"\"\n",
        "    self.emoji: bool = emoji\n",
        "    if stop_words:\n",
        "      self.stop_words: set = set(stopwords.words('english'))\n",
        "    else:\n",
        "      self.stop_words: set = set()\n",
        "\n",
        "    if emoji:\n",
        "      try:\n",
        "        with open(\"emoticons.pkl\", \"rb\") as f:\n",
        "          self.emoticons: dict = pickle.load(f)\n",
        "      except FileNotFoundError:\n",
        "        with open(\"/content/emoji.html\", 'r', encoding='utf-8') as file:\n",
        "          soup: BeautifulSoup = BeautifulSoup(file.read(), 'html.parser')\n",
        "        self.emoticons: dict = self.extract_emotions(soup)\n",
        "        with open(\"emoticons.pkl\", \"wb\") as f:\n",
        "          pickle.dump(self.emoticons, f)\n",
        "\n",
        "    self.lemmatizer: WordNetLemmatizer = WordNetLemmatizer()\n",
        "    self.tag_map: dict = {\n",
        "        \"VB\": \"v\", \"VBD\": \"v\", \"VBG\": \"v\", \"VBN\": \"v\", \"VBP\": \"v\", \"VBZ\": \"v\",\n",
        "        \"JJ\": \"a\", \"JJR\": \"a\", \"JJS\": \"a\",\n",
        "        \"RB\": \"r\", \"RBR\": \"r\", \"RBS\": \"r\",\n",
        "    }\n",
        "\n",
        "  def remove_punctuation(self, x: str) -> list:\n",
        "    \"\"\"Removes punctuation from a text and returns a list of lowercase words.\n",
        "\n",
        "    This method removes all characters that are not letters from the input text.\n",
        "    It also converts all words to lowercase and filters out words with a length of 1 or less.\n",
        "\n",
        "    Args:\n",
        "        x (str): The text to remove punctuation from.\n",
        "\n",
        "    Returns:\n",
        "        list: A list of lowercase words with punctuation removed.\n",
        "    \"\"\"\n",
        "    words: list = [word.lower() for word in re.sub(\"[^A-Za-z]\", \" \", x).split() if word.isalpha() and len(word) > 1]\n",
        "    return words\n",
        "\n",
        "  def postag_func(self, x: list) -> list:\n",
        "    \"\"\"Performs part-of-speech tagging on a list of words.\n",
        "\n",
        "    This method uses the `pos_tag` function from NLTK to assign part-of-speech tags to each word in the input list.\n",
        "\n",
        "    Args:\n",
        "      x (list): A list of words.\n",
        "\n",
        "    Returns:\n",
        "      list: A list of tuples, where each tuple contains a word and its corresponding POS tag.\n",
        "    \"\"\"\n",
        "    return pos_tag(x)\n",
        "\n",
        "  def lemmatize_func(self, x: list) -> str:\n",
        "    \"\"\"Lemmatizes words based on their part-of-speech tags.\n",
        "\n",
        "    This method uses the WordNetLemmatizer to reduce words to their base form (lemma).\n",
        "    It uses a tag map to convert POS tags to the format expected by the lemmatizer.\n",
        "    If a tag is not found in the map, it defaults to \"n\" (noun).\n",
        "\n",
        "    Args:\n",
        "      x (list): A list of (word, POS tag) tuples.\n",
        "\n",
        "    Returns:\n",
        "      str: A string containing the lemmatized words separated by spaces.\n",
        "    \"\"\"\n",
        "    return \" \".join([self.lemmatizer.lemmatize(word, pos=self.tag_map.get(tag, \"n\")) for word, tag in x])\n",
        "\n",
        "  def extract_emotions(self, soup: BeautifulSoup) -> dict:\n",
        "    \"\"\"Extracts emoticons and their corresponding emotions from a BeautifulSoup object.\n",
        "\n",
        "    This method iterates through the `<tr>` tags in the parsed HTML content, extracts the emoticon\n",
        "    and its associated emotion, and stores them in a dictionary.\n",
        "\n",
        "    Args:\n",
        "      soup (BeautifulSoup): A BeautifulSoup object representing the parsed HTML content.\n",
        "\n",
        "    Returns:\n",
        "      dict: A dictionary where keys are emoticons and values are their corresponding emotions.\n",
        "    \"\"\"\n",
        "    emoticons: dict = {}\n",
        "    for tr_tag in soup.find_all('tr')[1:]:\n",
        "      emote: str = tr_tag.td.text\n",
        "      emotion: str = tr_tag.find_all(\"td\")[-2].text.lower().replace(\" \", \"-\")\n",
        "      emoticons[emote]: str = f\" {emotion} \"\n",
        "    return emoticons\n",
        "\n",
        "  def emoticon_replace(self, x: str) -> str:\n",
        "    \"\"\"Replaces emoticons in a text with their corresponding emotions.\n",
        "\n",
        "    This method iterates through the emoticons dictionary and replaces each emoticon\n",
        "    found in the input text with its associated emotion. It then removes extra spaces.\n",
        "\n",
        "    Args:\n",
        "      x (str): The text containing emoticons.\n",
        "\n",
        "    Returns:\n",
        "      str: The text with emoticons replaced by emotions and extra spaces removed.\n",
        "    \"\"\"\n",
        "    pattern: re = re.compile(\"|\".join(re.escape(emoticon) for emoticon in self.emoticons))\n",
        "    return pattern.sub(lambda match: self.emoticons[match.group(0)], x)\n",
        "\n",
        "  def remove_punctuation_emoji(self, x: str) -> list:\n",
        "    \"\"\"Removes punctuation and converts text to lowercase, keeping hyphens.\n",
        "\n",
        "    This method removes all characters that are not letters or hyphens from the input text.\n",
        "    It converts all words to lowercase and filters out words with a length of 1 or less.\n",
        "\n",
        "    Args:\n",
        "      x (str): The text to process.\n",
        "\n",
        "    Returns:\n",
        "      list: A list of lowercase words with punctuation removed, but hyphens retained.\n",
        "    \"\"\"\n",
        "    words: list = [word.lower() for word in re.sub(\"[^A-Za-z-]\", \" \", x).split() if len(word) > 1]\n",
        "    return words\n",
        "\n",
        "  def stopwords_remove(self, x: str) -> str:\n",
        "    \"\"\"Removes stop words from a text.\n",
        "\n",
        "    This method removes common words (stop words) from the input text using a predefined set of stop words.\n",
        "\n",
        "    Args:\n",
        "      x (str): The text to remove stop words from.\n",
        "\n",
        "    Returns:\n",
        "      str: The text with stop words removed.\n",
        "    \"\"\"\n",
        "    return \" \".join([word for word in x.split() if word not in self.stop_words])\n",
        "\n",
        "  def fit(self, X: pd.Series, y: pd.Series=None) -> \"CleanCorpusTransformer\":\n",
        "    \"\"\"Fits the transformer to the training data.\n",
        "\n",
        "    This method preprocesses the input training data and creates a vocabulary (`self.train_vocab`)\n",
        "    of unique words found in the cleaned text.\n",
        "\n",
        "    Args:\n",
        "      X (pd.Series or list-like): The training data.\n",
        "      y: Ignored.\n",
        "\n",
        "    Returns:\n",
        "      self: The fitted transformer object.\n",
        "    \"\"\"\n",
        "    cleaned_text: pd.Series = self.transform(X)\n",
        "    self.train_vocab: set = {word for doc in cleaned_text for word in doc.split()}\n",
        "    return self\n",
        "\n",
        "  def transform(self, X: pd.Series, y: pd.Series =None) -> pd.Series:\n",
        "    \"\"\"\n",
        "    Cleans and transforms the input text data.\n",
        "\n",
        "    Applies various preprocessing steps to the input data, including:\n",
        "      - Converting to a pandas Series if necessary\n",
        "      - Applying the _process_text method to each element\n",
        "      - Removing stop words if stop_words is True\n",
        "      - Filtering words based on train_vocab if it exists\n",
        "\n",
        "    Args:\n",
        "        X (pd.Series or list-like): Input text data.\n",
        "        y: Ignored.\n",
        "\n",
        "    Returns:\n",
        "        pd.Series: Transformed text data as a pandas Series.\n",
        "    \"\"\"\n",
        "    if not isinstance(X, pd.Series):\n",
        "      X: pd.Series = pd.Series(X)\n",
        "\n",
        "    X = X.dropna()\n",
        "    X_transformed: pd.Series = X.apply(self._process_text)\n",
        "\n",
        "    if hasattr(self, 'train_vocab'):\n",
        "      X_transformed = X_transformed.apply(lambda x: ' '.join([word for word in x.split() if word in self.train_vocab]))\n",
        "\n",
        "    return X_transformed\n",
        "\n",
        "  def _process_text(self, x: str) -> str:\n",
        "    \"\"\"Processes a single text element by applying various cleaning and transformation steps.\n",
        "\n",
        "    This method performs the following steps:\n",
        "      - If `self.emoji` is True, it replaces emoticons and removes punctuation, keeping hyphens.\n",
        "      - Otherwise, it removes punctuation without keeping hyphens.\n",
        "      - Performs part-of-speech tagging on the words.\n",
        "      - Lemmatizes the words based on their POS tags.\n",
        "\n",
        "    Args:\n",
        "      x (str): The text element to process.\n",
        "\n",
        "    Returns:\n",
        "      str: The processed text as a string.\n",
        "    \"\"\"\n",
        "    if self.emoji:\n",
        "      x = self.emoticon_replace(x)\n",
        "      x = self.remove_punctuation_emoji(x)\n",
        "    else:\n",
        "      x = self.remove_punctuation(x)\n",
        "    x = self.postag_func(x)\n",
        "    x = self.lemmatize_func(x)\n",
        "    return x\n",
        "\n",
        "  def get_params(self, deep: bool = True) -> dict:\n",
        "    \"\"\"\n",
        "    Get parameters for this transformer.\n",
        "\n",
        "    Args:\n",
        "        deep (bool, optional): If True, will return the parameters for this\n",
        "                                estimator and contained subobjects that are\n",
        "                                estimators. Defaults to True.\n",
        "\n",
        "    Returns:\n",
        "        dict: Parameter names mapped to their values.\n",
        "    \"\"\"\n",
        "    return {\"emoji\": self.emoji, \"stop_words\": self.stop_words}\n",
        "\n",
        "  def set_params(self, **parameters) -> \"CleanCorpusTransformer\":\n",
        "    \"\"\"\n",
        "    Set the parameters of this transformer.\n",
        "\n",
        "    Args:\n",
        "        **parameters: Parameter names with their new values.\n",
        "\n",
        "    Returns:\n",
        "        CleanCorpusTransformer: The transformer instance with updated parameters.\n",
        "    \"\"\"\n",
        "    for parameter, value in parameters.items():\n",
        "      setattr(self, parameter, value)\n",
        "    return self"
      ],
      "metadata": {
        "id": "mxB2Go0oEKmY",
        "colab": {
          "base_uri": "https://localhost:8080/"
        },
        "outputId": "bdab0484-3526-4523-f7e2-3696603122c3"
      },
      "execution_count": null,
      "outputs": [
        {
          "output_type": "stream",
          "name": "stderr",
          "text": [
            "[nltk_data] Downloading package punkt to /root/nltk_data...\n",
            "[nltk_data]   Unzipping tokenizers/punkt.zip.\n",
            "[nltk_data] Downloading package averaged_perceptron_tagger to\n",
            "[nltk_data]     /root/nltk_data...\n",
            "[nltk_data]   Unzipping taggers/averaged_perceptron_tagger.zip.\n",
            "[nltk_data] Downloading package wordnet to /root/nltk_data...\n",
            "[nltk_data] Downloading package omw-1.4 to /root/nltk_data...\n",
            "[nltk_data] Downloading package stopwords to /root/nltk_data...\n",
            "[nltk_data]   Unzipping corpora/stopwords.zip.\n"
          ]
        }
      ]
    },
    {
      "cell_type": "markdown",
      "source": [
        "## Final `ManualWordToVector`\n",
        "- To Perform manual word2vec"
      ],
      "metadata": {
        "id": "naLvSdxEFacf"
      }
    },
    {
      "cell_type": "code",
      "source": [
        "import numpy as np\n",
        "import pandas as pd\n",
        "from typing import Union\n",
        "from gensim.models import Word2Vec\n",
        "from sklearn.base import TransformerMixin\n",
        "\n",
        "class ManualWordToVector(TransformerMixin):\n",
        "  \"\"\"Transforms text data into numerical vectors using Word2Vec.\n",
        "\n",
        "  This transformer trains a Word2Vec model on the input data and provides options\n",
        "  for averaging word embeddings and padding sentences.\n",
        "  \"\"\"\n",
        "  def __init__(self, twod=True, axis=0):\n",
        "    \"\"\"Initializes the ManualWordToVector transformer.\n",
        "\n",
        "    Args:\n",
        "      twod: Whether to return a 2D array (average embeddings) or a 3D array.\n",
        "      axis: The axis along which to calculate the average (0 or 1) if twod is True.\n",
        "    \"\"\"\n",
        "    self.twod = twod\n",
        "    self.axis = axis\n",
        "\n",
        "  def convert_to_list(self, x: pd.Series) -> list:\n",
        "    \"\"\"Converts a Pandas Series or a list of strings to a list of lists,\n",
        "        where each sublist contains the tokens of a document.\n",
        "\n",
        "    Args:\n",
        "        x: A Pandas Series or a list of strings.\n",
        "\n",
        "    Returns:\n",
        "        A list of lists, where each sublist contains the tokens of a document.\n",
        "        If input is already a list of lists it returns the same object\n",
        "\n",
        "    Raises:\n",
        "        TypeError: If input is not a Pandas Series or a list.\n",
        "    \"\"\"\n",
        "    if isinstance(x, pd.Series):\n",
        "      return x.apply(lambda x: x.split()).tolist()\n",
        "    elif isinstance(x, list):\n",
        "      return x\n",
        "    else:\n",
        "      raise TypeError(\"Input must be a Pandas Series or a list.\")\n",
        "\n",
        "  def train_w2v_model(self, x: list) -> Word2Vec:\n",
        "    \"\"\"Trains a Word2Vec model on the input data.\n",
        "\n",
        "    Args:\n",
        "        x: A list of lists, where each inner list represents the words\n",
        "           of a document.\n",
        "\n",
        "    Returns:\n",
        "        A trained Word2Vec model.\n",
        "    \"\"\"\n",
        "    trained_w2v = Word2Vec(x, window=5, min_count=1)\n",
        "    return trained_w2v\n",
        "\n",
        "  def extract_word_embedding(self, x: str) -> list:\n",
        "    \"\"\"Extracts word embeddings for each word in a string.\n",
        "\n",
        "    Uses the trained Word2Vec model to extract embeddings.\n",
        "\n",
        "    Args:\n",
        "        x: A string representing a text document.\n",
        "\n",
        "    Returns:\n",
        "        A list of word embeddings for the words in the input string.\n",
        "    \"\"\"\n",
        "    word_embedding_list = [self.trained_w2v.wv[word] for word in x if word in self.vocab]\n",
        "    return word_embedding_list\n",
        "\n",
        "  def apply_word2vec_to_series(self, x: pd.Series) -> list:\n",
        "    \"\"\"Applies the Word2Vec model to a pandas Series of text documents.\n",
        "\n",
        "    Args:\n",
        "        x: A pandas Series of text documents.\n",
        "\n",
        "    Returns:\n",
        "        A list of lists, where each inner list contains the word embeddings\n",
        "        for a document.\n",
        "    \"\"\"\n",
        "    embedded_sentences = [self.extract_word_embedding(item) for item in self.convert_to_list(x)]\n",
        "    return embedded_sentences\n",
        "\n",
        "  def avg_of_word2vec(self) -> np.ndarray:\n",
        "    \"\"\"Calculates the average word embedding for each document.\n",
        "\n",
        "    Returns:\n",
        "        A NumPy array where each row represents the average word embedding\n",
        "        for a document.\n",
        "    \"\"\"\n",
        "    return np.array([np.mean(item, axis=self.axis) for item in self.embedded_sentences])\n",
        "\n",
        "  def fit(self, x: pd.Series):\n",
        "    \"\"\"Trains the Word2Vec model on the input data.\n",
        "\n",
        "    Args:\n",
        "        x: A pandas Series of text data.\n",
        "\n",
        "    Returns:\n",
        "        The transformer object itself (self).\n",
        "    \"\"\"\n",
        "    list_of_docs = self.convert_to_list(x)\n",
        "    self.trained_w2v = self.train_w2v_model(list_of_docs)\n",
        "    self.vocab = self.trained_w2v.wv.index_to_key\n",
        "    self.max_length = max(len(doc) for doc in list_of_docs)\n",
        "    return self\n",
        "\n",
        "  def transform(self, x: pd.Series) -> np.ndarray:\n",
        "    \"\"\"Transforms the input data using the trained Word2Vec model.\n",
        "\n",
        "    Args:\n",
        "        x: A pandas Series of text data.\n",
        "\n",
        "    Returns:\n",
        "        A NumPy array representing the transformed data.\n",
        "    \"\"\"\n",
        "    if not hasattr(self, \"trained_w2v\"):\n",
        "      raise ValueError(\"Model not fitted. Please call fit() first.\")\n",
        "    self.embedded_sentences = self.apply_word2vec_to_series(x)\n",
        "\n",
        "    padded_sentences = []\n",
        "    for sentence in self.embedded_sentences:\n",
        "      if len(sentence) < self.max_length:\n",
        "        padding = [[0] * self.trained_w2v.vector_size] * (self.max_length - len(sentence))\n",
        "        sentence = sentence + padding\n",
        "      padded_sentences.append(sentence)\n",
        "    self.embedded_sentences = padded_sentences\n",
        "\n",
        "    if self.twod:\n",
        "      return self.avg_of_word2vec()\n",
        "    else:\n",
        "      return np.array(self.embedded_sentences)\n",
        "\n",
        "  def fit_transform(self, x: pd.Series, y: Union[pd.Series, None] = None) -> np.ndarray:\n",
        "    \"\"\"Fit the transformer and transform the input data.\n",
        "\n",
        "    Fits the Word2Vec model and transforms the input text data into word embeddings.\n",
        "\n",
        "    Args:\n",
        "        X: A Pandas Series containing the text data.\n",
        "        y: Ignored. This parameter exists for compatibility with scikit-learn pipelines.\n",
        "\n",
        "    Returns:\n",
        "        A NumPy array containing the word embeddings. If `self.twod` is True,\n",
        "        returns the average word embeddings for each document. If `self.twod` is\n",
        "        False, returns the padded embedded sentences.\n",
        "    \"\"\"\n",
        "    self.fit(x)\n",
        "    return self.transform(x)\n",
        "\n",
        "  def get_params(self, deep=True):\n",
        "    \"\"\"Gets parameters for this estimator.\n",
        "\n",
        "    Args:\n",
        "        deep (bool): If True, will return the parameters for this estimator and\n",
        "            contained subobjects that are estimators.\n",
        "\n",
        "    Returns:\n",
        "        dict: Parameter names mapped to their values.\n",
        "    \"\"\"\n",
        "    return {\"twod\": self.twod, \"axis\": self.axis}\n",
        "\n",
        "  def set_params(self, **parameters):\n",
        "    \"\"\"Set the parameters of this estimator.\n",
        "\n",
        "    Args:\n",
        "        **parameters: Estimator parameters.\n",
        "\n",
        "    Returns:\n",
        "        self: Estimator instance.\n",
        "    \"\"\"\n",
        "    for parameter, value in parameters.items():\n",
        "      setattr(self, parameter, value)\n",
        "    return self"
      ],
      "metadata": {
        "id": "_J9yH9_AFOtf"
      },
      "execution_count": null,
      "outputs": []
    },
    {
      "cell_type": "markdown",
      "source": [
        "## Final `PretrainedWordToVector`\n",
        "- To use pre-trained word2vec"
      ],
      "metadata": {
        "id": "EvlaMf6fH4wK"
      }
    },
    {
      "cell_type": "code",
      "source": [
        "import gensim\n",
        "import numpy as np\n",
        "import pandas as pd\n",
        "from typing import Optional, Union\n",
        "from gensim.models import KeyedVectors\n",
        "from sklearn.base import TransformerMixin\n",
        "class PretrainedWordToVector(TransformerMixin):\n",
        "  \"\"\"\n",
        "    Transforms text data using pre-trained word embeddings.\n",
        "\n",
        "    This class allows you to load pre-trained word embedding models\n",
        "    and use them to transform text data into numerical representations.\n",
        "    It supports loading models from separate model and vector files or using\n",
        "    a pre-loaded Gensim model. It also provides options for padding and\n",
        "    dimensionality reduction.\n",
        "    \"\"\"\n",
        "  def __init__(self, model_file: Optional[str] = None, vectors_file: Optional[str] = None,\n",
        "                twod: bool = True, axis: int = 0,\n",
        "                gensim_model: Optional[gensim.models.keyedvectors.KeyedVectors] = None,\n",
        "                padding: str = \"pre\", batch_size: Optional[int] = None):\n",
        "    \"\"\"\n",
        "    Initializes PretrainedWordToVector.\n",
        "\n",
        "    Parameters\n",
        "    ----------\n",
        "    model_file : str, optional\n",
        "        Path to the word embedding model file.\n",
        "    vectors_file : str, optional\n",
        "        Path to the word vectors file.\n",
        "    twod : bool, default=True\n",
        "        Whether to reduce the dimensionality to two dimensions.\n",
        "    axis : int, default=0\n",
        "        Axis along which to calculate the mean for dimensionality reduction.\n",
        "    gensim_model : gensim.models.keyedvectors.KeyedVectors, optional\n",
        "        Pre-loaded Gensim word embedding model.\n",
        "    padding : str, default=\"pre\"\n",
        "        Type of padding to use (\"pre\" or \"post\").\n",
        "    batch_size : int, optional\n",
        "        Batch size for processing data (None for no batching).\n",
        "    \"\"\"\n",
        "    self.model_file = model_file\n",
        "    self.vectors_file = vectors_file\n",
        "    self.gensim_model = gensim_model\n",
        "    self.twod = twod\n",
        "    self.axis = axis\n",
        "    self.wv = None  # Initialize wv here\n",
        "    self.padding = padding\n",
        "    self.batch_size = batch_size\n",
        "\n",
        "  def convert_to_list(self, x: pd.Series) -> list:\n",
        "    \"\"\"\n",
        "    Converts input data to a list of lists.\n",
        "\n",
        "    Parameters\n",
        "    ----------\n",
        "    x : pd.Series\n",
        "        Input data as a Pandas Series.\n",
        "\n",
        "    Returns\n",
        "    -------\n",
        "    list\n",
        "        List of lists, where each inner list represents a document as a list of words.\n",
        "    \"\"\"\n",
        "    if isinstance(x, pd.Series):\n",
        "      return [doc.split() for doc in x] # Optimized code\n",
        "    elif isinstance(x, list):\n",
        "      return x\n",
        "    else:\n",
        "      raise TypeError(\"Input must be a Pandas Series or a list.\")\n",
        "\n",
        "  def gensim_model_vectors(self) -> gensim.models.keyedvectors.KeyedVectors:\n",
        "    \"\"\"\n",
        "    Loads word vectors from model and vectors files or uses a pre-loaded model.\n",
        "\n",
        "    Returns\n",
        "    -------\n",
        "    gensim.models.keyedvectors.KeyedVectors\n",
        "        Loaded word vectors.\n",
        "    \"\"\"\n",
        "    if (self.model_file) and (self.vectors_file):\n",
        "      self.wv = KeyedVectors.load(self.model_file, mmap='r')\n",
        "      self.wv.vectors = np.load(self.vectors_file, mmap_mode=\"r\")\n",
        "    else:\n",
        "      self.wv = self.gensim_model\n",
        "    return self.wv\n",
        "\n",
        "  def perform_w2v(self, x: list) -> list:\n",
        "    \"\"\"\n",
        "    Performs word embedding lookup for a given sentence.\n",
        "\n",
        "    Parameters\n",
        "    ----------\n",
        "    x : list\n",
        "        Input sentence as a list of words.\n",
        "\n",
        "    Returns\n",
        "    -------\n",
        "    list\n",
        "        List of word embeddings for the input sentence.\n",
        "    \"\"\"\n",
        "    # Optimized code\n",
        "    sent_norm = [self.wv[word]\n",
        "                  for word in x\n",
        "                  if word in self.wv and word in self.train_vocab]\n",
        "    return sent_norm\n",
        "\n",
        "  def fit(self, X: pd.Series, y: None = None) -> \"PretrainedWordToVector\":\n",
        "    \"\"\"\n",
        "    Fits the transformer on the input data.\n",
        "\n",
        "    Parameters\n",
        "    ----------\n",
        "    X : pd.Series\n",
        "        Input data as a Pandas Series.\n",
        "    y : Ignored\n",
        "        Not used, present here for compatibility with scikit-learn API.\n",
        "\n",
        "    Returns\n",
        "    -------\n",
        "    self\n",
        "        Fitted transformer.\n",
        "    \"\"\"\n",
        "    list_of_docs = self.convert_to_list(X)\n",
        "    self.train_vocab = {word for sent in list_of_docs for word in sent}\n",
        "    self.max_length = max(len(doc) for doc in list_of_docs)\n",
        "\n",
        "    return self\n",
        "\n",
        "  def transform(self, X: pd.Series, y: None = None) -> Union[np.ndarray, np.ndarray]:\n",
        "    \"\"\"\n",
        "    Transforms the input data using the loaded word vectors.\n",
        "\n",
        "    Performs word embedding lookup for each sentence in the input data.\n",
        "    Handles out-of-vocabulary words and applies padding to ensure\n",
        "    consistent sentence lengths. Optionally performs dimensionality\n",
        "    reduction by calculating the mean of the word embeddings.\n",
        "\n",
        "    Supports batch processing for large datasets.\n",
        "\n",
        "    Parameters\n",
        "    ----------\n",
        "    X : pd.Series\n",
        "        Input data as a Pandas Series.\n",
        "    y : Ignored\n",
        "        Not used, present here for compatibility with scikit-learn API.\n",
        "\n",
        "    Returns\n",
        "    -------\n",
        "    Union[np.ndarray, np.ndarray]\n",
        "        Transformed data. If `self.twod` is True, it returns a 2D array of mean\n",
        "        embeddings (dimensionality reduction). Otherwise, it returns the full 3D\n",
        "        array of padded embeddings.\n",
        "    \"\"\"\n",
        "    if not hasattr(self, \"train_vocab\"):\n",
        "      raise ValueError(\"Model not fitted. Please call fit() first.\")\n",
        "\n",
        "    if self.wv is None:\n",
        "      # Load the model in transform if it's not already loaded\n",
        "      self.gensim_model_vectors()\n",
        "\n",
        "    list_of_docs = self.convert_to_list(X)\n",
        "\n",
        "    if self.batch_size is None:\n",
        "      pt_word2vec = [self.perform_w2v(sent) for sent in list_of_docs]\n",
        "    else:\n",
        "      pt_word2vec = []\n",
        "      for i in range(0, len(list_of_docs), self.batch_size):\n",
        "        batch = list_of_docs[i : i + self.batch_size]\n",
        "        pt_word2vec.extend([self.perform_w2v(sent) for sent in batch])\n",
        "\n",
        "    padded_embeddings = np.zeros((len(pt_word2vec), self.max_length, self.wv.vector_size))\n",
        "    for i, sent in enumerate(pt_word2vec):\n",
        "      if sent:\n",
        "        if self.padding == 'post':\n",
        "          padded_embeddings[i, :len(sent)] = sent\n",
        "        elif self.padding == 'pre':\n",
        "          padded_embeddings[i, -len(sent):] = sent\n",
        "        else:\n",
        "          raise ValueError(\"Invalid padding type. Choose 'pre' or 'post'.\")\n",
        "\n",
        "    if self.twod:\n",
        "      return np.array([np.mean(item, axis=self.axis) for item in padded_embeddings])\n",
        "    else:\n",
        "      return padded_embeddings\n",
        "\n",
        "  def get_params(self, deep=True):\n",
        "    \"\"\"\n",
        "    Get parameters for this estimator.\n",
        "\n",
        "    Parameters\n",
        "    ----------\n",
        "    deep : bool, default=True\n",
        "        If True, will return the parameters for this estimator and\n",
        "        contained subobjects that are estimators.\n",
        "\n",
        "    Returns\n",
        "    -------\n",
        "    params : dict\n",
        "        Parameter names mapped to their values.\n",
        "    \"\"\"\n",
        "    return {\n",
        "        \"model_file\": self.model_file,\n",
        "        \"vectors_file\": self.vectors_file,\n",
        "        \"twod\": self.twod,\n",
        "        \"axis\": self.axis,\n",
        "        \"batch_size\": self.batch_size,\n",
        "        \"padding\": self.padding,\n",
        "    }\n",
        "\n",
        "  def set_params(self, **parameters):\n",
        "    \"\"\"\n",
        "    Set the parameters of this estimator.\n",
        "\n",
        "    The method works on simple estimators as well as on nested objects\n",
        "    (such as pipelines). The latter have parameters of the form\n",
        "    ``<component>__<parameter>`` such that one can update each\n",
        "    component of a nested object.\n",
        "\n",
        "    Parameters\n",
        "    ----------\n",
        "    **parameters : dict\n",
        "        Parameter names mapped to their values.\n",
        "\n",
        "    Returns\n",
        "    -------\n",
        "    self : estimator instance\n",
        "        Estimator instance.\n",
        "    \"\"\"\n",
        "    for parameter, value in parameters.items():\n",
        "      setattr(self, parameter, value)\n",
        "    return self"
      ],
      "metadata": {
        "id": "ry9b4nr5Hvj9"
      },
      "execution_count": null,
      "outputs": []
    },
    {
      "cell_type": "markdown",
      "source": [
        "## Final `WordVectors`\n",
        "- To integret `CleanCorpusTransformer`, `ManualWordToVector` and `PretrainedWordToVector`"
      ],
      "metadata": {
        "id": "Qq5HgDG7Ldzf"
      }
    },
    {
      "cell_type": "code",
      "source": [
        "import numpy as np\n",
        "import pandas as pd\n",
        "import scipy\n",
        "from typing import Union, Tuple\n",
        "from sklearn.base import TransformerMixin\n",
        "from sklearn.feature_extraction.text import CountVectorizer, TfidfVectorizer\n",
        "\n",
        "class WordVectors(TransformerMixin):\n",
        "  \"\"\"\n",
        "  Transforms a text corpus into numerical word vectors.\n",
        "\n",
        "  This class provides a flexible way to vectorize text data using different\n",
        "  techniques, including CountVectorizer, TfidfVectorizer, ManualWordToVector,\n",
        "  and PretrainedWordToVector. It also incorporates text cleaning using the\n",
        "  CleanCorpusTransformer.\n",
        "\n",
        "  Args:\n",
        "      vectorizer (str, optional): The vectorization method to use.\n",
        "                                  Options are 'count', 'tfidf', 'manualw2v',\n",
        "                                  or 'pretrainedw2v'. Defaults to 'count'.\n",
        "      emoji (bool, optional): Whether to consider emojis during cleaning.\n",
        "                              Defaults to False.\n",
        "      stop_words (bool, optional): Whether to remove stop words during cleaning.\n",
        "                                  Defaults to False.\n",
        "\n",
        "  Attributes:\n",
        "      cleaner (CleanCorpusTransformer): The transformer for cleaning the corpus.\n",
        "      vectorizer: The vectorizer object (CountVectorizer, TfidfVectorizer,\n",
        "                  ManualWordToVector, or PretrainedWordToVector).\n",
        "  \"\"\"\n",
        "  def __init__(\n",
        "      self, vectorizer: str = \"count\", emoji: bool = False, stop_words: bool = False\n",
        "  ) -> None:\n",
        "    \"\"\"\n",
        "    Initializes the WordVectors transformer.\n",
        "\n",
        "    Creates a CleanCorpusTransformer for text cleaning and initializes\n",
        "    the specified vectorizer based on the `vectorizer` argument.\n",
        "\n",
        "    Args:\n",
        "        vectorizer (str, optional): The type of vectorizer to use.\n",
        "                                    Options are 'count', 'tfidf', 'manualw2v',\n",
        "                                    or 'pretrainedw2v'. Defaults to 'count'.\n",
        "        emoji (bool, optional): Whether to handle emojis during cleaning.\n",
        "                                Defaults to False.\n",
        "        stop_words (bool, optional): Whether to remove stop words during cleaning.\n",
        "                                    Defaults to False.\n",
        "    \"\"\"\n",
        "    self.cleaner = CleanCorpusTransformer(emoji=emoji, stop_words=stop_words)\n",
        "    self.vectorizer = self._init_vectorizer(vectorizer)\n",
        "\n",
        "  def _init_vectorizer(self, vectorizer_type: str):\n",
        "    \"\"\"\n",
        "    Initializes the specified vectorizer based on the `vectorizer_type` argument.\n",
        "\n",
        "    Args:\n",
        "        vectorizer_type (str): The type of vectorizer to initialize.\n",
        "\n",
        "    Returns:\n",
        "        An instance of the specified vectorizer (CountVectorizer,\n",
        "        TfidfVectorizer, ManualWordToVector, or PretrainedWordToVector).\n",
        "\n",
        "    Raises:\n",
        "        ValueError: If an invalid `vectorizer_type` is provided.\n",
        "    \"\"\"\n",
        "    if vectorizer_type == \"count\":\n",
        "      return CountVectorizer(binary=True)\n",
        "    elif vectorizer_type == \"tfidf\":\n",
        "      return TfidfVectorizer(binary=True)\n",
        "    elif vectorizer_type == \"manualw2v\":\n",
        "      return ManualWordToVector()\n",
        "    elif vectorizer_type == \"pretrainedw2v\":\n",
        "      return PretrainedWordToVector()\n",
        "    else:\n",
        "      raise ValueError(f\"Invalid vectorizer type: {vectorizer_type}. Choose from: 'count', 'tfidf', 'manualw2v', 'pretrainedw2v'.\")\n",
        "\n",
        "  def fit(self, corpus: pd.Series, y:Union[pd.Series, None]=None) -> \"WordVectors\":\n",
        "    \"\"\"\n",
        "    Fits the WordVectors transformer on the corpus.\n",
        "\n",
        "    This method cleans the corpus using the CleanCorpusTransformer and then\n",
        "    fits the specified vectorizer to the cleaned data.\n",
        "\n",
        "    Args:\n",
        "        corpus (pd.Series): The text data to fit the transformer on.\n",
        "\n",
        "    Returns:\n",
        "        WordVectors: The fitted transformer object.\n",
        "    \"\"\"\n",
        "    cleaned_corpus = self.cleaner.fit_transform(corpus)\n",
        "    if (self.vectorizer==\"manualw2v\") or (self.vectorizer==\"pretrainedw2v\"):\n",
        "      cleaned_corpus = cleaned_corpus.apply(lambda x: x.split()).tolist()\n",
        "      self.vectorizer.fit(cleaned_corpus)\n",
        "    else:\n",
        "      self.vectorizer.fit(cleaned_corpus)\n",
        "    return self\n",
        "    # if isinstance(self.vectorizer, ManualWordToVector) or isinstance(self.vectorizer, PretrainedWordToVector):\n",
        "    #   cleaned_corpus = cleaned_corpus.apply(lambda x: x.split()).tolist()\n",
        "    #   self.vectorizer.fit(cleaned_corpus)\n",
        "    # else:\n",
        "    #   self.vectorizer.fit(cleaned_corpus)\n",
        "    # return self\n",
        "\n",
        "  def transform(\n",
        "      self, corpus: pd.Series, y:Union[pd.Series, None]=None\n",
        "  ) -> Union[scipy.sparse.csr_matrix, np.ndarray, Tuple[np.ndarray, pd.Series]]:\n",
        "    \"\"\"\n",
        "    Transforms the corpus into word vectors.\n",
        "\n",
        "    This method cleans the corpus using the CleanCorpusTransformer and then\n",
        "    transforms the cleaned data into word vectors using the specified\n",
        "    vectorizer.\n",
        "\n",
        "    Args:\n",
        "        corpus (pd.Series): The text data to be transformed.\n",
        "\n",
        "    Returns:\n",
        "        The word vectors in the appropriate format (scipy.sparse.csr_matrix,\n",
        "        np.ndarray, or a tuple of np.ndarray and pd.Series).\n",
        "    \"\"\"\n",
        "    cleaned_corpus = self.cleaner.transform(corpus)\n",
        "    if (self.vectorizer==\"manualw2v\") or (self.vectorizer==\"pretrainedw2v\"):\n",
        "      cleaned_corpus = cleaned_corpus.apply(lambda x: x.split()).tolist()\n",
        "      word_vectors = self.vectorizer.transform(cleaned_corpus) # Explicitly set twod and threed\n",
        "    else:\n",
        "      word_vectors = self.vectorizer.transform(cleaned_corpus)\n",
        "    return word_vectors"
      ],
      "metadata": {
        "id": "1sdKHoTLLYCy"
      },
      "execution_count": null,
      "outputs": []
    },
    {
      "cell_type": "markdown",
      "source": [
        "## Final `ClassWeightsTransformer`\n",
        "- To Provide class weights to handle class imbalance"
      ],
      "metadata": {
        "id": "JRf3T1qZdrJp"
      }
    },
    {
      "cell_type": "code",
      "source": [
        "import numpy as np\n",
        "import random\n",
        "from sklearn.linear_model import LogisticRegression\n",
        "from sklearn.metrics import f1_score, accuracy_score, balanced_accuracy_score, precision_score, recall_score\n",
        "from sklearn.base import TransformerMixin\n",
        "from sklearn.model_selection import train_test_split\n",
        "\n",
        "class ClassWeightsTransformer(TransformerMixin):\n",
        "  \"\"\"\n",
        "  Transformer for calculating and applying class weights to address class imbalance.\n",
        "\n",
        "  This transformer determines the best class weighting method based on a\n",
        "  specified evaluation metric and applies the corresponding weights during model training.\n",
        "\n",
        "  Parameters\n",
        "  ----------\n",
        "  model : estimator object, default=LogisticRegression()\n",
        "      The base model used to evaluate different weighting methods.\n",
        "  metric : str, default='f1_weighted'\n",
        "      The evaluation metric used to select the best weighting method.\n",
        "  neutral_boost : float, default=2.0\n",
        "      A multiplier for the weight of the neutral class (class 1).\n",
        "\n",
        "  Attributes\n",
        "  ----------\n",
        "  classes_ : ndarray of shape (n_classes,)\n",
        "      The classes labels.\n",
        "  counts_ : ndarray of shape (n_classes,)\n",
        "      The number of samples in each class.\n",
        "  num_classes_ : int\n",
        "      The number of classes.\n",
        "  weights_ : dict\n",
        "      The best class weights found during fitting.\n",
        "  \"\"\"\n",
        "  def __init__(self, model=LogisticRegression(), metric='f1_weighted', neutral_boost=2.0):\n",
        "    \"\"\"\n",
        "    Initializes the ClassWeightsTransformer with a model, metric, and boost factor.\n",
        "\n",
        "    Args:\n",
        "        model (estimator): A scikit-learn estimator for score calculation\n",
        "                            (default: LogisticRegression).\n",
        "        metric (str): Evaluation metric used for score calculation\n",
        "                      (default: 'f1_weighted').\n",
        "        neutral_boost (float): Boost factor for neutral class weight\n",
        "                                (default: 2.0).\n",
        "    \"\"\"\n",
        "    self.model = model\n",
        "    self.metric = metric\n",
        "    self.neutral_boost = neutral_boost\n",
        "    self.weights_ = None\n",
        "\n",
        "  def fit(self, X, y):\n",
        "    \"\"\"\n",
        "    Fit the transformer to the data and determine the best class weights.\n",
        "\n",
        "    Parameters\n",
        "    ----------\n",
        "    X : array-like of shape (n_samples, n_features)\n",
        "        The training input samples.\n",
        "    y : array-like of shape (n_samples,)\n",
        "        The target values.\n",
        "\n",
        "    Returns\n",
        "    -------\n",
        "    self : object\n",
        "        Returns self.\n",
        "    \"\"\"\n",
        "    self.classes_, self.counts_ = np.unique(y, return_counts=True)\n",
        "    self.X = X\n",
        "    self.y = y\n",
        "    self.num_classes_ = len(self.classes_)\n",
        "    self.find_best_weights(X, y)  # Call find_best_weights here\n",
        "    return self\n",
        "\n",
        "  def transform(self, X):\n",
        "    \"\"\"\n",
        "    Transform the data - does not apply any transformation in this case.\n",
        "\n",
        "    Parameters\n",
        "    ----------\n",
        "    X : array-like of shape (n_samples, n_features)\n",
        "        The input samples.\n",
        "\n",
        "    Returns\n",
        "    -------\n",
        "    X : array-like of shape (n_samples, n_features)\n",
        "        The unchanged input samples.\n",
        "    \"\"\"\n",
        "    return X  # No modification in transform\n",
        "\n",
        "  def find_best_weights(self, X, y, num_iterations=5, score_range=(0.1, 0.9)):\n",
        "    \"\"\"\n",
        "    Determines the best class weighting method for the given data and model.\n",
        "\n",
        "    This method performs a search to identify the optimal class weighting\n",
        "    strategy for the provided dataset and model. It evaluates different\n",
        "    weighting techniques and selects the one that yields the highest score\n",
        "    based on the specified evaluation metric.\n",
        "\n",
        "    The search process involves two main steps:\n",
        "\n",
        "    1. **Random Score Optimization:**\n",
        "        - Generates random scores for each class within a specified range.\n",
        "        - Calculates class weights using the `score_weighted` method with\n",
        "          these random scores.\n",
        "        - Trains the model using these weights and evaluates its performance\n",
        "          on a validation set.\n",
        "        - Repeats this process for a defined number of iterations, storing\n",
        "          the scores that result in the best average score.\n",
        "\n",
        "    2. **Weighting Method Evaluation:**\n",
        "        - Evaluates a set of predefined weighting methods:\n",
        "          - `balanced`: Assigns weights inversely proportional to class\n",
        "            frequencies.\n",
        "          - `sqrt_inv_freq_weights`: Assigns weights inversely proportional\n",
        "            to the square root of class frequencies.\n",
        "          - `effective_sample_size_weights`: Calculates weights based on\n",
        "            effective sample size.\n",
        "          - `inverse_weights`: Assigns weights inversely proportional to the\n",
        "            best scores found in the random score optimization step.\n",
        "        - For each method, calculates class weights, trains the model, and\n",
        "          evaluates its performance on the validation set.\n",
        "\n",
        "    After evaluating all methods, the method with the highest score is\n",
        "    selected, and its corresponding weights are stored in the `weights_`\n",
        "    attribute.\n",
        "\n",
        "    Args:\n",
        "        num_iterations (int, optional): The number of iterations for random\n",
        "                                        score search (default: 5).\n",
        "        score_range (tuple, optional): The range for generating random\n",
        "                                        scores (default: (0.1, 0.9)).\n",
        "\n",
        "    \"\"\"\n",
        "    best_method = None\n",
        "    best_weights = None\n",
        "    best_score = 0\n",
        "\n",
        "    X_train, X_val, y_train, y_val = train_test_split(\n",
        "        X, y, test_size=0.2, random_state=42\n",
        "    )\n",
        "\n",
        "    best_scores = None\n",
        "    best_avg_score = 0\n",
        "\n",
        "    model = self.model.__class__()\n",
        "\n",
        "    for _ in range(num_iterations):\n",
        "      scores = [random.uniform(*score_range) for _ in range(self.num_classes_)]\n",
        "      class_weights = self.score_weighted(scores)\n",
        "      sample_weights = np.array([class_weights[y] for y in y_train])\n",
        "      model.fit(X_train, y_train, sample_weight=sample_weights)\n",
        "      y_pred = model.predict(X_val)\n",
        "\n",
        "      scores_after_training = [class_weights[i] * self.counts_[i] for i in range(self.num_classes_)]\n",
        "      avg_score = np.mean(scores_after_training)\n",
        "\n",
        "      if avg_score > best_avg_score:\n",
        "          best_avg_score = avg_score\n",
        "          best_scores = scores\n",
        "\n",
        "    methods = [\n",
        "        self.balanced,\n",
        "        self.sqrt_inv_freq_weights,\n",
        "        self.effective_sample_size_weights,\n",
        "        lambda: self.inverse_weights(best_scores),\n",
        "        ]\n",
        "\n",
        "    for method in methods:\n",
        "      weights = method()\n",
        "      sample_weights = np.array([weights[y] for y in y_train])\n",
        "      model = self.model.__class__()\n",
        "      model.fit(X_train, y_train, sample_weight=sample_weights)\n",
        "      y_pred = model.predict(X_val)\n",
        "      score = self._evaluate(y_val, y_pred)\n",
        "\n",
        "      if score > best_score:\n",
        "          best_score = score\n",
        "          best_method = method.__name__\n",
        "          best_weights = weights\n",
        "\n",
        "    self.weights_ = best_weights\n",
        "    print(f\"Best weights: {self.weights_}\")\n",
        "\n",
        "  def balanced(self):\n",
        "    \"\"\"\n",
        "    Calculate balanced class weights.\n",
        "\n",
        "    Returns\n",
        "    -------\n",
        "    class_weight_dict : dict\n",
        "        Dictionary of class weights.\n",
        "    \"\"\"\n",
        "    class_weights = 1.0 / self.counts_\n",
        "    normalized_weights = class_weights / np.sum(class_weights)\n",
        "    class_weight_dict = {i: weight for i, weight in enumerate(normalized_weights)}\n",
        "    return class_weight_dict\n",
        "\n",
        "  def sqrt_inv_freq_weights(self):\n",
        "    \"\"\"\n",
        "    Calculate class weights using the square root of inverse frequency.\n",
        "\n",
        "    Returns\n",
        "    -------\n",
        "    class_weight_dict : dict\n",
        "        Dictionary of class weights.\n",
        "    \"\"\"\n",
        "    weights = 1.0 / np.sqrt(self.counts_)\n",
        "    normalized_weights = weights / np.sum(weights)\n",
        "    class_weight_dict = {i: weight for i, weight in enumerate(normalized_weights)}\n",
        "    return class_weight_dict\n",
        "\n",
        "  def effective_sample_size_weights(self, beta=0.9999):\n",
        "    \"\"\"\n",
        "    Calculate class weights using effective sample size.\n",
        "\n",
        "    Parameters\n",
        "    ----------\n",
        "    beta : float, default=0.9999\n",
        "        Parameter for effective sample size calculation.\n",
        "\n",
        "    Returns\n",
        "    -------\n",
        "    class_weight_dict : dict\n",
        "        Dictionary of class weights.\n",
        "    \"\"\"\n",
        "    effective_num = 1.0 - np.power(beta, self.counts_)\n",
        "    weights = (1.0 - beta) / np.array(effective_num)\n",
        "    normalized_weights = weights / np.sum(weights)\n",
        "    class_weight_dict = {i: weight for i, weight in enumerate(normalized_weights)}\n",
        "    return class_weight_dict\n",
        "\n",
        "  def score_weighted(self, scores):\n",
        "    \"\"\"\n",
        "    Calculate class weights based on scores.\n",
        "\n",
        "    Parameters\n",
        "    ----------\n",
        "    scores : list\n",
        "        List of scores for each class.\n",
        "\n",
        "    Returns\n",
        "    -------\n",
        "    class_weight_dict : dict\n",
        "        Dictionary of class weights.\n",
        "    \"\"\"\n",
        "    weighted_score = scores * self.counts_\n",
        "    inv_weighted_score = 1.0 / weighted_score\n",
        "    normalized_weights = inv_weighted_score / np.sum(inv_weighted_score)\n",
        "    class_weight_dict = {i: weight for i,weight in enumerate(normalized_weights)}\n",
        "    return class_weight_dict\n",
        "\n",
        "  def inverse_weights(self, scores):\n",
        "    \"\"\"\n",
        "    Calculate inverse class weights based on scores and apply neutral boost.\n",
        "\n",
        "    Parameters\n",
        "    ----------\n",
        "    scores : list\n",
        "        List of scores for each class.\n",
        "\n",
        "    Returns\n",
        "    -------\n",
        "    class_weight_dict : dict\n",
        "        Dictionary of class weights.\n",
        "    \"\"\"\n",
        "    scores = np.array(scores)\n",
        "    class_weights = 1.0 / scores\n",
        "    normalized_weights = class_weights / np.sum(class_weights)\n",
        "    class_weight_dict = {i: weight for i, weight in enumerate(normalized_weights)}\n",
        "\n",
        "    class_weight_dict[1] = class_weight_dict[1] * self.neutral_boost\n",
        "    if self.neutral_boost != 1:\n",
        "      normalized_weights = np.array(list(class_weight_dict.values())) / np.sum(\n",
        "          list(class_weight_dict.values())\n",
        "      )\n",
        "      class_weight_dict = {i: weight for i, weight in enumerate(normalized_weights)}\n",
        "\n",
        "    return class_weight_dict\n",
        "\n",
        "  def _evaluate(self, y_true, y_pred):\n",
        "    \"\"\"\n",
        "    Evaluate the model using the specified metric.\n",
        "\n",
        "    Parameters\n",
        "    ----------\n",
        "    y_true : array-like of shape (n_samples,)\n",
        "        True labels.\n",
        "    y_pred : array-like of shape (n_samples,)\n",
        "        Predicted labels.\n",
        "\n",
        "    Returns\n",
        "    -------\n",
        "    score : float\n",
        "        The evaluation score.\n",
        "    \"\"\"\n",
        "    metrics = {\n",
        "        'accuracy': lambda y_true, y_pred: accuracy_score(y_true, y_pred),\n",
        "        'balanced_accuracy': lambda y_true, y_pred: balanced_accuracy_score(y_true, y_pred),\n",
        "        'f1_macro': lambda y_true, y_pred: f1_score(y_true, y_pred, average='macro'),\n",
        "        'f1_micro': lambda y_true, y_pred: f1_score(y_true, y_pred, average='micro'),\n",
        "        'f1_samples': lambda y_true, y_pred: f1_score(y_true, y_pred, average='samples'),\n",
        "        'f1_weighted': lambda y_true, y_pred: f1_score(y_true, y_pred, average='weighted'),\n",
        "        'precision_weighted': lambda y_true, y_pred: precision_score(y_true, y_pred, average='weighted'),\n",
        "        'recall_weighted': lambda y_true, y_pred: recall_score(y_true, y_pred, average='weighted'),\n",
        "    }\n",
        "\n",
        "    metric_func = metrics.get(self.metric)\n",
        "    if metric_func:\n",
        "      return metric_func(y_true, y_pred)\n",
        "    else:\n",
        "      raise ValueError(f\"Invalid metric: {self.metric}\")\n",
        "\n",
        "  def get_params(self, deep=True):\n",
        "    \"\"\"\n",
        "    Get parameters for this estimator.\n",
        "\n",
        "    Parameters\n",
        "    ----------\n",
        "    deep : bool, default=True\n",
        "        If True, return the parameters for this estimator and\n",
        "        contained subobjects that are estimators.\n",
        "\n",
        "    Returns\n",
        "    -------\n",
        "    params : dict\n",
        "        Parameter names mapped to their values.\n",
        "    \"\"\"\n",
        "    return {\n",
        "        'model': self.model,\n",
        "        'metric': self.metric,\n",
        "        'neutral_boost': self.neutral_boost,\n",
        "    }\n",
        "\n",
        "  def set_params(self, **parameters):\n",
        "    \"\"\"\n",
        "    Set the parameters of this estimator.\n",
        "\n",
        "    The method works on simple estimators as well as on nested objects\n",
        "    (such as pipelines). The latter have parameters of the form\n",
        "    ``<component>__<parameter>`` so that it's possible to update each\n",
        "    component of a nested object.\n",
        "\n",
        "    Parameters\n",
        "    ----------\n",
        "    **parameters : dict\n",
        "        Estimator parameters.\n",
        "\n",
        "    Returns\n",
        "    -------\n",
        "    self : estimator instance\n",
        "        Estimator instance.\n",
        "    \"\"\"\n",
        "    for parameter, value in parameters.items():\n",
        "      setattr(self, parameter, value)\n",
        "    return self"
      ],
      "metadata": {
        "id": "ZeUfBpx6duHb"
      },
      "execution_count": null,
      "outputs": []
    },
    {
      "cell_type": "markdown",
      "source": [
        "## Import train and validation datasets"
      ],
      "metadata": {
        "id": "biOd4duXWvLJ"
      }
    },
    {
      "cell_type": "markdown",
      "metadata": {
        "id": "UC0cLSVvXHLr"
      },
      "source": [
        "### Import reviews train dataset"
      ]
    },
    {
      "cell_type": "code",
      "execution_count": null,
      "metadata": {
        "id": "6LJ-S-BsXHLs",
        "colab": {
          "base_uri": "https://localhost:8080/",
          "height": 538
        },
        "outputId": "398a1576-5462-4082-f7b1-4e439f6c6e5f"
      },
      "outputs": [
        {
          "output_type": "execute_result",
          "data": {
            "text/plain": [
              "                                             reviews  ratings sentiments  \\\n",
              "0                  All is well\\nBest and comfortable      5.0   positive   \n",
              "1           Awesome ear buds\\nAll over fine and good      5.0   positive   \n",
              "2  Battery charging issue. Need to press earphone...      2.0   negative   \n",
              "3  I really like the design and lighting effects....      5.0   positive   \n",
              "4                    Sound and bass quality is good.      4.0   positive   \n",
              "\n",
              "                                    no_emoji_reviews  \\\n",
              "0                   all be well best and comfortable   \n",
              "1             awesome ear bud all over fine and good   \n",
              "2  battery charge issue need to press earphone ag...   \n",
              "3  really like the design and lighting effect it ...   \n",
              "4                     sound and bass quality be good   \n",
              "\n",
              "                                   yes_emoji_reviews  \\\n",
              "0                   all be well best and comfortable   \n",
              "1             awesome ear bud all over fine and good   \n",
              "2  battery charge issue need to press earphone ag...   \n",
              "3  really like the design and lighting effect it ...   \n",
              "4                     sound and bass quality be good   \n",
              "\n",
              "                                no_stopwords_reviews  \n",
              "0                              well best comfortable  \n",
              "1                          awesome ear bud fine good  \n",
              "2  battery charge issue need press earphone charg...  \n",
              "3  really like design lighting effect feel like b...  \n",
              "4                            sound bass quality good  "
            ],
            "text/html": [
              "\n",
              "  <div id=\"df-8e399caa-0aa5-43aa-883f-5452f6f79537\" class=\"colab-df-container\">\n",
              "    <div>\n",
              "<style scoped>\n",
              "    .dataframe tbody tr th:only-of-type {\n",
              "        vertical-align: middle;\n",
              "    }\n",
              "\n",
              "    .dataframe tbody tr th {\n",
              "        vertical-align: top;\n",
              "    }\n",
              "\n",
              "    .dataframe thead th {\n",
              "        text-align: right;\n",
              "    }\n",
              "</style>\n",
              "<table border=\"1\" class=\"dataframe\">\n",
              "  <thead>\n",
              "    <tr style=\"text-align: right;\">\n",
              "      <th></th>\n",
              "      <th>reviews</th>\n",
              "      <th>ratings</th>\n",
              "      <th>sentiments</th>\n",
              "      <th>no_emoji_reviews</th>\n",
              "      <th>yes_emoji_reviews</th>\n",
              "      <th>no_stopwords_reviews</th>\n",
              "    </tr>\n",
              "  </thead>\n",
              "  <tbody>\n",
              "    <tr>\n",
              "      <th>0</th>\n",
              "      <td>All is well\\nBest and comfortable</td>\n",
              "      <td>5.0</td>\n",
              "      <td>positive</td>\n",
              "      <td>all be well best and comfortable</td>\n",
              "      <td>all be well best and comfortable</td>\n",
              "      <td>well best comfortable</td>\n",
              "    </tr>\n",
              "    <tr>\n",
              "      <th>1</th>\n",
              "      <td>Awesome ear buds\\nAll over fine and good</td>\n",
              "      <td>5.0</td>\n",
              "      <td>positive</td>\n",
              "      <td>awesome ear bud all over fine and good</td>\n",
              "      <td>awesome ear bud all over fine and good</td>\n",
              "      <td>awesome ear bud fine good</td>\n",
              "    </tr>\n",
              "    <tr>\n",
              "      <th>2</th>\n",
              "      <td>Battery charging issue. Need to press earphone...</td>\n",
              "      <td>2.0</td>\n",
              "      <td>negative</td>\n",
              "      <td>battery charge issue need to press earphone ag...</td>\n",
              "      <td>battery charge issue need to press earphone ag...</td>\n",
              "      <td>battery charge issue need press earphone charg...</td>\n",
              "    </tr>\n",
              "    <tr>\n",
              "      <th>3</th>\n",
              "      <td>I really like the design and lighting effects....</td>\n",
              "      <td>5.0</td>\n",
              "      <td>positive</td>\n",
              "      <td>really like the design and lighting effect it ...</td>\n",
              "      <td>really like the design and lighting effect it ...</td>\n",
              "      <td>really like design lighting effect feel like b...</td>\n",
              "    </tr>\n",
              "    <tr>\n",
              "      <th>4</th>\n",
              "      <td>Sound and bass quality is good.</td>\n",
              "      <td>4.0</td>\n",
              "      <td>positive</td>\n",
              "      <td>sound and bass quality be good</td>\n",
              "      <td>sound and bass quality be good</td>\n",
              "      <td>sound bass quality good</td>\n",
              "    </tr>\n",
              "  </tbody>\n",
              "</table>\n",
              "</div>\n",
              "    <div class=\"colab-df-buttons\">\n",
              "\n",
              "  <div class=\"colab-df-container\">\n",
              "    <button class=\"colab-df-convert\" onclick=\"convertToInteractive('df-8e399caa-0aa5-43aa-883f-5452f6f79537')\"\n",
              "            title=\"Convert this dataframe to an interactive table.\"\n",
              "            style=\"display:none;\">\n",
              "\n",
              "  <svg xmlns=\"http://www.w3.org/2000/svg\" height=\"24px\" viewBox=\"0 -960 960 960\">\n",
              "    <path d=\"M120-120v-720h720v720H120Zm60-500h600v-160H180v160Zm220 220h160v-160H400v160Zm0 220h160v-160H400v160ZM180-400h160v-160H180v160Zm440 0h160v-160H620v160ZM180-180h160v-160H180v160Zm440 0h160v-160H620v160Z\"/>\n",
              "  </svg>\n",
              "    </button>\n",
              "\n",
              "  <style>\n",
              "    .colab-df-container {\n",
              "      display:flex;\n",
              "      gap: 12px;\n",
              "    }\n",
              "\n",
              "    .colab-df-convert {\n",
              "      background-color: #E8F0FE;\n",
              "      border: none;\n",
              "      border-radius: 50%;\n",
              "      cursor: pointer;\n",
              "      display: none;\n",
              "      fill: #1967D2;\n",
              "      height: 32px;\n",
              "      padding: 0 0 0 0;\n",
              "      width: 32px;\n",
              "    }\n",
              "\n",
              "    .colab-df-convert:hover {\n",
              "      background-color: #E2EBFA;\n",
              "      box-shadow: 0px 1px 2px rgba(60, 64, 67, 0.3), 0px 1px 3px 1px rgba(60, 64, 67, 0.15);\n",
              "      fill: #174EA6;\n",
              "    }\n",
              "\n",
              "    .colab-df-buttons div {\n",
              "      margin-bottom: 4px;\n",
              "    }\n",
              "\n",
              "    [theme=dark] .colab-df-convert {\n",
              "      background-color: #3B4455;\n",
              "      fill: #D2E3FC;\n",
              "    }\n",
              "\n",
              "    [theme=dark] .colab-df-convert:hover {\n",
              "      background-color: #434B5C;\n",
              "      box-shadow: 0px 1px 3px 1px rgba(0, 0, 0, 0.15);\n",
              "      filter: drop-shadow(0px 1px 2px rgba(0, 0, 0, 0.3));\n",
              "      fill: #FFFFFF;\n",
              "    }\n",
              "  </style>\n",
              "\n",
              "    <script>\n",
              "      const buttonEl =\n",
              "        document.querySelector('#df-8e399caa-0aa5-43aa-883f-5452f6f79537 button.colab-df-convert');\n",
              "      buttonEl.style.display =\n",
              "        google.colab.kernel.accessAllowed ? 'block' : 'none';\n",
              "\n",
              "      async function convertToInteractive(key) {\n",
              "        const element = document.querySelector('#df-8e399caa-0aa5-43aa-883f-5452f6f79537');\n",
              "        const dataTable =\n",
              "          await google.colab.kernel.invokeFunction('convertToInteractive',\n",
              "                                                    [key], {});\n",
              "        if (!dataTable) return;\n",
              "\n",
              "        const docLinkHtml = 'Like what you see? Visit the ' +\n",
              "          '<a target=\"_blank\" href=https://colab.research.google.com/notebooks/data_table.ipynb>data table notebook</a>'\n",
              "          + ' to learn more about interactive tables.';\n",
              "        element.innerHTML = '';\n",
              "        dataTable['output_type'] = 'display_data';\n",
              "        await google.colab.output.renderOutput(dataTable, element);\n",
              "        const docLink = document.createElement('div');\n",
              "        docLink.innerHTML = docLinkHtml;\n",
              "        element.appendChild(docLink);\n",
              "      }\n",
              "    </script>\n",
              "  </div>\n",
              "\n",
              "\n",
              "<div id=\"df-b14fde4b-0c36-4afb-8804-b7d9d651bf09\">\n",
              "  <button class=\"colab-df-quickchart\" onclick=\"quickchart('df-b14fde4b-0c36-4afb-8804-b7d9d651bf09')\"\n",
              "            title=\"Suggest charts\"\n",
              "            style=\"display:none;\">\n",
              "\n",
              "<svg xmlns=\"http://www.w3.org/2000/svg\" height=\"24px\"viewBox=\"0 0 24 24\"\n",
              "     width=\"24px\">\n",
              "    <g>\n",
              "        <path d=\"M19 3H5c-1.1 0-2 .9-2 2v14c0 1.1.9 2 2 2h14c1.1 0 2-.9 2-2V5c0-1.1-.9-2-2-2zM9 17H7v-7h2v7zm4 0h-2V7h2v10zm4 0h-2v-4h2v4z\"/>\n",
              "    </g>\n",
              "</svg>\n",
              "  </button>\n",
              "\n",
              "<style>\n",
              "  .colab-df-quickchart {\n",
              "      --bg-color: #E8F0FE;\n",
              "      --fill-color: #1967D2;\n",
              "      --hover-bg-color: #E2EBFA;\n",
              "      --hover-fill-color: #174EA6;\n",
              "      --disabled-fill-color: #AAA;\n",
              "      --disabled-bg-color: #DDD;\n",
              "  }\n",
              "\n",
              "  [theme=dark] .colab-df-quickchart {\n",
              "      --bg-color: #3B4455;\n",
              "      --fill-color: #D2E3FC;\n",
              "      --hover-bg-color: #434B5C;\n",
              "      --hover-fill-color: #FFFFFF;\n",
              "      --disabled-bg-color: #3B4455;\n",
              "      --disabled-fill-color: #666;\n",
              "  }\n",
              "\n",
              "  .colab-df-quickchart {\n",
              "    background-color: var(--bg-color);\n",
              "    border: none;\n",
              "    border-radius: 50%;\n",
              "    cursor: pointer;\n",
              "    display: none;\n",
              "    fill: var(--fill-color);\n",
              "    height: 32px;\n",
              "    padding: 0;\n",
              "    width: 32px;\n",
              "  }\n",
              "\n",
              "  .colab-df-quickchart:hover {\n",
              "    background-color: var(--hover-bg-color);\n",
              "    box-shadow: 0 1px 2px rgba(60, 64, 67, 0.3), 0 1px 3px 1px rgba(60, 64, 67, 0.15);\n",
              "    fill: var(--button-hover-fill-color);\n",
              "  }\n",
              "\n",
              "  .colab-df-quickchart-complete:disabled,\n",
              "  .colab-df-quickchart-complete:disabled:hover {\n",
              "    background-color: var(--disabled-bg-color);\n",
              "    fill: var(--disabled-fill-color);\n",
              "    box-shadow: none;\n",
              "  }\n",
              "\n",
              "  .colab-df-spinner {\n",
              "    border: 2px solid var(--fill-color);\n",
              "    border-color: transparent;\n",
              "    border-bottom-color: var(--fill-color);\n",
              "    animation:\n",
              "      spin 1s steps(1) infinite;\n",
              "  }\n",
              "\n",
              "  @keyframes spin {\n",
              "    0% {\n",
              "      border-color: transparent;\n",
              "      border-bottom-color: var(--fill-color);\n",
              "      border-left-color: var(--fill-color);\n",
              "    }\n",
              "    20% {\n",
              "      border-color: transparent;\n",
              "      border-left-color: var(--fill-color);\n",
              "      border-top-color: var(--fill-color);\n",
              "    }\n",
              "    30% {\n",
              "      border-color: transparent;\n",
              "      border-left-color: var(--fill-color);\n",
              "      border-top-color: var(--fill-color);\n",
              "      border-right-color: var(--fill-color);\n",
              "    }\n",
              "    40% {\n",
              "      border-color: transparent;\n",
              "      border-right-color: var(--fill-color);\n",
              "      border-top-color: var(--fill-color);\n",
              "    }\n",
              "    60% {\n",
              "      border-color: transparent;\n",
              "      border-right-color: var(--fill-color);\n",
              "    }\n",
              "    80% {\n",
              "      border-color: transparent;\n",
              "      border-right-color: var(--fill-color);\n",
              "      border-bottom-color: var(--fill-color);\n",
              "    }\n",
              "    90% {\n",
              "      border-color: transparent;\n",
              "      border-bottom-color: var(--fill-color);\n",
              "    }\n",
              "  }\n",
              "</style>\n",
              "\n",
              "  <script>\n",
              "    async function quickchart(key) {\n",
              "      const quickchartButtonEl =\n",
              "        document.querySelector('#' + key + ' button');\n",
              "      quickchartButtonEl.disabled = true;  // To prevent multiple clicks.\n",
              "      quickchartButtonEl.classList.add('colab-df-spinner');\n",
              "      try {\n",
              "        const charts = await google.colab.kernel.invokeFunction(\n",
              "            'suggestCharts', [key], {});\n",
              "      } catch (error) {\n",
              "        console.error('Error during call to suggestCharts:', error);\n",
              "      }\n",
              "      quickchartButtonEl.classList.remove('colab-df-spinner');\n",
              "      quickchartButtonEl.classList.add('colab-df-quickchart-complete');\n",
              "    }\n",
              "    (() => {\n",
              "      let quickchartButtonEl =\n",
              "        document.querySelector('#df-b14fde4b-0c36-4afb-8804-b7d9d651bf09 button');\n",
              "      quickchartButtonEl.style.display =\n",
              "        google.colab.kernel.accessAllowed ? 'block' : 'none';\n",
              "    })();\n",
              "  </script>\n",
              "</div>\n",
              "\n",
              "    </div>\n",
              "  </div>\n"
            ],
            "application/vnd.google.colaboratory.intrinsic+json": {
              "type": "dataframe",
              "variable_name": "flipkart_train_reviews",
              "summary": "{\n  \"name\": \"flipkart_train_reviews\",\n  \"rows\": 25850,\n  \"fields\": [\n    {\n      \"column\": \"reviews\",\n      \"properties\": {\n        \"dtype\": \"string\",\n        \"num_unique_values\": 22158,\n        \"samples\": [\n          \"Touch sensor is not so responsive, battery drains more after 1-2 hours of usage. Cannot recommend for Gaming or Long hours usage. Heating issue is also there. Ram should have been 8 GB or more, in this phone only 4gb expandable option is there. Camera is usual in which we see in all realme phone. In 13k poco was better option than this phone atleast it was having better performance than this one.\\n\\nI regret after this phone purchase.\",\n          \"Cons-:\\n\\n1.Camera 5/10\\n2.Air gesture missing\",\n          \"Sounds quality is better\"\n        ],\n        \"semantic_type\": \"\",\n        \"description\": \"\"\n      }\n    },\n    {\n      \"column\": \"ratings\",\n      \"properties\": {\n        \"dtype\": \"number\",\n        \"std\": 1.0745019462250442,\n        \"min\": 1.0,\n        \"max\": 5.0,\n        \"num_unique_values\": 5,\n        \"samples\": [\n          2.0,\n          3.0,\n          4.0\n        ],\n        \"semantic_type\": \"\",\n        \"description\": \"\"\n      }\n    },\n    {\n      \"column\": \"sentiments\",\n      \"properties\": {\n        \"dtype\": \"category\",\n        \"num_unique_values\": 3,\n        \"samples\": [\n          \"positive\",\n          \"negative\",\n          \"neutral\"\n        ],\n        \"semantic_type\": \"\",\n        \"description\": \"\"\n      }\n    },\n    {\n      \"column\": \"no_emoji_reviews\",\n      \"properties\": {\n        \"dtype\": \"string\",\n        \"num_unique_values\": 20118,\n        \"samples\": [\n          \"these wireless earbuds be an excellent choice offering quality affordability and impressive performance they deliver superb sound clarity with deep bass perfect for both music enthusiast and casual listener comfortable and stylish they provide long lasting battery life and fast charging with dual mic enx technology call be clear and seamless\",\n          \"awesome great outstanding love\",\n          \"good sound bass haigh\"\n        ],\n        \"semantic_type\": \"\",\n        \"description\": \"\"\n      }\n    },\n    {\n      \"column\": \"yes_emoji_reviews\",\n      \"properties\": {\n        \"dtype\": \"string\",\n        \"num_unique_values\": 21058,\n        \"samples\": [\n          \"best nice bass ok-hand-sign call voice clean\",\n          \"brilliant thumbs-up-sign fast refresh rate batter feel touch smoothness camera sensor provide samsung for batter photography design by realme superb look like design exyllent budget phone\",\n          \"it good phone gamers be not the targated customer for samsung plz mind it so dont judged samsung from game side happy with it if really want good phone go for it\"\n        ],\n        \"semantic_type\": \"\",\n        \"description\": \"\"\n      }\n    },\n    {\n      \"column\": \"no_stopwords_reviews\",\n      \"properties\": {\n        \"dtype\": \"string\",\n        \"num_unique_values\": 20161,\n        \"samples\": [\n          \"like camera\",\n          \"first dual connectivity feature work min connect laptop phone time bass extremely good fit properly ear\",\n          \"ok-hand-sign ok-hand-sign ok-hand-sign ok-hand-sign ok-hand-sign ok-hand-sign ok-hand-sign excellent\"\n        ],\n        \"semantic_type\": \"\",\n        \"description\": \"\"\n      }\n    }\n  ]\n}"
            }
          },
          "metadata": {},
          "execution_count": 9
        }
      ],
      "source": [
        "flipkart_train_reviews = pd.read_csv(\"/content/flipkart_train_reviews.csv\")\n",
        "flipkart_train_reviews.head()"
      ]
    },
    {
      "cell_type": "code",
      "source": [
        "flipkart_train_reviews.shape"
      ],
      "metadata": {
        "id": "ArMqbgg-XbAw",
        "colab": {
          "base_uri": "https://localhost:8080/"
        },
        "outputId": "2e982c51-bc59-4d32-c87b-6ef91e411486"
      },
      "execution_count": null,
      "outputs": [
        {
          "output_type": "execute_result",
          "data": {
            "text/plain": [
              "(25850, 6)"
            ]
          },
          "metadata": {},
          "execution_count": 10
        }
      ]
    },
    {
      "cell_type": "code",
      "source": [
        "flipkart_train_reviews.info()"
      ],
      "metadata": {
        "id": "PnEUql_wXl_r",
        "colab": {
          "base_uri": "https://localhost:8080/"
        },
        "outputId": "c8eba612-7939-4a2c-c7a4-7c21344b5fe1"
      },
      "execution_count": null,
      "outputs": [
        {
          "output_type": "stream",
          "name": "stdout",
          "text": [
            "<class 'pandas.core.frame.DataFrame'>\n",
            "RangeIndex: 25850 entries, 0 to 25849\n",
            "Data columns (total 6 columns):\n",
            " #   Column                Non-Null Count  Dtype  \n",
            "---  ------                --------------  -----  \n",
            " 0   reviews               25850 non-null  object \n",
            " 1   ratings               25850 non-null  float64\n",
            " 2   sentiments            25850 non-null  object \n",
            " 3   no_emoji_reviews      25849 non-null  object \n",
            " 4   yes_emoji_reviews     25850 non-null  object \n",
            " 5   no_stopwords_reviews  25829 non-null  object \n",
            "dtypes: float64(1), object(5)\n",
            "memory usage: 1.2+ MB\n"
          ]
        }
      ]
    },
    {
      "cell_type": "code",
      "source": [
        "flipkart_train_reviews.isnull().sum()"
      ],
      "metadata": {
        "id": "PxLAXQrGXpsO",
        "colab": {
          "base_uri": "https://localhost:8080/",
          "height": 272
        },
        "outputId": "f16910ee-e393-43d1-dfba-7ed2feac8c5d"
      },
      "execution_count": null,
      "outputs": [
        {
          "output_type": "execute_result",
          "data": {
            "text/plain": [
              "reviews                  0\n",
              "ratings                  0\n",
              "sentiments               0\n",
              "no_emoji_reviews         1\n",
              "yes_emoji_reviews        0\n",
              "no_stopwords_reviews    21\n",
              "dtype: int64"
            ],
            "text/html": [
              "<div>\n",
              "<style scoped>\n",
              "    .dataframe tbody tr th:only-of-type {\n",
              "        vertical-align: middle;\n",
              "    }\n",
              "\n",
              "    .dataframe tbody tr th {\n",
              "        vertical-align: top;\n",
              "    }\n",
              "\n",
              "    .dataframe thead th {\n",
              "        text-align: right;\n",
              "    }\n",
              "</style>\n",
              "<table border=\"1\" class=\"dataframe\">\n",
              "  <thead>\n",
              "    <tr style=\"text-align: right;\">\n",
              "      <th></th>\n",
              "      <th>0</th>\n",
              "    </tr>\n",
              "  </thead>\n",
              "  <tbody>\n",
              "    <tr>\n",
              "      <th>reviews</th>\n",
              "      <td>0</td>\n",
              "    </tr>\n",
              "    <tr>\n",
              "      <th>ratings</th>\n",
              "      <td>0</td>\n",
              "    </tr>\n",
              "    <tr>\n",
              "      <th>sentiments</th>\n",
              "      <td>0</td>\n",
              "    </tr>\n",
              "    <tr>\n",
              "      <th>no_emoji_reviews</th>\n",
              "      <td>1</td>\n",
              "    </tr>\n",
              "    <tr>\n",
              "      <th>yes_emoji_reviews</th>\n",
              "      <td>0</td>\n",
              "    </tr>\n",
              "    <tr>\n",
              "      <th>no_stopwords_reviews</th>\n",
              "      <td>21</td>\n",
              "    </tr>\n",
              "  </tbody>\n",
              "</table>\n",
              "</div><br><label><b>dtype:</b> int64</label>"
            ]
          },
          "metadata": {},
          "execution_count": 12
        }
      ]
    },
    {
      "cell_type": "markdown",
      "metadata": {
        "id": "375camSVXHLt"
      },
      "source": [
        "### Import reviews validation dataset"
      ]
    },
    {
      "cell_type": "code",
      "execution_count": null,
      "metadata": {
        "id": "31GIUf6qXHLu",
        "colab": {
          "base_uri": "https://localhost:8080/",
          "height": 345
        },
        "outputId": "261c1ebd-ee3c-4f17-bcc8-7c6837347330"
      },
      "outputs": [
        {
          "output_type": "execute_result",
          "data": {
            "text/plain": [
              "                                             reviews  ratings sentiments  \\\n",
              "0  If anybody is planning to add a soundbar to th...        5   positive   \n",
              "1  After long searching I found a excellent sound...        5   positive   \n",
              "2  Really the product is the value of money.Super...        5   positive   \n",
              "3  Hello everyone!\\n\\nI have used music products ...        5   positive   \n",
              "4                            Sound quality is superb        5   positive   \n",
              "\n",
              "                                    no_emoji_reviews  \\\n",
              "0  if anybody be plan to add soundbar to their sm...   \n",
              "1  after long search find excellent sound bar und...   \n",
              "2  really the product be the value of money super...   \n",
              "3  hello everyone have use music product which co...   \n",
              "4                            sound quality be superb   \n",
              "\n",
              "                                   yes_emoji_reviews  \\\n",
              "0  if anybody be plan to add soundbar to their sm...   \n",
              "1  after long search find excellent sound bar und...   \n",
              "2  really the product be the value of money super...   \n",
              "3  hello everyone have use music product which co...   \n",
              "4                            sound quality be superb   \n",
              "\n",
              "                                no_stopwords_reviews  \n",
              "0  anybody plan add soundbar smart tv close eye g...  \n",
              "1  long search find excellent sound bar good bass...  \n",
              "2  really product value money superior sound qual...  \n",
              "3  hello everyone use music product cost way lacs...  \n",
              "4                               sound quality superb  "
            ],
            "text/html": [
              "\n",
              "  <div id=\"df-622e474e-ebab-4a7d-bb97-4a458427db8d\" class=\"colab-df-container\">\n",
              "    <div>\n",
              "<style scoped>\n",
              "    .dataframe tbody tr th:only-of-type {\n",
              "        vertical-align: middle;\n",
              "    }\n",
              "\n",
              "    .dataframe tbody tr th {\n",
              "        vertical-align: top;\n",
              "    }\n",
              "\n",
              "    .dataframe thead th {\n",
              "        text-align: right;\n",
              "    }\n",
              "</style>\n",
              "<table border=\"1\" class=\"dataframe\">\n",
              "  <thead>\n",
              "    <tr style=\"text-align: right;\">\n",
              "      <th></th>\n",
              "      <th>reviews</th>\n",
              "      <th>ratings</th>\n",
              "      <th>sentiments</th>\n",
              "      <th>no_emoji_reviews</th>\n",
              "      <th>yes_emoji_reviews</th>\n",
              "      <th>no_stopwords_reviews</th>\n",
              "    </tr>\n",
              "  </thead>\n",
              "  <tbody>\n",
              "    <tr>\n",
              "      <th>0</th>\n",
              "      <td>If anybody is planning to add a soundbar to th...</td>\n",
              "      <td>5</td>\n",
              "      <td>positive</td>\n",
              "      <td>if anybody be plan to add soundbar to their sm...</td>\n",
              "      <td>if anybody be plan to add soundbar to their sm...</td>\n",
              "      <td>anybody plan add soundbar smart tv close eye g...</td>\n",
              "    </tr>\n",
              "    <tr>\n",
              "      <th>1</th>\n",
              "      <td>After long searching I found a excellent sound...</td>\n",
              "      <td>5</td>\n",
              "      <td>positive</td>\n",
              "      <td>after long search find excellent sound bar und...</td>\n",
              "      <td>after long search find excellent sound bar und...</td>\n",
              "      <td>long search find excellent sound bar good bass...</td>\n",
              "    </tr>\n",
              "    <tr>\n",
              "      <th>2</th>\n",
              "      <td>Really the product is the value of money.Super...</td>\n",
              "      <td>5</td>\n",
              "      <td>positive</td>\n",
              "      <td>really the product be the value of money super...</td>\n",
              "      <td>really the product be the value of money super...</td>\n",
              "      <td>really product value money superior sound qual...</td>\n",
              "    </tr>\n",
              "    <tr>\n",
              "      <th>3</th>\n",
              "      <td>Hello everyone!\\n\\nI have used music products ...</td>\n",
              "      <td>5</td>\n",
              "      <td>positive</td>\n",
              "      <td>hello everyone have use music product which co...</td>\n",
              "      <td>hello everyone have use music product which co...</td>\n",
              "      <td>hello everyone use music product cost way lacs...</td>\n",
              "    </tr>\n",
              "    <tr>\n",
              "      <th>4</th>\n",
              "      <td>Sound quality is superb</td>\n",
              "      <td>5</td>\n",
              "      <td>positive</td>\n",
              "      <td>sound quality be superb</td>\n",
              "      <td>sound quality be superb</td>\n",
              "      <td>sound quality superb</td>\n",
              "    </tr>\n",
              "  </tbody>\n",
              "</table>\n",
              "</div>\n",
              "    <div class=\"colab-df-buttons\">\n",
              "\n",
              "  <div class=\"colab-df-container\">\n",
              "    <button class=\"colab-df-convert\" onclick=\"convertToInteractive('df-622e474e-ebab-4a7d-bb97-4a458427db8d')\"\n",
              "            title=\"Convert this dataframe to an interactive table.\"\n",
              "            style=\"display:none;\">\n",
              "\n",
              "  <svg xmlns=\"http://www.w3.org/2000/svg\" height=\"24px\" viewBox=\"0 -960 960 960\">\n",
              "    <path d=\"M120-120v-720h720v720H120Zm60-500h600v-160H180v160Zm220 220h160v-160H400v160Zm0 220h160v-160H400v160ZM180-400h160v-160H180v160Zm440 0h160v-160H620v160ZM180-180h160v-160H180v160Zm440 0h160v-160H620v160Z\"/>\n",
              "  </svg>\n",
              "    </button>\n",
              "\n",
              "  <style>\n",
              "    .colab-df-container {\n",
              "      display:flex;\n",
              "      gap: 12px;\n",
              "    }\n",
              "\n",
              "    .colab-df-convert {\n",
              "      background-color: #E8F0FE;\n",
              "      border: none;\n",
              "      border-radius: 50%;\n",
              "      cursor: pointer;\n",
              "      display: none;\n",
              "      fill: #1967D2;\n",
              "      height: 32px;\n",
              "      padding: 0 0 0 0;\n",
              "      width: 32px;\n",
              "    }\n",
              "\n",
              "    .colab-df-convert:hover {\n",
              "      background-color: #E2EBFA;\n",
              "      box-shadow: 0px 1px 2px rgba(60, 64, 67, 0.3), 0px 1px 3px 1px rgba(60, 64, 67, 0.15);\n",
              "      fill: #174EA6;\n",
              "    }\n",
              "\n",
              "    .colab-df-buttons div {\n",
              "      margin-bottom: 4px;\n",
              "    }\n",
              "\n",
              "    [theme=dark] .colab-df-convert {\n",
              "      background-color: #3B4455;\n",
              "      fill: #D2E3FC;\n",
              "    }\n",
              "\n",
              "    [theme=dark] .colab-df-convert:hover {\n",
              "      background-color: #434B5C;\n",
              "      box-shadow: 0px 1px 3px 1px rgba(0, 0, 0, 0.15);\n",
              "      filter: drop-shadow(0px 1px 2px rgba(0, 0, 0, 0.3));\n",
              "      fill: #FFFFFF;\n",
              "    }\n",
              "  </style>\n",
              "\n",
              "    <script>\n",
              "      const buttonEl =\n",
              "        document.querySelector('#df-622e474e-ebab-4a7d-bb97-4a458427db8d button.colab-df-convert');\n",
              "      buttonEl.style.display =\n",
              "        google.colab.kernel.accessAllowed ? 'block' : 'none';\n",
              "\n",
              "      async function convertToInteractive(key) {\n",
              "        const element = document.querySelector('#df-622e474e-ebab-4a7d-bb97-4a458427db8d');\n",
              "        const dataTable =\n",
              "          await google.colab.kernel.invokeFunction('convertToInteractive',\n",
              "                                                    [key], {});\n",
              "        if (!dataTable) return;\n",
              "\n",
              "        const docLinkHtml = 'Like what you see? Visit the ' +\n",
              "          '<a target=\"_blank\" href=https://colab.research.google.com/notebooks/data_table.ipynb>data table notebook</a>'\n",
              "          + ' to learn more about interactive tables.';\n",
              "        element.innerHTML = '';\n",
              "        dataTable['output_type'] = 'display_data';\n",
              "        await google.colab.output.renderOutput(dataTable, element);\n",
              "        const docLink = document.createElement('div');\n",
              "        docLink.innerHTML = docLinkHtml;\n",
              "        element.appendChild(docLink);\n",
              "      }\n",
              "    </script>\n",
              "  </div>\n",
              "\n",
              "\n",
              "<div id=\"df-a3e7b97a-711a-4965-b35d-4fcce0cfb0d9\">\n",
              "  <button class=\"colab-df-quickchart\" onclick=\"quickchart('df-a3e7b97a-711a-4965-b35d-4fcce0cfb0d9')\"\n",
              "            title=\"Suggest charts\"\n",
              "            style=\"display:none;\">\n",
              "\n",
              "<svg xmlns=\"http://www.w3.org/2000/svg\" height=\"24px\"viewBox=\"0 0 24 24\"\n",
              "     width=\"24px\">\n",
              "    <g>\n",
              "        <path d=\"M19 3H5c-1.1 0-2 .9-2 2v14c0 1.1.9 2 2 2h14c1.1 0 2-.9 2-2V5c0-1.1-.9-2-2-2zM9 17H7v-7h2v7zm4 0h-2V7h2v10zm4 0h-2v-4h2v4z\"/>\n",
              "    </g>\n",
              "</svg>\n",
              "  </button>\n",
              "\n",
              "<style>\n",
              "  .colab-df-quickchart {\n",
              "      --bg-color: #E8F0FE;\n",
              "      --fill-color: #1967D2;\n",
              "      --hover-bg-color: #E2EBFA;\n",
              "      --hover-fill-color: #174EA6;\n",
              "      --disabled-fill-color: #AAA;\n",
              "      --disabled-bg-color: #DDD;\n",
              "  }\n",
              "\n",
              "  [theme=dark] .colab-df-quickchart {\n",
              "      --bg-color: #3B4455;\n",
              "      --fill-color: #D2E3FC;\n",
              "      --hover-bg-color: #434B5C;\n",
              "      --hover-fill-color: #FFFFFF;\n",
              "      --disabled-bg-color: #3B4455;\n",
              "      --disabled-fill-color: #666;\n",
              "  }\n",
              "\n",
              "  .colab-df-quickchart {\n",
              "    background-color: var(--bg-color);\n",
              "    border: none;\n",
              "    border-radius: 50%;\n",
              "    cursor: pointer;\n",
              "    display: none;\n",
              "    fill: var(--fill-color);\n",
              "    height: 32px;\n",
              "    padding: 0;\n",
              "    width: 32px;\n",
              "  }\n",
              "\n",
              "  .colab-df-quickchart:hover {\n",
              "    background-color: var(--hover-bg-color);\n",
              "    box-shadow: 0 1px 2px rgba(60, 64, 67, 0.3), 0 1px 3px 1px rgba(60, 64, 67, 0.15);\n",
              "    fill: var(--button-hover-fill-color);\n",
              "  }\n",
              "\n",
              "  .colab-df-quickchart-complete:disabled,\n",
              "  .colab-df-quickchart-complete:disabled:hover {\n",
              "    background-color: var(--disabled-bg-color);\n",
              "    fill: var(--disabled-fill-color);\n",
              "    box-shadow: none;\n",
              "  }\n",
              "\n",
              "  .colab-df-spinner {\n",
              "    border: 2px solid var(--fill-color);\n",
              "    border-color: transparent;\n",
              "    border-bottom-color: var(--fill-color);\n",
              "    animation:\n",
              "      spin 1s steps(1) infinite;\n",
              "  }\n",
              "\n",
              "  @keyframes spin {\n",
              "    0% {\n",
              "      border-color: transparent;\n",
              "      border-bottom-color: var(--fill-color);\n",
              "      border-left-color: var(--fill-color);\n",
              "    }\n",
              "    20% {\n",
              "      border-color: transparent;\n",
              "      border-left-color: var(--fill-color);\n",
              "      border-top-color: var(--fill-color);\n",
              "    }\n",
              "    30% {\n",
              "      border-color: transparent;\n",
              "      border-left-color: var(--fill-color);\n",
              "      border-top-color: var(--fill-color);\n",
              "      border-right-color: var(--fill-color);\n",
              "    }\n",
              "    40% {\n",
              "      border-color: transparent;\n",
              "      border-right-color: var(--fill-color);\n",
              "      border-top-color: var(--fill-color);\n",
              "    }\n",
              "    60% {\n",
              "      border-color: transparent;\n",
              "      border-right-color: var(--fill-color);\n",
              "    }\n",
              "    80% {\n",
              "      border-color: transparent;\n",
              "      border-right-color: var(--fill-color);\n",
              "      border-bottom-color: var(--fill-color);\n",
              "    }\n",
              "    90% {\n",
              "      border-color: transparent;\n",
              "      border-bottom-color: var(--fill-color);\n",
              "    }\n",
              "  }\n",
              "</style>\n",
              "\n",
              "  <script>\n",
              "    async function quickchart(key) {\n",
              "      const quickchartButtonEl =\n",
              "        document.querySelector('#' + key + ' button');\n",
              "      quickchartButtonEl.disabled = true;  // To prevent multiple clicks.\n",
              "      quickchartButtonEl.classList.add('colab-df-spinner');\n",
              "      try {\n",
              "        const charts = await google.colab.kernel.invokeFunction(\n",
              "            'suggestCharts', [key], {});\n",
              "      } catch (error) {\n",
              "        console.error('Error during call to suggestCharts:', error);\n",
              "      }\n",
              "      quickchartButtonEl.classList.remove('colab-df-spinner');\n",
              "      quickchartButtonEl.classList.add('colab-df-quickchart-complete');\n",
              "    }\n",
              "    (() => {\n",
              "      let quickchartButtonEl =\n",
              "        document.querySelector('#df-a3e7b97a-711a-4965-b35d-4fcce0cfb0d9 button');\n",
              "      quickchartButtonEl.style.display =\n",
              "        google.colab.kernel.accessAllowed ? 'block' : 'none';\n",
              "    })();\n",
              "  </script>\n",
              "</div>\n",
              "\n",
              "    </div>\n",
              "  </div>\n"
            ],
            "application/vnd.google.colaboratory.intrinsic+json": {
              "type": "dataframe",
              "variable_name": "flipkart_valid_reviews",
              "summary": "{\n  \"name\": \"flipkart_valid_reviews\",\n  \"rows\": 5684,\n  \"fields\": [\n    {\n      \"column\": \"reviews\",\n      \"properties\": {\n        \"dtype\": \"string\",\n        \"num_unique_values\": 5029,\n        \"samples\": [\n          \"For battery I could give 10 star if possible......pvc plastic is just okay. But voice on calling is crystal clear because of cvc technology. Earlier my wife always complain about my voice when I was using other Bluetooth earphone while calling but now she is happy and me too........ Don't take it otherwise I work out of station ....lol\",\n          \"Sound quality is ok, not worst not best, I don't like too bass heavy tunes, the dirac tuning supresses the mids imo. The fitting was not that snug in my ears I have to adjust them time to time to make them secure inside otherwise one comes loose and the in ear detection pauses whatever is playing, and another thing I didn't like was at high volumes there is too much sound leakage so people around you can hear clearly what you are listening to, in quiet rooms even medium volumes have sound lea...\\nREAD MORE\",\n          \"Nice product, I giving rating after using approximately 2 months: this is value for money\"\n        ],\n        \"semantic_type\": \"\",\n        \"description\": \"\"\n      }\n    },\n    {\n      \"column\": \"ratings\",\n      \"properties\": {\n        \"dtype\": \"number\",\n        \"std\": 1,\n        \"min\": 1,\n        \"max\": 5,\n        \"num_unique_values\": 5,\n        \"samples\": [\n          4,\n          2,\n          3\n        ],\n        \"semantic_type\": \"\",\n        \"description\": \"\"\n      }\n    },\n    {\n      \"column\": \"sentiments\",\n      \"properties\": {\n        \"dtype\": \"category\",\n        \"num_unique_values\": 3,\n        \"samples\": [\n          \"positive\",\n          \"neutral\",\n          \"negative\"\n        ],\n        \"semantic_type\": \"\",\n        \"description\": \"\"\n      }\n    },\n    {\n      \"column\": \"no_emoji_reviews\",\n      \"properties\": {\n        \"dtype\": \"string\",\n        \"num_unique_values\": 4622,\n        \"samples\": [\n          \"it just awesome go for it guy\",\n          \"good remot quality be best\",\n          \"good quality sound and best degine\"\n        ],\n        \"semantic_type\": \"\",\n        \"description\": \"\"\n      }\n    },\n    {\n      \"column\": \"yes_emoji_reviews\",\n      \"properties\": {\n        \"dtype\": \"string\",\n        \"num_unique_values\": 4853,\n        \"samples\": [\n          \"this airdopes alpha sound quality be great use this for listen music watch movie and for call in every aspect felt satisfied with these earbuds for music and movie the sound range be very good felt immerse in the music for call this be good even in outdoors a this have multiple mics along with noise cancellation technology make it very seemless the build quality be good seem very durable and look decent fit wise felt comfortable even for long duration usage\",\n          \"this product be osam\",\n          \"excellent sound quality and quality of the earbuds be superb connectivity be also excellent no issue find recommend to buy thank you flipkart person-with-folded-hands person-with-folded-hands\"\n        ],\n        \"semantic_type\": \"\",\n        \"description\": \"\"\n      }\n    },\n    {\n      \"column\": \"no_stopwords_reviews\",\n      \"properties\": {\n        \"dtype\": \"string\",\n        \"num_unique_values\": 4664,\n        \"samples\": [\n          \"sound quality look premium\",\n          \"neckband quickly pair mobile mic work great hight battery capacity neck friendly easy use bass much high outside noise interfere yes feel must buy product goo price\",\n          \"vry gd\"\n        ],\n        \"semantic_type\": \"\",\n        \"description\": \"\"\n      }\n    }\n  ]\n}"
            }
          },
          "metadata": {},
          "execution_count": 9
        }
      ],
      "source": [
        "flipkart_valid_reviews = pd.read_csv(\"/content/flipkart_validation_reviews.csv\")\n",
        "flipkart_valid_reviews.head()"
      ]
    },
    {
      "cell_type": "code",
      "source": [
        "flipkart_valid_reviews.shape"
      ],
      "metadata": {
        "id": "lKHOi-PYW26b",
        "colab": {
          "base_uri": "https://localhost:8080/"
        },
        "outputId": "e913f58e-dbbd-430d-aed5-b11d1353f70f"
      },
      "execution_count": null,
      "outputs": [
        {
          "output_type": "execute_result",
          "data": {
            "text/plain": [
              "(5684, 6)"
            ]
          },
          "metadata": {},
          "execution_count": 10
        }
      ]
    },
    {
      "cell_type": "code",
      "source": [
        "flipkart_valid_reviews.info()"
      ],
      "metadata": {
        "id": "7DAoq9_5Xv00",
        "colab": {
          "base_uri": "https://localhost:8080/"
        },
        "outputId": "2fd63225-5903-4405-a970-9b6a431fc909"
      },
      "execution_count": null,
      "outputs": [
        {
          "output_type": "stream",
          "name": "stdout",
          "text": [
            "<class 'pandas.core.frame.DataFrame'>\n",
            "RangeIndex: 5684 entries, 0 to 5683\n",
            "Data columns (total 6 columns):\n",
            " #   Column                Non-Null Count  Dtype \n",
            "---  ------                --------------  ----- \n",
            " 0   reviews               5684 non-null   object\n",
            " 1   ratings               5684 non-null   int64 \n",
            " 2   sentiments            5684 non-null   object\n",
            " 3   no_emoji_reviews      5684 non-null   object\n",
            " 4   yes_emoji_reviews     5684 non-null   object\n",
            " 5   no_stopwords_reviews  5679 non-null   object\n",
            "dtypes: int64(1), object(5)\n",
            "memory usage: 266.6+ KB\n"
          ]
        }
      ]
    },
    {
      "cell_type": "code",
      "source": [
        "flipkart_valid_reviews.isnull().sum()"
      ],
      "metadata": {
        "id": "T4HUmUzUXyJb",
        "colab": {
          "base_uri": "https://localhost:8080/",
          "height": 272
        },
        "outputId": "6048317c-25cf-4df0-c828-c3f3361913e5"
      },
      "execution_count": null,
      "outputs": [
        {
          "output_type": "execute_result",
          "data": {
            "text/plain": [
              "reviews                 0\n",
              "ratings                 0\n",
              "sentiments              0\n",
              "no_emoji_reviews        0\n",
              "yes_emoji_reviews       0\n",
              "no_stopwords_reviews    5\n",
              "dtype: int64"
            ],
            "text/html": [
              "<div>\n",
              "<style scoped>\n",
              "    .dataframe tbody tr th:only-of-type {\n",
              "        vertical-align: middle;\n",
              "    }\n",
              "\n",
              "    .dataframe tbody tr th {\n",
              "        vertical-align: top;\n",
              "    }\n",
              "\n",
              "    .dataframe thead th {\n",
              "        text-align: right;\n",
              "    }\n",
              "</style>\n",
              "<table border=\"1\" class=\"dataframe\">\n",
              "  <thead>\n",
              "    <tr style=\"text-align: right;\">\n",
              "      <th></th>\n",
              "      <th>0</th>\n",
              "    </tr>\n",
              "  </thead>\n",
              "  <tbody>\n",
              "    <tr>\n",
              "      <th>reviews</th>\n",
              "      <td>0</td>\n",
              "    </tr>\n",
              "    <tr>\n",
              "      <th>ratings</th>\n",
              "      <td>0</td>\n",
              "    </tr>\n",
              "    <tr>\n",
              "      <th>sentiments</th>\n",
              "      <td>0</td>\n",
              "    </tr>\n",
              "    <tr>\n",
              "      <th>no_emoji_reviews</th>\n",
              "      <td>0</td>\n",
              "    </tr>\n",
              "    <tr>\n",
              "      <th>yes_emoji_reviews</th>\n",
              "      <td>0</td>\n",
              "    </tr>\n",
              "    <tr>\n",
              "      <th>no_stopwords_reviews</th>\n",
              "      <td>5</td>\n",
              "    </tr>\n",
              "  </tbody>\n",
              "</table>\n",
              "</div><br><label><b>dtype:</b> int64</label>"
            ]
          },
          "metadata": {},
          "execution_count": 12
        }
      ]
    },
    {
      "cell_type": "markdown",
      "source": [
        "### Extract `train` and `validation` reviews"
      ],
      "metadata": {
        "id": "B2ovVfBmtiAy"
      }
    },
    {
      "cell_type": "code",
      "source": [
        "train_reviews = flipkart_train_reviews[\"reviews\"].copy()\n",
        "valid_reviews = flipkart_valid_reviews[\"reviews\"].copy()"
      ],
      "metadata": {
        "id": "VEz7uUz9tYwg"
      },
      "execution_count": null,
      "outputs": []
    },
    {
      "cell_type": "markdown",
      "source": [
        "### Extract `train` and `validation` labels"
      ],
      "metadata": {
        "id": "Nu-KDjANuBA6"
      }
    },
    {
      "cell_type": "code",
      "source": [
        "train_sentiments = flipkart_train_reviews[\"sentiments\"].copy()\n",
        "valid_sentiments = flipkart_valid_reviews[\"sentiments\"].copy()"
      ],
      "metadata": {
        "id": "xhoGaD-IuH-g"
      },
      "execution_count": null,
      "outputs": []
    },
    {
      "cell_type": "markdown",
      "source": [
        "## Import relevant libraries"
      ],
      "metadata": {
        "id": "_R2gRnzPptyw"
      }
    },
    {
      "cell_type": "code",
      "source": [
        "import seaborn as sb\n",
        "import matplotlib.pyplot as plt\n",
        "from sklearn.pipeline import Pipeline\n",
        "from sklearn.preprocessing import LabelEncoder\n",
        "from sklearn.preprocessing import StandardScaler\n",
        "from sklearn.linear_model import LogisticRegression\n",
        "from sklearn.feature_extraction.text import CountVectorizer, TfidfVectorizer\n",
        "from sklearn.metrics import confusion_matrix, classification_report"
      ],
      "metadata": {
        "id": "LQC1yMsGpF2q"
      },
      "execution_count": null,
      "outputs": []
    },
    {
      "cell_type": "markdown",
      "metadata": {
        "id": "684iXGhw1x8k"
      },
      "source": [
        "## Labels"
      ]
    },
    {
      "cell_type": "markdown",
      "source": [
        "### Train labels"
      ],
      "metadata": {
        "id": "fCTviOTAtxO4"
      }
    },
    {
      "cell_type": "code",
      "execution_count": null,
      "metadata": {
        "id": "92ow3RJa5KOE"
      },
      "outputs": [],
      "source": [
        "le = LabelEncoder()"
      ]
    },
    {
      "cell_type": "code",
      "execution_count": null,
      "metadata": {
        "id": "JFFmPlI518FY",
        "colab": {
          "base_uri": "https://localhost:8080/"
        },
        "outputId": "4332be43-0ade-43ce-ace1-af3256e20fb3"
      },
      "outputs": [
        {
          "output_type": "execute_result",
          "data": {
            "text/plain": [
              "array([2, 2, 0, ..., 2, 2, 2])"
            ]
          },
          "metadata": {},
          "execution_count": 17
        }
      ],
      "source": [
        "train_labels = le.fit_transform(y=train_sentiments)\n",
        "train_labels"
      ]
    },
    {
      "cell_type": "code",
      "execution_count": null,
      "metadata": {
        "id": "hbAPK6uD5nBn",
        "colab": {
          "base_uri": "https://localhost:8080/"
        },
        "outputId": "1988dc62-7a9c-4217-d6cd-5111df082635"
      },
      "outputs": [
        {
          "output_type": "execute_result",
          "data": {
            "text/plain": [
              "array([0, 1, 2])"
            ]
          },
          "metadata": {},
          "execution_count": 18
        }
      ],
      "source": [
        "np.unique(train_labels)"
      ]
    },
    {
      "cell_type": "markdown",
      "source": [
        "### Validation labels"
      ],
      "metadata": {
        "id": "RSvn03mOt0xc"
      }
    },
    {
      "cell_type": "code",
      "source": [
        "valid_labels = le.transform(y=valid_sentiments)\n",
        "valid_labels"
      ],
      "metadata": {
        "colab": {
          "base_uri": "https://localhost:8080/"
        },
        "id": "2IXv5gXvt4Mh",
        "outputId": "934a3526-6613-4fde-b202-77bd3a8aafdf"
      },
      "execution_count": null,
      "outputs": [
        {
          "output_type": "execute_result",
          "data": {
            "text/plain": [
              "array([2, 2, 2, ..., 2, 1, 2])"
            ]
          },
          "metadata": {},
          "execution_count": 19
        }
      ]
    },
    {
      "cell_type": "code",
      "source": [
        "np.unique(valid_labels)"
      ],
      "metadata": {
        "colab": {
          "base_uri": "https://localhost:8080/"
        },
        "id": "P45QvjpPt7s7",
        "outputId": "b735d76c-316a-4669-8954-c997256e1728"
      },
      "execution_count": null,
      "outputs": [
        {
          "output_type": "execute_result",
          "data": {
            "text/plain": [
              "array([0, 1, 2])"
            ]
          },
          "metadata": {},
          "execution_count": 20
        }
      ]
    },
    {
      "cell_type": "markdown",
      "metadata": {
        "id": "EY7h6VK1fEw3"
      },
      "source": [
        "## Count Vectorizer"
      ]
    },
    {
      "cell_type": "markdown",
      "source": [
        "### Emoji - No"
      ],
      "metadata": {
        "id": "3ZZ3hZxPYhMF"
      }
    },
    {
      "cell_type": "markdown",
      "source": [
        "#### Class Weights - Not Balanced"
      ],
      "metadata": {
        "id": "jyldLD94Zcsm"
      }
    },
    {
      "cell_type": "markdown",
      "source": [
        "##### Create pipeline - `pipe_eno_cv`"
      ],
      "metadata": {
        "id": "9uiKSUvBtEvX"
      }
    },
    {
      "cell_type": "code",
      "execution_count": null,
      "metadata": {
        "id": "L7k7d4gVfExF"
      },
      "outputs": [],
      "source": [
        "pipe_eno_cv = Pipeline(\n",
        "                        [\n",
        "                          (\"Clean_Corpus\", CleanCorpusTransformer(emoji=False, stop_words=False)),\n",
        "                          (\"Word_Vectorizer\", WordVectors(vectorizer=\"count\")),\n",
        "                          (\"Scaler\", StandardScaler(with_mean=False)), # For sparse matrix it should be \"with_mean=False\"\n",
        "                          (\"Classifier\", LogisticRegression(max_iter=1000))\n",
        "                        ]\n",
        "                      )"
      ]
    },
    {
      "cell_type": "markdown",
      "source": [
        "##### Fit pipeline - `pipe_eno_cv`"
      ],
      "metadata": {
        "id": "nAqwF-vEtPVy"
      }
    },
    {
      "cell_type": "code",
      "source": [
        "%%time\n",
        "# CPU times: user 2min 42s, sys: 12.4 s, total: 2min 55s\n",
        "# Wall time: 2min 38s\n",
        "pipe_eno_cv.fit(X=train_reviews, y=train_labels)"
      ],
      "metadata": {
        "colab": {
          "base_uri": "https://localhost:8080/",
          "height": 228
        },
        "id": "i5Ch0OC0tRRI",
        "outputId": "cf86661a-cf71-45b9-e68c-7af34d903b43"
      },
      "execution_count": null,
      "outputs": [
        {
          "output_type": "stream",
          "name": "stdout",
          "text": [
            "CPU times: user 2min 49s, sys: 13.2 s, total: 3min 2s\n",
            "Wall time: 2min 46s\n"
          ]
        },
        {
          "output_type": "execute_result",
          "data": {
            "text/plain": [
              "Pipeline(steps=[('Clean_Corpus',\n",
              "                 <__main__.CleanCorpusTransformer object at 0x7ce1f5310fd0>),\n",
              "                ('Word_Vectorizer',\n",
              "                 <__main__.WordVectors object at 0x7ce1f5311630>),\n",
              "                ('Scaler', StandardScaler(with_mean=False)),\n",
              "                ('Classifier', LogisticRegression(max_iter=1000))])"
            ],
            "text/html": [
              "<style>#sk-container-id-1 {color: black;}#sk-container-id-1 pre{padding: 0;}#sk-container-id-1 div.sk-toggleable {background-color: white;}#sk-container-id-1 label.sk-toggleable__label {cursor: pointer;display: block;width: 100%;margin-bottom: 0;padding: 0.3em;box-sizing: border-box;text-align: center;}#sk-container-id-1 label.sk-toggleable__label-arrow:before {content: \"▸\";float: left;margin-right: 0.25em;color: #696969;}#sk-container-id-1 label.sk-toggleable__label-arrow:hover:before {color: black;}#sk-container-id-1 div.sk-estimator:hover label.sk-toggleable__label-arrow:before {color: black;}#sk-container-id-1 div.sk-toggleable__content {max-height: 0;max-width: 0;overflow: hidden;text-align: left;background-color: #f0f8ff;}#sk-container-id-1 div.sk-toggleable__content pre {margin: 0.2em;color: black;border-radius: 0.25em;background-color: #f0f8ff;}#sk-container-id-1 input.sk-toggleable__control:checked~div.sk-toggleable__content {max-height: 200px;max-width: 100%;overflow: auto;}#sk-container-id-1 input.sk-toggleable__control:checked~label.sk-toggleable__label-arrow:before {content: \"▾\";}#sk-container-id-1 div.sk-estimator input.sk-toggleable__control:checked~label.sk-toggleable__label {background-color: #d4ebff;}#sk-container-id-1 div.sk-label input.sk-toggleable__control:checked~label.sk-toggleable__label {background-color: #d4ebff;}#sk-container-id-1 input.sk-hidden--visually {border: 0;clip: rect(1px 1px 1px 1px);clip: rect(1px, 1px, 1px, 1px);height: 1px;margin: -1px;overflow: hidden;padding: 0;position: absolute;width: 1px;}#sk-container-id-1 div.sk-estimator {font-family: monospace;background-color: #f0f8ff;border: 1px dotted black;border-radius: 0.25em;box-sizing: border-box;margin-bottom: 0.5em;}#sk-container-id-1 div.sk-estimator:hover {background-color: #d4ebff;}#sk-container-id-1 div.sk-parallel-item::after {content: \"\";width: 100%;border-bottom: 1px solid gray;flex-grow: 1;}#sk-container-id-1 div.sk-label:hover label.sk-toggleable__label {background-color: #d4ebff;}#sk-container-id-1 div.sk-serial::before {content: \"\";position: absolute;border-left: 1px solid gray;box-sizing: border-box;top: 0;bottom: 0;left: 50%;z-index: 0;}#sk-container-id-1 div.sk-serial {display: flex;flex-direction: column;align-items: center;background-color: white;padding-right: 0.2em;padding-left: 0.2em;position: relative;}#sk-container-id-1 div.sk-item {position: relative;z-index: 1;}#sk-container-id-1 div.sk-parallel {display: flex;align-items: stretch;justify-content: center;background-color: white;position: relative;}#sk-container-id-1 div.sk-item::before, #sk-container-id-1 div.sk-parallel-item::before {content: \"\";position: absolute;border-left: 1px solid gray;box-sizing: border-box;top: 0;bottom: 0;left: 50%;z-index: -1;}#sk-container-id-1 div.sk-parallel-item {display: flex;flex-direction: column;z-index: 1;position: relative;background-color: white;}#sk-container-id-1 div.sk-parallel-item:first-child::after {align-self: flex-end;width: 50%;}#sk-container-id-1 div.sk-parallel-item:last-child::after {align-self: flex-start;width: 50%;}#sk-container-id-1 div.sk-parallel-item:only-child::after {width: 0;}#sk-container-id-1 div.sk-dashed-wrapped {border: 1px dashed gray;margin: 0 0.4em 0.5em 0.4em;box-sizing: border-box;padding-bottom: 0.4em;background-color: white;}#sk-container-id-1 div.sk-label label {font-family: monospace;font-weight: bold;display: inline-block;line-height: 1.2em;}#sk-container-id-1 div.sk-label-container {text-align: center;}#sk-container-id-1 div.sk-container {/* jupyter's `normalize.less` sets `[hidden] { display: none; }` but bootstrap.min.css set `[hidden] { display: none !important; }` so we also need the `!important` here to be able to override the default hidden behavior on the sphinx rendered scikit-learn.org. See: https://github.com/scikit-learn/scikit-learn/issues/21755 */display: inline-block !important;position: relative;}#sk-container-id-1 div.sk-text-repr-fallback {display: none;}</style><div id=\"sk-container-id-1\" class=\"sk-top-container\"><div class=\"sk-text-repr-fallback\"><pre>Pipeline(steps=[(&#x27;Clean_Corpus&#x27;,\n",
              "                 &lt;__main__.CleanCorpusTransformer object at 0x7ce1f5310fd0&gt;),\n",
              "                (&#x27;Word_Vectorizer&#x27;,\n",
              "                 &lt;__main__.WordVectors object at 0x7ce1f5311630&gt;),\n",
              "                (&#x27;Scaler&#x27;, StandardScaler(with_mean=False)),\n",
              "                (&#x27;Classifier&#x27;, LogisticRegression(max_iter=1000))])</pre><b>In a Jupyter environment, please rerun this cell to show the HTML representation or trust the notebook. <br />On GitHub, the HTML representation is unable to render, please try loading this page with nbviewer.org.</b></div><div class=\"sk-container\" hidden><div class=\"sk-item sk-dashed-wrapped\"><div class=\"sk-label-container\"><div class=\"sk-label sk-toggleable\"><input class=\"sk-toggleable__control sk-hidden--visually\" id=\"sk-estimator-id-1\" type=\"checkbox\" ><label for=\"sk-estimator-id-1\" class=\"sk-toggleable__label sk-toggleable__label-arrow\">Pipeline</label><div class=\"sk-toggleable__content\"><pre>Pipeline(steps=[(&#x27;Clean_Corpus&#x27;,\n",
              "                 &lt;__main__.CleanCorpusTransformer object at 0x7ce1f5310fd0&gt;),\n",
              "                (&#x27;Word_Vectorizer&#x27;,\n",
              "                 &lt;__main__.WordVectors object at 0x7ce1f5311630&gt;),\n",
              "                (&#x27;Scaler&#x27;, StandardScaler(with_mean=False)),\n",
              "                (&#x27;Classifier&#x27;, LogisticRegression(max_iter=1000))])</pre></div></div></div><div class=\"sk-serial\"><div class=\"sk-item\"><div class=\"sk-estimator sk-toggleable\"><input class=\"sk-toggleable__control sk-hidden--visually\" id=\"sk-estimator-id-2\" type=\"checkbox\" ><label for=\"sk-estimator-id-2\" class=\"sk-toggleable__label sk-toggleable__label-arrow\">CleanCorpusTransformer</label><div class=\"sk-toggleable__content\"><pre>&lt;__main__.CleanCorpusTransformer object at 0x7ce1f5310fd0&gt;</pre></div></div></div><div class=\"sk-item\"><div class=\"sk-estimator sk-toggleable\"><input class=\"sk-toggleable__control sk-hidden--visually\" id=\"sk-estimator-id-3\" type=\"checkbox\" ><label for=\"sk-estimator-id-3\" class=\"sk-toggleable__label sk-toggleable__label-arrow\">WordVectors</label><div class=\"sk-toggleable__content\"><pre>&lt;__main__.WordVectors object at 0x7ce1f5311630&gt;</pre></div></div></div><div class=\"sk-item\"><div class=\"sk-estimator sk-toggleable\"><input class=\"sk-toggleable__control sk-hidden--visually\" id=\"sk-estimator-id-4\" type=\"checkbox\" ><label for=\"sk-estimator-id-4\" class=\"sk-toggleable__label sk-toggleable__label-arrow\">StandardScaler</label><div class=\"sk-toggleable__content\"><pre>StandardScaler(with_mean=False)</pre></div></div></div><div class=\"sk-item\"><div class=\"sk-estimator sk-toggleable\"><input class=\"sk-toggleable__control sk-hidden--visually\" id=\"sk-estimator-id-5\" type=\"checkbox\" ><label for=\"sk-estimator-id-5\" class=\"sk-toggleable__label sk-toggleable__label-arrow\">LogisticRegression</label><div class=\"sk-toggleable__content\"><pre>LogisticRegression(max_iter=1000)</pre></div></div></div></div></div></div></div>"
            ]
          },
          "metadata": {},
          "execution_count": 22
        }
      ]
    },
    {
      "cell_type": "markdown",
      "source": [
        "##### Predict validation data"
      ],
      "metadata": {
        "id": "dNJ6QCmWu3fE"
      }
    },
    {
      "cell_type": "code",
      "source": [
        "%%time\n",
        "valid_pred_eno_cv = pipe_eno_cv.predict(X=valid_reviews)\n",
        "valid_pred_eno_cv"
      ],
      "metadata": {
        "colab": {
          "base_uri": "https://localhost:8080/"
        },
        "id": "Nzz24S11u9Hv",
        "outputId": "ee7b4949-c96e-40ad-bd82-da18b8f41550"
      },
      "execution_count": null,
      "outputs": [
        {
          "output_type": "stream",
          "name": "stdout",
          "text": [
            "CPU times: user 12.8 s, sys: 207 ms, total: 13 s\n",
            "Wall time: 13 s\n"
          ]
        },
        {
          "output_type": "execute_result",
          "data": {
            "text/plain": [
              "array([2, 2, 2, ..., 0, 0, 2])"
            ]
          },
          "metadata": {},
          "execution_count": 23
        }
      ]
    },
    {
      "cell_type": "markdown",
      "source": [
        "##### Metrics"
      ],
      "metadata": {
        "id": "2ZaD_VEnwtJZ"
      }
    },
    {
      "cell_type": "markdown",
      "source": [
        "- Confusion Matrix"
      ],
      "metadata": {
        "id": "eJnmMrBLwwol"
      }
    },
    {
      "cell_type": "code",
      "source": [
        "le.classes_"
      ],
      "metadata": {
        "colab": {
          "base_uri": "https://localhost:8080/"
        },
        "id": "ovNjksdQxqK6",
        "outputId": "44ed392e-be47-446f-dc8a-dae53c47f148"
      },
      "execution_count": null,
      "outputs": [
        {
          "output_type": "execute_result",
          "data": {
            "text/plain": [
              "array(['negative', 'neutral', 'positive'], dtype=object)"
            ]
          },
          "metadata": {},
          "execution_count": 24
        }
      ]
    },
    {
      "cell_type": "markdown",
      "source": [
        "- There's no direct method within `LabelEncoder` to retrieve the classes as integers instead of their original form, you can achieve this by combining `classes_` and `transform`:\n",
        "\n",
        "```\n",
        "from sklearn.preprocessing import LabelEncoder\n",
        "\n",
        "# Sample labels\n",
        "labels = ['cat', 'dog', 'cat', 'bird']\n",
        "\n",
        "# Initialize the encoder\n",
        "le = LabelEncoder()\n",
        "\n",
        "# Fit the encoder\n",
        "le.fit(labels)\n",
        "\n",
        "# Get integer representation of classes\n",
        "integer_classes = le.transform(le.classes_)\n",
        "\n",
        "print(f\"Classes in integer form: {integer_classes}\")\n",
        "```"
      ],
      "metadata": {
        "id": "6EfEWhJx0Nes"
      }
    },
    {
      "cell_type": "code",
      "source": [
        "cm = confusion_matrix(y_true=valid_labels,\n",
        "                      y_pred=valid_pred_eno_cv,\n",
        "                      labels=np.unique(valid_labels))\n",
        "print(f\"Confusion Matrix:\\n\\n{cm}\")"
      ],
      "metadata": {
        "colab": {
          "base_uri": "https://localhost:8080/"
        },
        "id": "au-MOCxqw0Ck",
        "outputId": "9ded2e13-e38a-4e53-a8d3-129d42c59c44"
      },
      "execution_count": null,
      "outputs": [
        {
          "output_type": "stream",
          "name": "stdout",
          "text": [
            "Confusion Matrix:\n",
            "\n",
            "[[ 249   74  187]\n",
            " [  76   64  332]\n",
            " [ 159  209 4334]]\n"
          ]
        }
      ]
    },
    {
      "cell_type": "markdown",
      "source": [
        "- Create a heatmap for better visualization"
      ],
      "metadata": {
        "id": "LH4Xwjbg0rOJ"
      }
    },
    {
      "cell_type": "code",
      "source": [
        "plt.figure(figsize=(5,5))\n",
        "sb.heatmap(cm, annot=True, fmt=\"d\", cmap=\"viridis\",\n",
        "            xticklabels=np.unique(valid_labels),\n",
        "            yticklabels=np.unique(valid_labels))\n",
        "plt.xlabel(\"Predicted\")\n",
        "plt.ylabel(\"Actual\")\n",
        "plt.title(\"Confusion Matrix\")\n",
        "plt.show()"
      ],
      "metadata": {
        "colab": {
          "base_uri": "https://localhost:8080/",
          "height": 487
        },
        "id": "C1DeKAmDyY9K",
        "outputId": "4ebae7a2-95fe-4aac-bead-32591ff9b7b0"
      },
      "execution_count": null,
      "outputs": [
        {
          "output_type": "display_data",
          "data": {
            "text/plain": [
              "<Figure size 500x500 with 2 Axes>"
            ],
            "image/png": "[encoded data removed]"
          },
          "metadata": {}
        }
      ]
    },
    {
      "cell_type": "markdown",
      "source": [
        "- Classification Report"
      ],
      "metadata": {
        "id": "xbxhTpvZw06f"
      }
    },
    {
      "cell_type": "code",
      "source": [
        "print(f\"\"\"Classification Report:\\n\\n{classification_report(y_true=valid_labels,\n",
        "                                                         y_pred=valid_pred_eno_cv,\n",
        "                                                         target_names=le.classes_)}\"\"\")"
      ],
      "metadata": {
        "id": "deF1Ehzww32t",
        "colab": {
          "base_uri": "https://localhost:8080/"
        },
        "outputId": "48aa5bcb-ffd1-46e5-ffab-b6f79b0e38f9"
      },
      "execution_count": null,
      "outputs": [
        {
          "output_type": "stream",
          "name": "stdout",
          "text": [
            "Classification Report:\n",
            "\n",
            "              precision    recall  f1-score   support\n",
            "\n",
            "    negative       0.51      0.49      0.50       510\n",
            "     neutral       0.18      0.14      0.16       472\n",
            "    positive       0.89      0.92      0.91      4702\n",
            "\n",
            "    accuracy                           0.82      5684\n",
            "   macro avg       0.53      0.52      0.52      5684\n",
            "weighted avg       0.80      0.82      0.81      5684\n",
            "\n"
          ]
        }
      ]
    },
    {
      "cell_type": "markdown",
      "source": [
        "#### Class Weights - Balanced"
      ],
      "metadata": {
        "id": "5Fibyz0qZklg"
      }
    },
    {
      "cell_type": "markdown",
      "source": [
        "##### Create pipeline - `pipe_eno_cv_bal`"
      ],
      "metadata": {
        "id": "1TDdXR1uJUTl"
      }
    },
    {
      "cell_type": "code",
      "execution_count": null,
      "metadata": {
        "id": "yQitKq1FJUTn"
      },
      "outputs": [],
      "source": [
        "pipe_eno_cv_bal = Pipeline(\n",
        "                        [\n",
        "                          (\"Clean_Corpus\", CleanCorpusTransformer(emoji=False, stop_words=False)),\n",
        "                          (\"Word_Vectorizer\", WordVectors(vectorizer=\"count\")),\n",
        "                          (\"Scaler\", StandardScaler(with_mean=False)), # For sparse matrix it should be \"with_mean=False\"\n",
        "                          (\"Classifier\", LogisticRegression(max_iter=1000, class_weight=\"balanced\"))\n",
        "                        ]\n",
        "                      )"
      ]
    },
    {
      "cell_type": "markdown",
      "source": [
        "##### Fit pipeline - `pipe_eno_cv_bal`"
      ],
      "metadata": {
        "id": "Mf8BV-xtJUTo"
      }
    },
    {
      "cell_type": "code",
      "source": [
        "%%time\n",
        "# CPU times: user 2min 49s, sys: 13.6 s, total: 3min 2s\n",
        "# Wall time: 2min 45s\n",
        "pipe_eno_cv_bal.fit(X=train_reviews, y=train_labels)"
      ],
      "metadata": {
        "colab": {
          "base_uri": "https://localhost:8080/",
          "height": 228
        },
        "outputId": "32da4c4e-dc49-4f88-d193-a1e5b8cde3d9",
        "id": "xKLouFXAJUTo"
      },
      "execution_count": null,
      "outputs": [
        {
          "output_type": "stream",
          "name": "stdout",
          "text": [
            "CPU times: user 2min 49s, sys: 13.6 s, total: 3min 2s\n",
            "Wall time: 2min 45s\n"
          ]
        },
        {
          "output_type": "execute_result",
          "data": {
            "text/plain": [
              "Pipeline(steps=[('Clean_Corpus',\n",
              "                 <__main__.CleanCorpusTransformer object at 0x7ce1f53139d0>),\n",
              "                ('Word_Vectorizer',\n",
              "                 <__main__.WordVectors object at 0x7ce1f53106a0>),\n",
              "                ('Scaler', StandardScaler(with_mean=False)),\n",
              "                ('Classifier',\n",
              "                 LogisticRegression(class_weight='balanced', max_iter=1000))])"
            ],
            "text/html": [
              "<style>#sk-container-id-2 {color: black;}#sk-container-id-2 pre{padding: 0;}#sk-container-id-2 div.sk-toggleable {background-color: white;}#sk-container-id-2 label.sk-toggleable__label {cursor: pointer;display: block;width: 100%;margin-bottom: 0;padding: 0.3em;box-sizing: border-box;text-align: center;}#sk-container-id-2 label.sk-toggleable__label-arrow:before {content: \"▸\";float: left;margin-right: 0.25em;color: #696969;}#sk-container-id-2 label.sk-toggleable__label-arrow:hover:before {color: black;}#sk-container-id-2 div.sk-estimator:hover label.sk-toggleable__label-arrow:before {color: black;}#sk-container-id-2 div.sk-toggleable__content {max-height: 0;max-width: 0;overflow: hidden;text-align: left;background-color: #f0f8ff;}#sk-container-id-2 div.sk-toggleable__content pre {margin: 0.2em;color: black;border-radius: 0.25em;background-color: #f0f8ff;}#sk-container-id-2 input.sk-toggleable__control:checked~div.sk-toggleable__content {max-height: 200px;max-width: 100%;overflow: auto;}#sk-container-id-2 input.sk-toggleable__control:checked~label.sk-toggleable__label-arrow:before {content: \"▾\";}#sk-container-id-2 div.sk-estimator input.sk-toggleable__control:checked~label.sk-toggleable__label {background-color: #d4ebff;}#sk-container-id-2 div.sk-label input.sk-toggleable__control:checked~label.sk-toggleable__label {background-color: #d4ebff;}#sk-container-id-2 input.sk-hidden--visually {border: 0;clip: rect(1px 1px 1px 1px);clip: rect(1px, 1px, 1px, 1px);height: 1px;margin: -1px;overflow: hidden;padding: 0;position: absolute;width: 1px;}#sk-container-id-2 div.sk-estimator {font-family: monospace;background-color: #f0f8ff;border: 1px dotted black;border-radius: 0.25em;box-sizing: border-box;margin-bottom: 0.5em;}#sk-container-id-2 div.sk-estimator:hover {background-color: #d4ebff;}#sk-container-id-2 div.sk-parallel-item::after {content: \"\";width: 100%;border-bottom: 1px solid gray;flex-grow: 1;}#sk-container-id-2 div.sk-label:hover label.sk-toggleable__label {background-color: #d4ebff;}#sk-container-id-2 div.sk-serial::before {content: \"\";position: absolute;border-left: 1px solid gray;box-sizing: border-box;top: 0;bottom: 0;left: 50%;z-index: 0;}#sk-container-id-2 div.sk-serial {display: flex;flex-direction: column;align-items: center;background-color: white;padding-right: 0.2em;padding-left: 0.2em;position: relative;}#sk-container-id-2 div.sk-item {position: relative;z-index: 1;}#sk-container-id-2 div.sk-parallel {display: flex;align-items: stretch;justify-content: center;background-color: white;position: relative;}#sk-container-id-2 div.sk-item::before, #sk-container-id-2 div.sk-parallel-item::before {content: \"\";position: absolute;border-left: 1px solid gray;box-sizing: border-box;top: 0;bottom: 0;left: 50%;z-index: -1;}#sk-container-id-2 div.sk-parallel-item {display: flex;flex-direction: column;z-index: 1;position: relative;background-color: white;}#sk-container-id-2 div.sk-parallel-item:first-child::after {align-self: flex-end;width: 50%;}#sk-container-id-2 div.sk-parallel-item:last-child::after {align-self: flex-start;width: 50%;}#sk-container-id-2 div.sk-parallel-item:only-child::after {width: 0;}#sk-container-id-2 div.sk-dashed-wrapped {border: 1px dashed gray;margin: 0 0.4em 0.5em 0.4em;box-sizing: border-box;padding-bottom: 0.4em;background-color: white;}#sk-container-id-2 div.sk-label label {font-family: monospace;font-weight: bold;display: inline-block;line-height: 1.2em;}#sk-container-id-2 div.sk-label-container {text-align: center;}#sk-container-id-2 div.sk-container {/* jupyter's `normalize.less` sets `[hidden] { display: none; }` but bootstrap.min.css set `[hidden] { display: none !important; }` so we also need the `!important` here to be able to override the default hidden behavior on the sphinx rendered scikit-learn.org. See: https://github.com/scikit-learn/scikit-learn/issues/21755 */display: inline-block !important;position: relative;}#sk-container-id-2 div.sk-text-repr-fallback {display: none;}</style><div id=\"sk-container-id-2\" class=\"sk-top-container\"><div class=\"sk-text-repr-fallback\"><pre>Pipeline(steps=[(&#x27;Clean_Corpus&#x27;,\n",
              "                 &lt;__main__.CleanCorpusTransformer object at 0x7ce1f53139d0&gt;),\n",
              "                (&#x27;Word_Vectorizer&#x27;,\n",
              "                 &lt;__main__.WordVectors object at 0x7ce1f53106a0&gt;),\n",
              "                (&#x27;Scaler&#x27;, StandardScaler(with_mean=False)),\n",
              "                (&#x27;Classifier&#x27;,\n",
              "                 LogisticRegression(class_weight=&#x27;balanced&#x27;, max_iter=1000))])</pre><b>In a Jupyter environment, please rerun this cell to show the HTML representation or trust the notebook. <br />On GitHub, the HTML representation is unable to render, please try loading this page with nbviewer.org.</b></div><div class=\"sk-container\" hidden><div class=\"sk-item sk-dashed-wrapped\"><div class=\"sk-label-container\"><div class=\"sk-label sk-toggleable\"><input class=\"sk-toggleable__control sk-hidden--visually\" id=\"sk-estimator-id-6\" type=\"checkbox\" ><label for=\"sk-estimator-id-6\" class=\"sk-toggleable__label sk-toggleable__label-arrow\">Pipeline</label><div class=\"sk-toggleable__content\"><pre>Pipeline(steps=[(&#x27;Clean_Corpus&#x27;,\n",
              "                 &lt;__main__.CleanCorpusTransformer object at 0x7ce1f53139d0&gt;),\n",
              "                (&#x27;Word_Vectorizer&#x27;,\n",
              "                 &lt;__main__.WordVectors object at 0x7ce1f53106a0&gt;),\n",
              "                (&#x27;Scaler&#x27;, StandardScaler(with_mean=False)),\n",
              "                (&#x27;Classifier&#x27;,\n",
              "                 LogisticRegression(class_weight=&#x27;balanced&#x27;, max_iter=1000))])</pre></div></div></div><div class=\"sk-serial\"><div class=\"sk-item\"><div class=\"sk-estimator sk-toggleable\"><input class=\"sk-toggleable__control sk-hidden--visually\" id=\"sk-estimator-id-7\" type=\"checkbox\" ><label for=\"sk-estimator-id-7\" class=\"sk-toggleable__label sk-toggleable__label-arrow\">CleanCorpusTransformer</label><div class=\"sk-toggleable__content\"><pre>&lt;__main__.CleanCorpusTransformer object at 0x7ce1f53139d0&gt;</pre></div></div></div><div class=\"sk-item\"><div class=\"sk-estimator sk-toggleable\"><input class=\"sk-toggleable__control sk-hidden--visually\" id=\"sk-estimator-id-8\" type=\"checkbox\" ><label for=\"sk-estimator-id-8\" class=\"sk-toggleable__label sk-toggleable__label-arrow\">WordVectors</label><div class=\"sk-toggleable__content\"><pre>&lt;__main__.WordVectors object at 0x7ce1f53106a0&gt;</pre></div></div></div><div class=\"sk-item\"><div class=\"sk-estimator sk-toggleable\"><input class=\"sk-toggleable__control sk-hidden--visually\" id=\"sk-estimator-id-9\" type=\"checkbox\" ><label for=\"sk-estimator-id-9\" class=\"sk-toggleable__label sk-toggleable__label-arrow\">StandardScaler</label><div class=\"sk-toggleable__content\"><pre>StandardScaler(with_mean=False)</pre></div></div></div><div class=\"sk-item\"><div class=\"sk-estimator sk-toggleable\"><input class=\"sk-toggleable__control sk-hidden--visually\" id=\"sk-estimator-id-10\" type=\"checkbox\" ><label for=\"sk-estimator-id-10\" class=\"sk-toggleable__label sk-toggleable__label-arrow\">LogisticRegression</label><div class=\"sk-toggleable__content\"><pre>LogisticRegression(class_weight=&#x27;balanced&#x27;, max_iter=1000)</pre></div></div></div></div></div></div></div>"
            ]
          },
          "metadata": {},
          "execution_count": 29
        }
      ]
    },
    {
      "cell_type": "markdown",
      "source": [
        "##### Predict validation data"
      ],
      "metadata": {
        "id": "VnQY5dprJUTp"
      }
    },
    {
      "cell_type": "code",
      "source": [
        "%%time\n",
        "valid_pred_cv_eno_bal = pipe_eno_cv_bal.predict(X=valid_reviews)\n",
        "valid_pred_cv_eno_bal"
      ],
      "metadata": {
        "colab": {
          "base_uri": "https://localhost:8080/"
        },
        "outputId": "0ac1ee45-09b8-4a48-e031-bf7c2aa8df37",
        "id": "It3odsG1JUTp"
      },
      "execution_count": null,
      "outputs": [
        {
          "output_type": "stream",
          "name": "stdout",
          "text": [
            "CPU times: user 12.2 s, sys: 209 ms, total: 12.4 s\n",
            "Wall time: 12.5 s\n"
          ]
        },
        {
          "output_type": "execute_result",
          "data": {
            "text/plain": [
              "array([2, 2, 2, ..., 0, 0, 2])"
            ]
          },
          "metadata": {},
          "execution_count": 30
        }
      ]
    },
    {
      "cell_type": "markdown",
      "source": [
        "##### Metrics"
      ],
      "metadata": {
        "id": "dIGEBU7mJUTp"
      }
    },
    {
      "cell_type": "markdown",
      "source": [
        "- Confusion Matrix"
      ],
      "metadata": {
        "id": "E8z2jEhNJUTq"
      }
    },
    {
      "cell_type": "code",
      "source": [
        "le.classes_"
      ],
      "metadata": {
        "colab": {
          "base_uri": "https://localhost:8080/"
        },
        "outputId": "9296ff28-6027-4608-c588-ee08e53c0f44",
        "id": "r_79EhXOJUTq"
      },
      "execution_count": null,
      "outputs": [
        {
          "output_type": "execute_result",
          "data": {
            "text/plain": [
              "array(['negative', 'neutral', 'positive'], dtype=object)"
            ]
          },
          "metadata": {},
          "execution_count": 31
        }
      ]
    },
    {
      "cell_type": "markdown",
      "source": [
        "- There's no direct method within `LabelEncoder` to retrieve the classes as integers instead of their original form, you can achieve this by combining `classes_` and `transform`:\n",
        "\n",
        "```\n",
        "from sklearn.preprocessing import LabelEncoder\n",
        "\n",
        "# Sample labels\n",
        "labels = ['cat', 'dog', 'cat', 'bird']\n",
        "\n",
        "# Initialize the encoder\n",
        "le = LabelEncoder()\n",
        "\n",
        "# Fit the encoder\n",
        "le.fit(labels)\n",
        "\n",
        "# Get integer representation of classes\n",
        "integer_classes = le.transform(le.classes_)\n",
        "\n",
        "print(f\"Classes in integer form: {integer_classes}\")\n",
        "```"
      ],
      "metadata": {
        "id": "4TU4j_H_JUTq"
      }
    },
    {
      "cell_type": "code",
      "source": [
        "cm = confusion_matrix(y_true=valid_labels,\n",
        "                      y_pred=valid_pred_cv_eno_bal,\n",
        "                      labels=np.unique(valid_labels))\n",
        "print(f\"Confusion Matrix:\\n\\n{cm}\")"
      ],
      "metadata": {
        "colab": {
          "base_uri": "https://localhost:8080/"
        },
        "outputId": "519532e6-4e26-43ce-a751-5a94b237c4df",
        "id": "CFaQkS-MJUTq"
      },
      "execution_count": null,
      "outputs": [
        {
          "output_type": "stream",
          "name": "stdout",
          "text": [
            "Confusion Matrix:\n",
            "\n",
            "[[ 274  108  128]\n",
            " [  94  108  270]\n",
            " [ 252  610 3840]]\n"
          ]
        }
      ]
    },
    {
      "cell_type": "markdown",
      "source": [
        "- Create a heatmap for better visualization"
      ],
      "metadata": {
        "id": "WHY7zy8cJUTr"
      }
    },
    {
      "cell_type": "code",
      "source": [
        "plt.figure(figsize=(5,5))\n",
        "sb.heatmap(cm, annot=True, fmt=\"d\", cmap=\"viridis\",\n",
        "            xticklabels=np.unique(valid_labels),\n",
        "            yticklabels=np.unique(valid_labels))\n",
        "plt.xlabel(\"Predicted\")\n",
        "plt.ylabel(\"Actual\")\n",
        "plt.title(\"Confusion Matrix\")\n",
        "plt.show()"
      ],
      "metadata": {
        "colab": {
          "base_uri": "https://localhost:8080/",
          "height": 487
        },
        "outputId": "d8fc8e7d-58cc-4734-d116-8285a62e6322",
        "id": "9k1oQ5zAJUTr"
      },
      "execution_count": null,
      "outputs": [
        {
          "output_type": "display_data",
          "data": {
            "text/plain": [
              "<Figure size 500x500 with 2 Axes>"
            ],
            "image/png": "[encoded data removed]"
          },
          "metadata": {}
        }
      ]
    },
    {
      "cell_type": "markdown",
      "source": [
        "- Classification Report"
      ],
      "metadata": {
        "id": "wXaQZ-ZcJUTr"
      }
    },
    {
      "cell_type": "code",
      "source": [
        "print(f\"\"\"Classification Report:\\n\\n{classification_report(y_true=valid_labels,\n",
        "                                                         y_pred=valid_pred_cv_eno_bal,\n",
        "                                                         target_names=le.classes_)}\"\"\")"
      ],
      "metadata": {
        "colab": {
          "base_uri": "https://localhost:8080/"
        },
        "outputId": "d9d422d0-180e-4bec-d625-45152a7f206d",
        "id": "cfzYlRWmJUTs"
      },
      "execution_count": null,
      "outputs": [
        {
          "output_type": "stream",
          "name": "stdout",
          "text": [
            "Classification Report:\n",
            "\n",
            "              precision    recall  f1-score   support\n",
            "\n",
            "    negative       0.44      0.54      0.48       510\n",
            "     neutral       0.13      0.23      0.17       472\n",
            "    positive       0.91      0.82      0.86      4702\n",
            "\n",
            "    accuracy                           0.74      5684\n",
            "   macro avg       0.49      0.53      0.50      5684\n",
            "weighted avg       0.80      0.74      0.77      5684\n",
            "\n"
          ]
        }
      ]
    },
    {
      "cell_type": "markdown",
      "source": [
        "#### Class Weights - Customized"
      ],
      "metadata": {
        "id": "tn69KTzGZusM"
      }
    },
    {
      "cell_type": "markdown",
      "source": [
        "##### Calculate weights"
      ],
      "metadata": {
        "id": "swlLFMFQLiWY"
      }
    },
    {
      "cell_type": "markdown",
      "source": [
        "- Import library"
      ],
      "metadata": {
        "id": "cHR6d7coLsTY"
      }
    },
    {
      "cell_type": "code",
      "source": [
        "from sklearn.utils.class_weight import compute_class_weight\n",
        "# import numpy as np"
      ],
      "metadata": {
        "id": "4YVs9_GsZyWZ"
      },
      "execution_count": null,
      "outputs": []
    },
    {
      "cell_type": "markdown",
      "source": [
        "- Compute Class Weights"
      ],
      "metadata": {
        "id": "-sExhJt3Ly4a"
      }
    },
    {
      "cell_type": "markdown",
      "source": [
        "**Balanced(same as `class_weight=\"balanced\"` in `Logistis Regression`):**\n",
        "```\n",
        "def compute_custom_weights(train_labels):\n",
        "  classes, counts = np.unique(train_labels, return_counts=True)\n",
        "  class_weights = 1.0 / counts\n",
        "  normalized_weights = class_weights / np.sum(class_weights)\n",
        "  class_weight_dict = {i: weight for i, weight in enumerate(normalized_weights)}\n",
        "  return class_weight_dict\n",
        "```\n",
        "\n",
        "**2. Inverse of class frequency:**\n",
        "```\n",
        "def effective_sample_size_weights(train_labels, beta=0.9):\n",
        "  classes, counts = np.unique(train_labels, return_counts=True)\n",
        "  eff_n = counts / (1.0 + (counts - 1) * beta)\n",
        "  weights = eff_n / np.sum(eff_n)\n",
        "  class_weight_dict = {i: weight for i, weight in enumerate(weights)}\n",
        "  return class_weight_dict\n",
        "```\n",
        "\n",
        "**Square Root of Inverse Frequency:**\n",
        "```def sqrt_inv_freq_weights(train_labels):\n",
        "  classes, counts = np.unique(train_labels, return_counts=True)\n",
        "  weights = 1.0 / np.sqrt(counts)\n",
        "  normalized_weights = weights / np.sum(weights)\n",
        "  class_weight_dict = {i: weight for i, weight in enumerate(normalized_weights)}\n",
        "  return class_weight_dict\n",
        "```\n",
        "\n",
        "**Inverse of F1-Score:**\n",
        "\n",
        "`(1)`\n",
        "```\n",
        "f1_scores = np.array([0.52, 0.18, 0.90])  # Negative, Neutral, Positive\n",
        "class_weights = 1.0 / f1_scores\n",
        "normalized_weights = class_weights / np.sum(class_weights)\n",
        "class_weight_dict = {i: weight for i, weight in enumerate(normalized_weights)}\n",
        "print(class_weight_dict)\n",
        "```\n",
        "`(2)`\n",
        "\n",
        "Emphasis on Lowest F1-Score: If you want to particularly focus on improving the \"neutral\" class, you can further increase its weight.\n",
        "\n",
        "```\n",
        "class_weight_dict[1] = class_weight_dict[1] * 2  # Double the weight for \"neutral\"\n",
        "normalized_weights = np.array(list(class_weight_dict.values())) / np.sum(list(class_weight_dict.values()))\n",
        "class_weight_dict = {i: weight for i, weight in enumerate(normalized_weights)}\n",
        "print(class_weight_dict)\n",
        "```\n",
        "\n",
        "These are just examples, and you might need to experiment with different scaling factors or adjustments based on the specific characteristics of your data and model.\n",
        "\n",
        "**Frequency-weighted F1-score:**\n",
        "```\n",
        "def freq_weighted_f1_scores(train_labels, f1_scores):\n",
        "  classes, counts = np.unique(train_labels, return_counts=True)\n",
        "  weighted_f1 = f1_scores * counts\n",
        "  inv_weighted_f1 = 1.0 / weighted_f1\n",
        "  normalized_weights = inv_weighted_f1 / np.sum(inv_weighted_f1)\n",
        "  class_weight_dict = {i: weight for i, weight in enumerate(normalized_weights)}\n",
        "  return class_weight_dict\n",
        "\n",
        "f1_scores = np.array([0.52, 0.18, 0.90])  # Negative, Neutral, Positive\n",
        "class_weight_dict = freq_weighted_f1_scores(train_labels, f1_scores)\n",
        "print(class_weight_dict)\n",
        "```"
      ],
      "metadata": {
        "id": "5gCG9oCRRv0S"
      }
    },
    {
      "cell_type": "markdown",
      "source": [
        "- Create a dictionary"
      ],
      "metadata": {
        "id": "8BYmlNUML1cI"
      }
    },
    {
      "cell_type": "code",
      "source": [
        "def compute_custom_weights(train_labels):\n",
        "  classes, counts = np.unique(train_labels, return_counts=True)\n",
        "  class_weights = 1.0 / counts\n",
        "  normalized_weights = class_weights / np.sum(class_weights)\n",
        "  class_weight_dict = {i: weight for i, weight in enumerate(normalized_weights)}\n",
        "  return list(class_weight_dict.values())"
      ],
      "metadata": {
        "id": "H6KYaj5RMYXI"
      },
      "execution_count": null,
      "outputs": []
    },
    {
      "cell_type": "code",
      "source": [
        "##  Lowest F1-Score:\n",
        "f1_scores = np.array(compute_custom_weights(train_labels))  # Negative, Neutral, Positive\n",
        "class_weights = 1.0 / f1_scores\n",
        "normalized_weights = class_weights / np.sum(class_weights)\n",
        "class_weight_dict = {i: weight for i, weight in enumerate(normalized_weights)}"
      ],
      "metadata": {
        "id": "Jagln40vLdrZ"
      },
      "execution_count": null,
      "outputs": []
    },
    {
      "cell_type": "code",
      "source": [
        "##  Lowest F1-Score:\n",
        "class_weight_dict[0] = class_weight_dict[0] * 8  # x15 the weight for \"negative\"\n",
        "class_weight_dict[1] = class_weight_dict[1] * 15  # x18 the weight for \"neutral\"\n",
        "normalized_weights = np.array(list(class_weight_dict.values())) / np.sum(list(class_weight_dict.values()))\n",
        "class_weight_dict = {i: weight for i, weight in enumerate(normalized_weights)}"
      ],
      "metadata": {
        "id": "xbdtibV8ONuJ"
      },
      "execution_count": null,
      "outputs": []
    },
    {
      "cell_type": "code",
      "source": [
        "class_weight_dict"
      ],
      "metadata": {
        "colab": {
          "base_uri": "https://localhost:8080/"
        },
        "id": "JhJsVJl9Lwx2",
        "outputId": "d352b7fb-ce41-48ed-a55f-7eb6f86d6f35"
      },
      "execution_count": null,
      "outputs": [
        {
          "output_type": "execute_result",
          "data": {
            "text/plain": [
              "{0: 0.2373161958370333, 1: 0.4320996944749635, 2: 0.33058410968800334}"
            ]
          },
          "metadata": {},
          "execution_count": 109
        }
      ]
    },
    {
      "cell_type": "markdown",
      "source": [
        "##### Create pipeline - `pipe_eno_cv_cust`"
      ],
      "metadata": {
        "id": "0KepI63gMBC0"
      }
    },
    {
      "cell_type": "code",
      "execution_count": null,
      "metadata": {
        "id": "XJRqmyduMBC2"
      },
      "outputs": [],
      "source": [
        "pipe_eno_cv_cust = Pipeline(\n",
        "                        [\n",
        "                          (\"Clean_Corpus\", CleanCorpusTransformer(emoji=False, stop_words=False)),\n",
        "                          (\"Word_Vectorizer\", WordVectors(vectorizer=\"count\")),\n",
        "                          (\"Scaler\", StandardScaler(with_mean=False)), # For sparse matrix it should be \"with_mean=False\"\n",
        "                          (\"Classifier\", LogisticRegression(max_iter=1000, class_weight=class_weight_dict))\n",
        "                        ]\n",
        "                      )"
      ]
    },
    {
      "cell_type": "markdown",
      "source": [
        "##### Fit pipeline - `pipe_eno_cv_cust`"
      ],
      "metadata": {
        "id": "l48EcFP-MBC3"
      }
    },
    {
      "cell_type": "code",
      "source": [
        "%%time\n",
        "# CPU times: user 2min 42s, sys: 7.22 s, total: 2min 49s\n",
        "# Wall time: 3min 13s\n",
        "pipe_eno_cv_cust.fit(X=train_reviews, y=train_labels)"
      ],
      "metadata": {
        "colab": {
          "base_uri": "https://localhost:8080/",
          "height": 228
        },
        "outputId": "32cc16b5-62d4-458a-f37f-dba897ce0046",
        "id": "2ayILvpxMBC4"
      },
      "execution_count": null,
      "outputs": [
        {
          "output_type": "stream",
          "name": "stdout",
          "text": [
            "CPU times: user 2min 33s, sys: 8.09 s, total: 2min 41s\n",
            "Wall time: 2min 32s\n"
          ]
        },
        {
          "output_type": "execute_result",
          "data": {
            "text/plain": [
              "Pipeline(steps=[('Clean_Corpus',\n",
              "                 <__main__.CleanCorpusTransformer object at 0x7ce1ea2f6440>),\n",
              "                ('Word_Vectorizer',\n",
              "                 <__main__.WordVectors object at 0x7ce1ea24da20>),\n",
              "                ('Scaler', StandardScaler(with_mean=False)),\n",
              "                ('Classifier',\n",
              "                 LogisticRegression(class_weight={0: 0.2373161958370333,\n",
              "                                                  1: 0.4320996944749635,\n",
              "                                                  2: 0.33058410968800334},\n",
              "                                    max_iter=1000))])"
            ],
            "text/html": [
              "<style>#sk-container-id-5 {color: black;}#sk-container-id-5 pre{padding: 0;}#sk-container-id-5 div.sk-toggleable {background-color: white;}#sk-container-id-5 label.sk-toggleable__label {cursor: pointer;display: block;width: 100%;margin-bottom: 0;padding: 0.3em;box-sizing: border-box;text-align: center;}#sk-container-id-5 label.sk-toggleable__label-arrow:before {content: \"▸\";float: left;margin-right: 0.25em;color: #696969;}#sk-container-id-5 label.sk-toggleable__label-arrow:hover:before {color: black;}#sk-container-id-5 div.sk-estimator:hover label.sk-toggleable__label-arrow:before {color: black;}#sk-container-id-5 div.sk-toggleable__content {max-height: 0;max-width: 0;overflow: hidden;text-align: left;background-color: #f0f8ff;}#sk-container-id-5 div.sk-toggleable__content pre {margin: 0.2em;color: black;border-radius: 0.25em;background-color: #f0f8ff;}#sk-container-id-5 input.sk-toggleable__control:checked~div.sk-toggleable__content {max-height: 200px;max-width: 100%;overflow: auto;}#sk-container-id-5 input.sk-toggleable__control:checked~label.sk-toggleable__label-arrow:before {content: \"▾\";}#sk-container-id-5 div.sk-estimator input.sk-toggleable__control:checked~label.sk-toggleable__label {background-color: #d4ebff;}#sk-container-id-5 div.sk-label input.sk-toggleable__control:checked~label.sk-toggleable__label {background-color: #d4ebff;}#sk-container-id-5 input.sk-hidden--visually {border: 0;clip: rect(1px 1px 1px 1px);clip: rect(1px, 1px, 1px, 1px);height: 1px;margin: -1px;overflow: hidden;padding: 0;position: absolute;width: 1px;}#sk-container-id-5 div.sk-estimator {font-family: monospace;background-color: #f0f8ff;border: 1px dotted black;border-radius: 0.25em;box-sizing: border-box;margin-bottom: 0.5em;}#sk-container-id-5 div.sk-estimator:hover {background-color: #d4ebff;}#sk-container-id-5 div.sk-parallel-item::after {content: \"\";width: 100%;border-bottom: 1px solid gray;flex-grow: 1;}#sk-container-id-5 div.sk-label:hover label.sk-toggleable__label {background-color: #d4ebff;}#sk-container-id-5 div.sk-serial::before {content: \"\";position: absolute;border-left: 1px solid gray;box-sizing: border-box;top: 0;bottom: 0;left: 50%;z-index: 0;}#sk-container-id-5 div.sk-serial {display: flex;flex-direction: column;align-items: center;background-color: white;padding-right: 0.2em;padding-left: 0.2em;position: relative;}#sk-container-id-5 div.sk-item {position: relative;z-index: 1;}#sk-container-id-5 div.sk-parallel {display: flex;align-items: stretch;justify-content: center;background-color: white;position: relative;}#sk-container-id-5 div.sk-item::before, #sk-container-id-5 div.sk-parallel-item::before {content: \"\";position: absolute;border-left: 1px solid gray;box-sizing: border-box;top: 0;bottom: 0;left: 50%;z-index: -1;}#sk-container-id-5 div.sk-parallel-item {display: flex;flex-direction: column;z-index: 1;position: relative;background-color: white;}#sk-container-id-5 div.sk-parallel-item:first-child::after {align-self: flex-end;width: 50%;}#sk-container-id-5 div.sk-parallel-item:last-child::after {align-self: flex-start;width: 50%;}#sk-container-id-5 div.sk-parallel-item:only-child::after {width: 0;}#sk-container-id-5 div.sk-dashed-wrapped {border: 1px dashed gray;margin: 0 0.4em 0.5em 0.4em;box-sizing: border-box;padding-bottom: 0.4em;background-color: white;}#sk-container-id-5 div.sk-label label {font-family: monospace;font-weight: bold;display: inline-block;line-height: 1.2em;}#sk-container-id-5 div.sk-label-container {text-align: center;}#sk-container-id-5 div.sk-container {/* jupyter's `normalize.less` sets `[hidden] { display: none; }` but bootstrap.min.css set `[hidden] { display: none !important; }` so we also need the `!important` here to be able to override the default hidden behavior on the sphinx rendered scikit-learn.org. See: https://github.com/scikit-learn/scikit-learn/issues/21755 */display: inline-block !important;position: relative;}#sk-container-id-5 div.sk-text-repr-fallback {display: none;}</style><div id=\"sk-container-id-5\" class=\"sk-top-container\"><div class=\"sk-text-repr-fallback\"><pre>Pipeline(steps=[(&#x27;Clean_Corpus&#x27;,\n",
              "                 &lt;__main__.CleanCorpusTransformer object at 0x7ce1ea2f6440&gt;),\n",
              "                (&#x27;Word_Vectorizer&#x27;,\n",
              "                 &lt;__main__.WordVectors object at 0x7ce1ea24da20&gt;),\n",
              "                (&#x27;Scaler&#x27;, StandardScaler(with_mean=False)),\n",
              "                (&#x27;Classifier&#x27;,\n",
              "                 LogisticRegression(class_weight={0: 0.2373161958370333,\n",
              "                                                  1: 0.4320996944749635,\n",
              "                                                  2: 0.33058410968800334},\n",
              "                                    max_iter=1000))])</pre><b>In a Jupyter environment, please rerun this cell to show the HTML representation or trust the notebook. <br />On GitHub, the HTML representation is unable to render, please try loading this page with nbviewer.org.</b></div><div class=\"sk-container\" hidden><div class=\"sk-item sk-dashed-wrapped\"><div class=\"sk-label-container\"><div class=\"sk-label sk-toggleable\"><input class=\"sk-toggleable__control sk-hidden--visually\" id=\"sk-estimator-id-21\" type=\"checkbox\" ><label for=\"sk-estimator-id-21\" class=\"sk-toggleable__label sk-toggleable__label-arrow\">Pipeline</label><div class=\"sk-toggleable__content\"><pre>Pipeline(steps=[(&#x27;Clean_Corpus&#x27;,\n",
              "                 &lt;__main__.CleanCorpusTransformer object at 0x7ce1ea2f6440&gt;),\n",
              "                (&#x27;Word_Vectorizer&#x27;,\n",
              "                 &lt;__main__.WordVectors object at 0x7ce1ea24da20&gt;),\n",
              "                (&#x27;Scaler&#x27;, StandardScaler(with_mean=False)),\n",
              "                (&#x27;Classifier&#x27;,\n",
              "                 LogisticRegression(class_weight={0: 0.2373161958370333,\n",
              "                                                  1: 0.4320996944749635,\n",
              "                                                  2: 0.33058410968800334},\n",
              "                                    max_iter=1000))])</pre></div></div></div><div class=\"sk-serial\"><div class=\"sk-item\"><div class=\"sk-estimator sk-toggleable\"><input class=\"sk-toggleable__control sk-hidden--visually\" id=\"sk-estimator-id-22\" type=\"checkbox\" ><label for=\"sk-estimator-id-22\" class=\"sk-toggleable__label sk-toggleable__label-arrow\">CleanCorpusTransformer</label><div class=\"sk-toggleable__content\"><pre>&lt;__main__.CleanCorpusTransformer object at 0x7ce1ea2f6440&gt;</pre></div></div></div><div class=\"sk-item\"><div class=\"sk-estimator sk-toggleable\"><input class=\"sk-toggleable__control sk-hidden--visually\" id=\"sk-estimator-id-23\" type=\"checkbox\" ><label for=\"sk-estimator-id-23\" class=\"sk-toggleable__label sk-toggleable__label-arrow\">WordVectors</label><div class=\"sk-toggleable__content\"><pre>&lt;__main__.WordVectors object at 0x7ce1ea24da20&gt;</pre></div></div></div><div class=\"sk-item\"><div class=\"sk-estimator sk-toggleable\"><input class=\"sk-toggleable__control sk-hidden--visually\" id=\"sk-estimator-id-24\" type=\"checkbox\" ><label for=\"sk-estimator-id-24\" class=\"sk-toggleable__label sk-toggleable__label-arrow\">StandardScaler</label><div class=\"sk-toggleable__content\"><pre>StandardScaler(with_mean=False)</pre></div></div></div><div class=\"sk-item\"><div class=\"sk-estimator sk-toggleable\"><input class=\"sk-toggleable__control sk-hidden--visually\" id=\"sk-estimator-id-25\" type=\"checkbox\" ><label for=\"sk-estimator-id-25\" class=\"sk-toggleable__label sk-toggleable__label-arrow\">LogisticRegression</label><div class=\"sk-toggleable__content\"><pre>LogisticRegression(class_weight={0: 0.2373161958370333, 1: 0.4320996944749635,\n",
              "                                 2: 0.33058410968800334},\n",
              "                   max_iter=1000)</pre></div></div></div></div></div></div></div>"
            ]
          },
          "metadata": {},
          "execution_count": 111
        }
      ]
    },
    {
      "cell_type": "markdown",
      "source": [
        "##### Predict validation data"
      ],
      "metadata": {
        "id": "HMXK9LyJMBC6"
      }
    },
    {
      "cell_type": "code",
      "source": [
        "%%time\n",
        "valid_pred_cv_eno_cust = pipe_eno_cv_cust.predict(X=valid_reviews)\n",
        "valid_pred_cv_eno_cust"
      ],
      "metadata": {
        "colab": {
          "base_uri": "https://localhost:8080/"
        },
        "outputId": "55cd2ebd-6102-40f3-8b60-bffd5c6f72fd",
        "id": "WqU8p6w_MBC6"
      },
      "execution_count": null,
      "outputs": [
        {
          "output_type": "stream",
          "name": "stdout",
          "text": [
            "CPU times: user 12.7 s, sys: 207 ms, total: 12.9 s\n",
            "Wall time: 13 s\n"
          ]
        },
        {
          "output_type": "execute_result",
          "data": {
            "text/plain": [
              "array([2, 2, 2, ..., 0, 0, 2])"
            ]
          },
          "metadata": {},
          "execution_count": 112
        }
      ]
    },
    {
      "cell_type": "markdown",
      "source": [
        "##### Metrics"
      ],
      "metadata": {
        "id": "cejkD19sMBC7"
      }
    },
    {
      "cell_type": "markdown",
      "source": [
        "- Confusion Matrix"
      ],
      "metadata": {
        "id": "gM6owTHgMBC8"
      }
    },
    {
      "cell_type": "code",
      "source": [
        "le.classes_"
      ],
      "metadata": {
        "colab": {
          "base_uri": "https://localhost:8080/"
        },
        "outputId": "9e728e10-3a83-4545-ae8b-51938fb10f42",
        "id": "e07-A6UrMBC8"
      },
      "execution_count": null,
      "outputs": [
        {
          "output_type": "execute_result",
          "data": {
            "text/plain": [
              "array(['negative', 'neutral', 'positive'], dtype=object)"
            ]
          },
          "metadata": {},
          "execution_count": 113
        }
      ]
    },
    {
      "cell_type": "markdown",
      "source": [
        "- There's no direct method within `LabelEncoder` to retrieve the classes as integers instead of their original form, you can achieve this by combining `classes_` and `transform`:\n",
        "\n",
        "```\n",
        "from sklearn.preprocessing import LabelEncoder\n",
        "\n",
        "# Sample labels\n",
        "labels = ['cat', 'dog', 'cat', 'bird']\n",
        "\n",
        "# Initialize the encoder\n",
        "le = LabelEncoder()\n",
        "\n",
        "# Fit the encoder\n",
        "le.fit(labels)\n",
        "\n",
        "# Get integer representation of classes\n",
        "integer_classes = le.transform(le.classes_)\n",
        "\n",
        "print(f\"Classes in integer form: {integer_classes}\")\n",
        "```"
      ],
      "metadata": {
        "id": "xPuwXULfMBC9"
      }
    },
    {
      "cell_type": "code",
      "source": [
        "cm = confusion_matrix(y_true=valid_labels,\n",
        "                      y_pred=valid_pred_cv_eno_cust,\n",
        "                      labels=np.unique(valid_labels))\n",
        "print(f\"Confusion Matrix:\\n\\n{cm}\")"
      ],
      "metadata": {
        "colab": {
          "base_uri": "https://localhost:8080/"
        },
        "outputId": "35e4ae69-b46d-4781-ac1e-16f74d53c90a",
        "id": "oFnrrcCOMBC-"
      },
      "execution_count": null,
      "outputs": [
        {
          "output_type": "stream",
          "name": "stdout",
          "text": [
            "Confusion Matrix:\n",
            "\n",
            "[[ 233   91  186]\n",
            " [  61   76  335]\n",
            " [ 133  224 4345]]\n"
          ]
        }
      ]
    },
    {
      "cell_type": "markdown",
      "source": [
        "- Create a heatmap for better visualization"
      ],
      "metadata": {
        "id": "rWkL79gpMBC_"
      }
    },
    {
      "cell_type": "code",
      "source": [
        "plt.figure(figsize=(5,5))\n",
        "sb.heatmap(cm, annot=True, fmt=\"d\", cmap=\"viridis\",\n",
        "            xticklabels=np.unique(valid_labels),\n",
        "            yticklabels=np.unique(valid_labels))\n",
        "plt.xlabel(\"Predicted\")\n",
        "plt.ylabel(\"Actual\")\n",
        "plt.title(\"Confusion Matrix\")\n",
        "plt.show()"
      ],
      "metadata": {
        "colab": {
          "base_uri": "https://localhost:8080/",
          "height": 487
        },
        "outputId": "6db20722-803f-42ee-8439-692d7dc8abd4",
        "id": "B1ejcGcKMBDA"
      },
      "execution_count": null,
      "outputs": [
        {
          "output_type": "display_data",
          "data": {
            "text/plain": [
              "<Figure size 500x500 with 2 Axes>"
            ],
            "image/png": "[encoded data removed]"
          },
          "metadata": {}
        }
      ]
    },
    {
      "cell_type": "markdown",
      "source": [
        "- Classification Report"
      ],
      "metadata": {
        "id": "aJVOAyAFMBDB"
      }
    },
    {
      "cell_type": "code",
      "source": [
        "print(f\"\"\"Classification Report:\\n\\n{classification_report(y_true=valid_labels,\n",
        "                                                         y_pred=valid_pred_cv_eno_cust,\n",
        "                                                         target_names=le.classes_)}\"\"\")"
      ],
      "metadata": {
        "colab": {
          "base_uri": "https://localhost:8080/"
        },
        "outputId": "df187db3-957d-4d5a-87db-c48295dc90d9",
        "id": "J3xceneAMBDC"
      },
      "execution_count": null,
      "outputs": [
        {
          "output_type": "stream",
          "name": "stdout",
          "text": [
            "Classification Report:\n",
            "\n",
            "              precision    recall  f1-score   support\n",
            "\n",
            "    negative       0.55      0.46      0.50       510\n",
            "     neutral       0.19      0.16      0.18       472\n",
            "    positive       0.89      0.92      0.91      4702\n",
            "\n",
            "    accuracy                           0.82      5684\n",
            "   macro avg       0.54      0.51      0.53      5684\n",
            "weighted avg       0.80      0.82      0.81      5684\n",
            "\n"
          ]
        }
      ]
    },
    {
      "cell_type": "markdown",
      "source": [
        "##### Question - Tell me whatever weights i assign, either negative class becomes low or the neutral class becomes low, and neutral class doesn't go above 0.3, please assist."
      ],
      "metadata": {
        "id": "CIQl9mtxXmZW"
      }
    },
    {
      "cell_type": "markdown",
      "source": [
        "##### Answer:\n",
        "\n",
        "You've hit upon a common challenge in machine learning — imbalanced datasets and the difficulty of finding the optimal class weights. It sounds like you're dealing with a situation where one or two classes (negative and/or neutral) have significantly fewer instances than the positive class.\n",
        "\n",
        "Here's a breakdown of why this might be happening and how to address it:\n",
        "\n",
        "**Why Class Weights Matter**\n",
        "\n",
        "- **Imbalanced Datasets:** When one class dominates, the model tends to become biased towards that class. It might achieve high overall accuracy simply by predicting the majority class most of the time, but it will perform poorly on the minority classes.\n",
        "\n",
        "- **Class Weights:** Assigning higher weights to minority classes helps the model pay more attention to them during training. This counteracts the bias and encourages the model to learn to better distinguish the minority classes.\n",
        "\n",
        "**Why You Might Be Stuck**\n",
        "\n",
        "- **Weighting Trade-offs:** Increasing the weight of one class often comes at the expense of another. You're likely seeing a \"seesaw effect\" where boosting the neutral class lowers the negative class's performance or vice versa.\n",
        "\n",
        "- **Data Limitations:** Even with careful weighting, the limited number of samples in the minority classes can hinder the model's ability to learn their patterns effectively.\n",
        "\n",
        "**Potential Solutions**\n",
        "\n",
        "**1. Fine-grained Weight Adjustment:**\n",
        "\n",
        "  - **Experiment with smaller increments:** Instead of drastic changes, try making minor adjustments to the weights and observe the impact on each class's performance.\n",
        "  - **Focus on the F1-score:** This metric balances precision and recall and is particularly useful for imbalanced datasets. Aim to improve the F1-score of the minority classes.\n",
        "\n",
        "**2. Data Augmentation:**\n",
        "\n",
        "  - **Oversampling:** Create synthetic samples for the minority classes to balance the dataset. Techniques like SMOTE (Synthetic Minority Over-sampling Technique) can be helpful.\n",
        "  - **Undersampling:** Reduce the number of samples in the majority class (use with caution, as you might lose valuable information).\n",
        "\n",
        "**3. Alternative Metrics:**\n",
        "\n",
        "  - **Precision/Recall:** Depending on your specific needs, focus on optimizing precision (minimize false positives) or recall (minimize false negatives) for the minority classes.\n",
        "  - **AUC (Area Under the ROC Curve):** A good metric for overall model performance, especially in imbalanced scenarios.\n",
        "\n",
        "**4. Different Algorithms:**\n",
        "\n",
        "  - **Ensemble methods (e.g., Random Forest, XGBoost):** These algorithms can sometimes handle imbalanced data more effectively.\n",
        "  - **Cost-sensitive learning:** Algorithms explicitly consider the cost of misclassifying different classes.\n",
        "\n",
        "**Debugging Steps**\n",
        "\n",
        "- **Check for data quality issues:** Ensure your minority class samples are correctly labeled and don't contain noise or errors.\n",
        "- **Analyze misclassifications:** Examine which classes are being confused with each other to understand the model's weaknesses.\n",
        "- **Consider feature engineering:** Create new features that might help the model differentiate between classes."
      ],
      "metadata": {
        "id": "ipuM9mZ9XxDm"
      }
    },
    {
      "cell_type": "markdown",
      "source": [
        "### Emoji - Yes"
      ],
      "metadata": {
        "id": "4OaW0NmsYkC6"
      }
    },
    {
      "cell_type": "markdown",
      "source": [
        "#### Class Weights - Not Balanced"
      ],
      "metadata": {
        "id": "mc4dUnfeZ2Sg"
      }
    },
    {
      "cell_type": "markdown",
      "source": [
        "##### Create pipeline - `pipe_eyes_cv`"
      ],
      "metadata": {
        "id": "i1Q67LnReym_"
      }
    },
    {
      "cell_type": "code",
      "execution_count": null,
      "metadata": {
        "id": "aGgz2rkNeynB"
      },
      "outputs": [],
      "source": [
        "pipe_eyes_cv = Pipeline(\n",
        "                        [\n",
        "                          (\"Clean_Corpus\", CleanCorpusTransformer(emoji=True, stop_words=False)),\n",
        "                          (\"Word_Vectorizer\", WordVectors(vectorizer=\"count\")),\n",
        "                          (\"Scaler\", StandardScaler(with_mean=False)), # For sparse matrix it should be \"with_mean=False\"\n",
        "                          (\"Classifier\", LogisticRegression(max_iter=1000))\n",
        "                        ]\n",
        "                      )"
      ]
    },
    {
      "cell_type": "markdown",
      "source": [
        "##### Fit pipeline - `pipe_eyes_cv`"
      ],
      "metadata": {
        "id": "uo2IJFkaeynB"
      }
    },
    {
      "cell_type": "code",
      "source": [
        "%%time\n",
        "# CPU times: user 3min 47s, sys: 12.1 s, total: 3min 59s\n",
        "# Wall time: 4min 7s\n",
        "pipe_eyes_cv.fit(X=train_reviews, y=train_labels)"
      ],
      "metadata": {
        "colab": {
          "base_uri": "https://localhost:8080/",
          "height": 228
        },
        "outputId": "384edb81-a94a-43ff-b391-2bb3e596b749",
        "id": "KFELHn3EeynC"
      },
      "execution_count": null,
      "outputs": [
        {
          "output_type": "stream",
          "name": "stdout",
          "text": [
            "CPU times: user 3min 47s, sys: 12.1 s, total: 3min 59s\n",
            "Wall time: 4min 7s\n"
          ]
        },
        {
          "output_type": "execute_result",
          "data": {
            "text/plain": [
              "Pipeline(steps=[('Clean_Corpus',\n",
              "                 <__main__.CleanCorpusTransformer object at 0x7ce1ea681450>),\n",
              "                ('Word_Vectorizer',\n",
              "                 <__main__.WordVectors object at 0x7ce1ea681f60>),\n",
              "                ('Scaler', StandardScaler(with_mean=False)),\n",
              "                ('Classifier', LogisticRegression(max_iter=1000))])"
            ],
            "text/html": [
              "<style>#sk-container-id-6 {color: black;}#sk-container-id-6 pre{padding: 0;}#sk-container-id-6 div.sk-toggleable {background-color: white;}#sk-container-id-6 label.sk-toggleable__label {cursor: pointer;display: block;width: 100%;margin-bottom: 0;padding: 0.3em;box-sizing: border-box;text-align: center;}#sk-container-id-6 label.sk-toggleable__label-arrow:before {content: \"▸\";float: left;margin-right: 0.25em;color: #696969;}#sk-container-id-6 label.sk-toggleable__label-arrow:hover:before {color: black;}#sk-container-id-6 div.sk-estimator:hover label.sk-toggleable__label-arrow:before {color: black;}#sk-container-id-6 div.sk-toggleable__content {max-height: 0;max-width: 0;overflow: hidden;text-align: left;background-color: #f0f8ff;}#sk-container-id-6 div.sk-toggleable__content pre {margin: 0.2em;color: black;border-radius: 0.25em;background-color: #f0f8ff;}#sk-container-id-6 input.sk-toggleable__control:checked~div.sk-toggleable__content {max-height: 200px;max-width: 100%;overflow: auto;}#sk-container-id-6 input.sk-toggleable__control:checked~label.sk-toggleable__label-arrow:before {content: \"▾\";}#sk-container-id-6 div.sk-estimator input.sk-toggleable__control:checked~label.sk-toggleable__label {background-color: #d4ebff;}#sk-container-id-6 div.sk-label input.sk-toggleable__control:checked~label.sk-toggleable__label {background-color: #d4ebff;}#sk-container-id-6 input.sk-hidden--visually {border: 0;clip: rect(1px 1px 1px 1px);clip: rect(1px, 1px, 1px, 1px);height: 1px;margin: -1px;overflow: hidden;padding: 0;position: absolute;width: 1px;}#sk-container-id-6 div.sk-estimator {font-family: monospace;background-color: #f0f8ff;border: 1px dotted black;border-radius: 0.25em;box-sizing: border-box;margin-bottom: 0.5em;}#sk-container-id-6 div.sk-estimator:hover {background-color: #d4ebff;}#sk-container-id-6 div.sk-parallel-item::after {content: \"\";width: 100%;border-bottom: 1px solid gray;flex-grow: 1;}#sk-container-id-6 div.sk-label:hover label.sk-toggleable__label {background-color: #d4ebff;}#sk-container-id-6 div.sk-serial::before {content: \"\";position: absolute;border-left: 1px solid gray;box-sizing: border-box;top: 0;bottom: 0;left: 50%;z-index: 0;}#sk-container-id-6 div.sk-serial {display: flex;flex-direction: column;align-items: center;background-color: white;padding-right: 0.2em;padding-left: 0.2em;position: relative;}#sk-container-id-6 div.sk-item {position: relative;z-index: 1;}#sk-container-id-6 div.sk-parallel {display: flex;align-items: stretch;justify-content: center;background-color: white;position: relative;}#sk-container-id-6 div.sk-item::before, #sk-container-id-6 div.sk-parallel-item::before {content: \"\";position: absolute;border-left: 1px solid gray;box-sizing: border-box;top: 0;bottom: 0;left: 50%;z-index: -1;}#sk-container-id-6 div.sk-parallel-item {display: flex;flex-direction: column;z-index: 1;position: relative;background-color: white;}#sk-container-id-6 div.sk-parallel-item:first-child::after {align-self: flex-end;width: 50%;}#sk-container-id-6 div.sk-parallel-item:last-child::after {align-self: flex-start;width: 50%;}#sk-container-id-6 div.sk-parallel-item:only-child::after {width: 0;}#sk-container-id-6 div.sk-dashed-wrapped {border: 1px dashed gray;margin: 0 0.4em 0.5em 0.4em;box-sizing: border-box;padding-bottom: 0.4em;background-color: white;}#sk-container-id-6 div.sk-label label {font-family: monospace;font-weight: bold;display: inline-block;line-height: 1.2em;}#sk-container-id-6 div.sk-label-container {text-align: center;}#sk-container-id-6 div.sk-container {/* jupyter's `normalize.less` sets `[hidden] { display: none; }` but bootstrap.min.css set `[hidden] { display: none !important; }` so we also need the `!important` here to be able to override the default hidden behavior on the sphinx rendered scikit-learn.org. See: https://github.com/scikit-learn/scikit-learn/issues/21755 */display: inline-block !important;position: relative;}#sk-container-id-6 div.sk-text-repr-fallback {display: none;}</style><div id=\"sk-container-id-6\" class=\"sk-top-container\"><div class=\"sk-text-repr-fallback\"><pre>Pipeline(steps=[(&#x27;Clean_Corpus&#x27;,\n",
              "                 &lt;__main__.CleanCorpusTransformer object at 0x7ce1ea681450&gt;),\n",
              "                (&#x27;Word_Vectorizer&#x27;,\n",
              "                 &lt;__main__.WordVectors object at 0x7ce1ea681f60&gt;),\n",
              "                (&#x27;Scaler&#x27;, StandardScaler(with_mean=False)),\n",
              "                (&#x27;Classifier&#x27;, LogisticRegression(max_iter=1000))])</pre><b>In a Jupyter environment, please rerun this cell to show the HTML representation or trust the notebook. <br />On GitHub, the HTML representation is unable to render, please try loading this page with nbviewer.org.</b></div><div class=\"sk-container\" hidden><div class=\"sk-item sk-dashed-wrapped\"><div class=\"sk-label-container\"><div class=\"sk-label sk-toggleable\"><input class=\"sk-toggleable__control sk-hidden--visually\" id=\"sk-estimator-id-26\" type=\"checkbox\" ><label for=\"sk-estimator-id-26\" class=\"sk-toggleable__label sk-toggleable__label-arrow\">Pipeline</label><div class=\"sk-toggleable__content\"><pre>Pipeline(steps=[(&#x27;Clean_Corpus&#x27;,\n",
              "                 &lt;__main__.CleanCorpusTransformer object at 0x7ce1ea681450&gt;),\n",
              "                (&#x27;Word_Vectorizer&#x27;,\n",
              "                 &lt;__main__.WordVectors object at 0x7ce1ea681f60&gt;),\n",
              "                (&#x27;Scaler&#x27;, StandardScaler(with_mean=False)),\n",
              "                (&#x27;Classifier&#x27;, LogisticRegression(max_iter=1000))])</pre></div></div></div><div class=\"sk-serial\"><div class=\"sk-item\"><div class=\"sk-estimator sk-toggleable\"><input class=\"sk-toggleable__control sk-hidden--visually\" id=\"sk-estimator-id-27\" type=\"checkbox\" ><label for=\"sk-estimator-id-27\" class=\"sk-toggleable__label sk-toggleable__label-arrow\">CleanCorpusTransformer</label><div class=\"sk-toggleable__content\"><pre>&lt;__main__.CleanCorpusTransformer object at 0x7ce1ea681450&gt;</pre></div></div></div><div class=\"sk-item\"><div class=\"sk-estimator sk-toggleable\"><input class=\"sk-toggleable__control sk-hidden--visually\" id=\"sk-estimator-id-28\" type=\"checkbox\" ><label for=\"sk-estimator-id-28\" class=\"sk-toggleable__label sk-toggleable__label-arrow\">WordVectors</label><div class=\"sk-toggleable__content\"><pre>&lt;__main__.WordVectors object at 0x7ce1ea681f60&gt;</pre></div></div></div><div class=\"sk-item\"><div class=\"sk-estimator sk-toggleable\"><input class=\"sk-toggleable__control sk-hidden--visually\" id=\"sk-estimator-id-29\" type=\"checkbox\" ><label for=\"sk-estimator-id-29\" class=\"sk-toggleable__label sk-toggleable__label-arrow\">StandardScaler</label><div class=\"sk-toggleable__content\"><pre>StandardScaler(with_mean=False)</pre></div></div></div><div class=\"sk-item\"><div class=\"sk-estimator sk-toggleable\"><input class=\"sk-toggleable__control sk-hidden--visually\" id=\"sk-estimator-id-30\" type=\"checkbox\" ><label for=\"sk-estimator-id-30\" class=\"sk-toggleable__label sk-toggleable__label-arrow\">LogisticRegression</label><div class=\"sk-toggleable__content\"><pre>LogisticRegression(max_iter=1000)</pre></div></div></div></div></div></div></div>"
            ]
          },
          "metadata": {},
          "execution_count": 118
        }
      ]
    },
    {
      "cell_type": "markdown",
      "source": [
        "##### Predict validation data"
      ],
      "metadata": {
        "id": "na2aYACZeynD"
      }
    },
    {
      "cell_type": "code",
      "source": [
        "%%time\n",
        "valid_pred_cv_eyes = pipe_eyes_cv.predict(X=valid_reviews)\n",
        "valid_pred_cv_eyes"
      ],
      "metadata": {
        "colab": {
          "base_uri": "https://localhost:8080/"
        },
        "outputId": "6ca20c9d-ba65-4b1a-9e84-46effb95a63a",
        "id": "2IE7RFTaeynD"
      },
      "execution_count": null,
      "outputs": [
        {
          "output_type": "stream",
          "name": "stdout",
          "text": [
            "CPU times: user 17.9 s, sys: 254 ms, total: 18.2 s\n",
            "Wall time: 18.4 s\n"
          ]
        },
        {
          "output_type": "execute_result",
          "data": {
            "text/plain": [
              "array([2, 2, 2, ..., 0, 0, 2])"
            ]
          },
          "metadata": {},
          "execution_count": 119
        }
      ]
    },
    {
      "cell_type": "markdown",
      "source": [
        "##### Metrics"
      ],
      "metadata": {
        "id": "UoGh7WqveynE"
      }
    },
    {
      "cell_type": "markdown",
      "source": [
        "- Confusion Matrix"
      ],
      "metadata": {
        "id": "8AP6yV-NeynF"
      }
    },
    {
      "cell_type": "code",
      "source": [
        "le.classes_"
      ],
      "metadata": {
        "colab": {
          "base_uri": "https://localhost:8080/"
        },
        "outputId": "44ed392e-be47-446f-dc8a-dae53c47f148",
        "id": "_8OZQiYxeynF"
      },
      "execution_count": null,
      "outputs": [
        {
          "output_type": "execute_result",
          "data": {
            "text/plain": [
              "array(['negative', 'neutral', 'positive'], dtype=object)"
            ]
          },
          "metadata": {},
          "execution_count": 24
        }
      ]
    },
    {
      "cell_type": "markdown",
      "source": [
        "- There's no direct method within `LabelEncoder` to retrieve the classes as integers instead of their original form, you can achieve this by combining `classes_` and `transform`:\n",
        "\n",
        "```\n",
        "from sklearn.preprocessing import LabelEncoder\n",
        "\n",
        "# Sample labels\n",
        "labels = ['cat', 'dog', 'cat', 'bird']\n",
        "\n",
        "# Initialize the encoder\n",
        "le = LabelEncoder()\n",
        "\n",
        "# Fit the encoder\n",
        "le.fit(labels)\n",
        "\n",
        "# Get integer representation of classes\n",
        "integer_classes = le.transform(le.classes_)\n",
        "\n",
        "print(f\"Classes in integer form: {integer_classes}\")\n",
        "```"
      ],
      "metadata": {
        "id": "-NXW1qS8eynG"
      }
    },
    {
      "cell_type": "code",
      "source": [
        "cm = confusion_matrix(y_true=valid_labels,\n",
        "                      y_pred=valid_pred_cv_eyes,\n",
        "                      labels=np.unique(valid_labels))\n",
        "print(f\"Confusion Matrix:\\n\\n{cm}\")"
      ],
      "metadata": {
        "colab": {
          "base_uri": "https://localhost:8080/"
        },
        "outputId": "19110466-1e22-4803-d6d5-d9ab78272296",
        "id": "B59TQvBCeynG"
      },
      "execution_count": null,
      "outputs": [
        {
          "output_type": "stream",
          "name": "stdout",
          "text": [
            "Confusion Matrix:\n",
            "\n",
            "[[ 249   73  188]\n",
            " [  74   65  333]\n",
            " [ 167  216 4319]]\n"
          ]
        }
      ]
    },
    {
      "cell_type": "markdown",
      "source": [
        "- Create a heatmap for better visualization"
      ],
      "metadata": {
        "id": "SdKlGIo_eynH"
      }
    },
    {
      "cell_type": "code",
      "source": [
        "plt.figure(figsize=(5,5))\n",
        "sb.heatmap(cm, annot=True, fmt=\"d\", cmap=\"viridis\",\n",
        "            xticklabels=np.unique(valid_labels),\n",
        "            yticklabels=np.unique(valid_labels))\n",
        "plt.xlabel(\"Predicted\")\n",
        "plt.ylabel(\"Actual\")\n",
        "plt.title(\"Confusion Matrix\")\n",
        "plt.show()"
      ],
      "metadata": {
        "colab": {
          "base_uri": "https://localhost:8080/",
          "height": 487
        },
        "outputId": "61e23ef3-9537-4595-c477-00a1c573eeba",
        "id": "PJ4YNtbdeynH"
      },
      "execution_count": null,
      "outputs": [
        {
          "output_type": "display_data",
          "data": {
            "text/plain": [
              "<Figure size 500x500 with 2 Axes>"
            ],
            "image/png": "[encoded data removed]"
          },
          "metadata": {}
        }
      ]
    },
    {
      "cell_type": "markdown",
      "source": [
        "- Classification Report"
      ],
      "metadata": {
        "id": "24YQtJOBeynI"
      }
    },
    {
      "cell_type": "code",
      "source": [
        "print(f\"\"\"Classification Report:\\n\\n{classification_report(y_true=valid_labels,\n",
        "                                                         y_pred=valid_pred_cv_eyes,\n",
        "                                                         target_names=le.classes_)}\"\"\")"
      ],
      "metadata": {
        "colab": {
          "base_uri": "https://localhost:8080/"
        },
        "outputId": "d9c596a6-0817-4a30-f4f1-170b686621dc",
        "id": "UYUDUCAZeynI"
      },
      "execution_count": null,
      "outputs": [
        {
          "output_type": "stream",
          "name": "stdout",
          "text": [
            "Classification Report:\n",
            "\n",
            "              precision    recall  f1-score   support\n",
            "\n",
            "    negative       0.51      0.49      0.50       510\n",
            "     neutral       0.18      0.14      0.16       472\n",
            "    positive       0.89      0.92      0.91      4702\n",
            "\n",
            "    accuracy                           0.82      5684\n",
            "   macro avg       0.53      0.51      0.52      5684\n",
            "weighted avg       0.80      0.82      0.81      5684\n",
            "\n"
          ]
        }
      ]
    },
    {
      "cell_type": "markdown",
      "source": [
        "#### Class Weights - Balanced"
      ],
      "metadata": {
        "id": "EVfAP01XZ2S0"
      }
    },
    {
      "cell_type": "markdown",
      "source": [
        "##### Create pipeline - `pipe_eyes_cv_bal`"
      ],
      "metadata": {
        "id": "1RLUMsi2iW5L"
      }
    },
    {
      "cell_type": "code",
      "execution_count": null,
      "metadata": {
        "id": "9fGNp7EqiW5N"
      },
      "outputs": [],
      "source": [
        "pipe_eyes_cv_bal = Pipeline(\n",
        "                        [\n",
        "                          (\"Clean_Corpus\", CleanCorpusTransformer(emoji=True, stop_words=False)),\n",
        "                          (\"Word_Vectorizer\", WordVectors(vectorizer=\"count\")),\n",
        "                          (\"Scaler\", StandardScaler(with_mean=False)), # For sparse matrix it should be \"with_mean=False\"\n",
        "                          (\"Classifier\", LogisticRegression(max_iter=1000, class_weight=\"balanced\"))\n",
        "                        ]\n",
        "                      )"
      ]
    },
    {
      "cell_type": "markdown",
      "source": [
        "##### Fit pipeline - `pipe_eyes_cv_bal`"
      ],
      "metadata": {
        "id": "8VsLGGHWiW5O"
      }
    },
    {
      "cell_type": "code",
      "source": [
        "%%time\n",
        "# CPU times: user 2min 58s, sys: 12.4 s, total: 3min 10s\n",
        "# Wall time: 3min 58s\n",
        "pipe_eyes_cv_bal.fit(X=train_reviews, y=train_labels)"
      ],
      "metadata": {
        "colab": {
          "base_uri": "https://localhost:8080/",
          "height": 228
        },
        "outputId": "8fb72116-75ce-47c9-ea99-8bc416621280",
        "id": "hV4kT9KZiW5P"
      },
      "execution_count": null,
      "outputs": [
        {
          "output_type": "stream",
          "name": "stdout",
          "text": [
            "CPU times: user 3min 44s, sys: 12.6 s, total: 3min 57s\n",
            "Wall time: 3min 58s\n"
          ]
        },
        {
          "output_type": "execute_result",
          "data": {
            "text/plain": [
              "Pipeline(steps=[('Clean_Corpus',\n",
              "                 <__main__.CleanCorpusTransformer object at 0x7ce1e8f67dc0>),\n",
              "                ('Word_Vectorizer',\n",
              "                 <__main__.WordVectors object at 0x7ce1e8f66ef0>),\n",
              "                ('Scaler', StandardScaler(with_mean=False)),\n",
              "                ('Classifier',\n",
              "                 LogisticRegression(class_weight='balanced', max_iter=1000))])"
            ],
            "text/html": [
              "<style>#sk-container-id-7 {color: black;}#sk-container-id-7 pre{padding: 0;}#sk-container-id-7 div.sk-toggleable {background-color: white;}#sk-container-id-7 label.sk-toggleable__label {cursor: pointer;display: block;width: 100%;margin-bottom: 0;padding: 0.3em;box-sizing: border-box;text-align: center;}#sk-container-id-7 label.sk-toggleable__label-arrow:before {content: \"▸\";float: left;margin-right: 0.25em;color: #696969;}#sk-container-id-7 label.sk-toggleable__label-arrow:hover:before {color: black;}#sk-container-id-7 div.sk-estimator:hover label.sk-toggleable__label-arrow:before {color: black;}#sk-container-id-7 div.sk-toggleable__content {max-height: 0;max-width: 0;overflow: hidden;text-align: left;background-color: #f0f8ff;}#sk-container-id-7 div.sk-toggleable__content pre {margin: 0.2em;color: black;border-radius: 0.25em;background-color: #f0f8ff;}#sk-container-id-7 input.sk-toggleable__control:checked~div.sk-toggleable__content {max-height: 200px;max-width: 100%;overflow: auto;}#sk-container-id-7 input.sk-toggleable__control:checked~label.sk-toggleable__label-arrow:before {content: \"▾\";}#sk-container-id-7 div.sk-estimator input.sk-toggleable__control:checked~label.sk-toggleable__label {background-color: #d4ebff;}#sk-container-id-7 div.sk-label input.sk-toggleable__control:checked~label.sk-toggleable__label {background-color: #d4ebff;}#sk-container-id-7 input.sk-hidden--visually {border: 0;clip: rect(1px 1px 1px 1px);clip: rect(1px, 1px, 1px, 1px);height: 1px;margin: -1px;overflow: hidden;padding: 0;position: absolute;width: 1px;}#sk-container-id-7 div.sk-estimator {font-family: monospace;background-color: #f0f8ff;border: 1px dotted black;border-radius: 0.25em;box-sizing: border-box;margin-bottom: 0.5em;}#sk-container-id-7 div.sk-estimator:hover {background-color: #d4ebff;}#sk-container-id-7 div.sk-parallel-item::after {content: \"\";width: 100%;border-bottom: 1px solid gray;flex-grow: 1;}#sk-container-id-7 div.sk-label:hover label.sk-toggleable__label {background-color: #d4ebff;}#sk-container-id-7 div.sk-serial::before {content: \"\";position: absolute;border-left: 1px solid gray;box-sizing: border-box;top: 0;bottom: 0;left: 50%;z-index: 0;}#sk-container-id-7 div.sk-serial {display: flex;flex-direction: column;align-items: center;background-color: white;padding-right: 0.2em;padding-left: 0.2em;position: relative;}#sk-container-id-7 div.sk-item {position: relative;z-index: 1;}#sk-container-id-7 div.sk-parallel {display: flex;align-items: stretch;justify-content: center;background-color: white;position: relative;}#sk-container-id-7 div.sk-item::before, #sk-container-id-7 div.sk-parallel-item::before {content: \"\";position: absolute;border-left: 1px solid gray;box-sizing: border-box;top: 0;bottom: 0;left: 50%;z-index: -1;}#sk-container-id-7 div.sk-parallel-item {display: flex;flex-direction: column;z-index: 1;position: relative;background-color: white;}#sk-container-id-7 div.sk-parallel-item:first-child::after {align-self: flex-end;width: 50%;}#sk-container-id-7 div.sk-parallel-item:last-child::after {align-self: flex-start;width: 50%;}#sk-container-id-7 div.sk-parallel-item:only-child::after {width: 0;}#sk-container-id-7 div.sk-dashed-wrapped {border: 1px dashed gray;margin: 0 0.4em 0.5em 0.4em;box-sizing: border-box;padding-bottom: 0.4em;background-color: white;}#sk-container-id-7 div.sk-label label {font-family: monospace;font-weight: bold;display: inline-block;line-height: 1.2em;}#sk-container-id-7 div.sk-label-container {text-align: center;}#sk-container-id-7 div.sk-container {/* jupyter's `normalize.less` sets `[hidden] { display: none; }` but bootstrap.min.css set `[hidden] { display: none !important; }` so we also need the `!important` here to be able to override the default hidden behavior on the sphinx rendered scikit-learn.org. See: https://github.com/scikit-learn/scikit-learn/issues/21755 */display: inline-block !important;position: relative;}#sk-container-id-7 div.sk-text-repr-fallback {display: none;}</style><div id=\"sk-container-id-7\" class=\"sk-top-container\"><div class=\"sk-text-repr-fallback\"><pre>Pipeline(steps=[(&#x27;Clean_Corpus&#x27;,\n",
              "                 &lt;__main__.CleanCorpusTransformer object at 0x7ce1e8f67dc0&gt;),\n",
              "                (&#x27;Word_Vectorizer&#x27;,\n",
              "                 &lt;__main__.WordVectors object at 0x7ce1e8f66ef0&gt;),\n",
              "                (&#x27;Scaler&#x27;, StandardScaler(with_mean=False)),\n",
              "                (&#x27;Classifier&#x27;,\n",
              "                 LogisticRegression(class_weight=&#x27;balanced&#x27;, max_iter=1000))])</pre><b>In a Jupyter environment, please rerun this cell to show the HTML representation or trust the notebook. <br />On GitHub, the HTML representation is unable to render, please try loading this page with nbviewer.org.</b></div><div class=\"sk-container\" hidden><div class=\"sk-item sk-dashed-wrapped\"><div class=\"sk-label-container\"><div class=\"sk-label sk-toggleable\"><input class=\"sk-toggleable__control sk-hidden--visually\" id=\"sk-estimator-id-31\" type=\"checkbox\" ><label for=\"sk-estimator-id-31\" class=\"sk-toggleable__label sk-toggleable__label-arrow\">Pipeline</label><div class=\"sk-toggleable__content\"><pre>Pipeline(steps=[(&#x27;Clean_Corpus&#x27;,\n",
              "                 &lt;__main__.CleanCorpusTransformer object at 0x7ce1e8f67dc0&gt;),\n",
              "                (&#x27;Word_Vectorizer&#x27;,\n",
              "                 &lt;__main__.WordVectors object at 0x7ce1e8f66ef0&gt;),\n",
              "                (&#x27;Scaler&#x27;, StandardScaler(with_mean=False)),\n",
              "                (&#x27;Classifier&#x27;,\n",
              "                 LogisticRegression(class_weight=&#x27;balanced&#x27;, max_iter=1000))])</pre></div></div></div><div class=\"sk-serial\"><div class=\"sk-item\"><div class=\"sk-estimator sk-toggleable\"><input class=\"sk-toggleable__control sk-hidden--visually\" id=\"sk-estimator-id-32\" type=\"checkbox\" ><label for=\"sk-estimator-id-32\" class=\"sk-toggleable__label sk-toggleable__label-arrow\">CleanCorpusTransformer</label><div class=\"sk-toggleable__content\"><pre>&lt;__main__.CleanCorpusTransformer object at 0x7ce1e8f67dc0&gt;</pre></div></div></div><div class=\"sk-item\"><div class=\"sk-estimator sk-toggleable\"><input class=\"sk-toggleable__control sk-hidden--visually\" id=\"sk-estimator-id-33\" type=\"checkbox\" ><label for=\"sk-estimator-id-33\" class=\"sk-toggleable__label sk-toggleable__label-arrow\">WordVectors</label><div class=\"sk-toggleable__content\"><pre>&lt;__main__.WordVectors object at 0x7ce1e8f66ef0&gt;</pre></div></div></div><div class=\"sk-item\"><div class=\"sk-estimator sk-toggleable\"><input class=\"sk-toggleable__control sk-hidden--visually\" id=\"sk-estimator-id-34\" type=\"checkbox\" ><label for=\"sk-estimator-id-34\" class=\"sk-toggleable__label sk-toggleable__label-arrow\">StandardScaler</label><div class=\"sk-toggleable__content\"><pre>StandardScaler(with_mean=False)</pre></div></div></div><div class=\"sk-item\"><div class=\"sk-estimator sk-toggleable\"><input class=\"sk-toggleable__control sk-hidden--visually\" id=\"sk-estimator-id-35\" type=\"checkbox\" ><label for=\"sk-estimator-id-35\" class=\"sk-toggleable__label sk-toggleable__label-arrow\">LogisticRegression</label><div class=\"sk-toggleable__content\"><pre>LogisticRegression(class_weight=&#x27;balanced&#x27;, max_iter=1000)</pre></div></div></div></div></div></div></div>"
            ]
          },
          "metadata": {},
          "execution_count": 124
        }
      ]
    },
    {
      "cell_type": "markdown",
      "source": [
        "##### Predict validation data"
      ],
      "metadata": {
        "id": "obffun7viW5Q"
      }
    },
    {
      "cell_type": "code",
      "source": [
        "%%time\n",
        "valid_pred_cv_eyes_bal = pipe_eyes_cv_bal.predict(X=valid_reviews)\n",
        "valid_pred_cv_eyes_bal"
      ],
      "metadata": {
        "colab": {
          "base_uri": "https://localhost:8080/"
        },
        "outputId": "95bbf49a-9b51-4b55-de51-8e584fcd5aed",
        "id": "gP6DBvsziW5R"
      },
      "execution_count": null,
      "outputs": [
        {
          "output_type": "stream",
          "name": "stdout",
          "text": [
            "CPU times: user 17.5 s, sys: 254 ms, total: 17.7 s\n",
            "Wall time: 17.8 s\n"
          ]
        },
        {
          "output_type": "execute_result",
          "data": {
            "text/plain": [
              "array([2, 2, 2, ..., 0, 0, 2])"
            ]
          },
          "metadata": {},
          "execution_count": 125
        }
      ]
    },
    {
      "cell_type": "markdown",
      "source": [
        "##### Metrics"
      ],
      "metadata": {
        "id": "2pn0ivTJiW5S"
      }
    },
    {
      "cell_type": "markdown",
      "source": [
        "- Confusion Matrix"
      ],
      "metadata": {
        "id": "Ix07ZaDgiW5T"
      }
    },
    {
      "cell_type": "code",
      "source": [
        "le.classes_"
      ],
      "metadata": {
        "colab": {
          "base_uri": "https://localhost:8080/"
        },
        "outputId": "9296ff28-6027-4608-c588-ee08e53c0f44",
        "id": "hEXL2W2_iW5U"
      },
      "execution_count": null,
      "outputs": [
        {
          "output_type": "execute_result",
          "data": {
            "text/plain": [
              "array(['negative', 'neutral', 'positive'], dtype=object)"
            ]
          },
          "metadata": {},
          "execution_count": 31
        }
      ]
    },
    {
      "cell_type": "markdown",
      "source": [
        "- There's no direct method within `LabelEncoder` to retrieve the classes as integers instead of their original form, you can achieve this by combining `classes_` and `transform`:\n",
        "\n",
        "```\n",
        "from sklearn.preprocessing import LabelEncoder\n",
        "\n",
        "# Sample labels\n",
        "labels = ['cat', 'dog', 'cat', 'bird']\n",
        "\n",
        "# Initialize the encoder\n",
        "le = LabelEncoder()\n",
        "\n",
        "# Fit the encoder\n",
        "le.fit(labels)\n",
        "\n",
        "# Get integer representation of classes\n",
        "integer_classes = le.transform(le.classes_)\n",
        "\n",
        "print(f\"Classes in integer form: {integer_classes}\")\n",
        "```"
      ],
      "metadata": {
        "id": "gOu3JxT1iW5V"
      }
    },
    {
      "cell_type": "code",
      "source": [
        "cm = confusion_matrix(y_true=valid_labels,\n",
        "                      y_pred=valid_pred_cv_eyes_bal,\n",
        "                      labels=np.unique(valid_labels))\n",
        "print(f\"Confusion Matrix:\\n\\n{cm}\")"
      ],
      "metadata": {
        "colab": {
          "base_uri": "https://localhost:8080/"
        },
        "outputId": "276cab96-b4d7-4b83-994d-557722e90a00",
        "id": "bz811drfiW5V"
      },
      "execution_count": null,
      "outputs": [
        {
          "output_type": "stream",
          "name": "stdout",
          "text": [
            "Confusion Matrix:\n",
            "\n",
            "[[ 278  111  121]\n",
            " [  91  116  265]\n",
            " [ 255  663 3784]]\n"
          ]
        }
      ]
    },
    {
      "cell_type": "markdown",
      "source": [
        "- Create a heatmap for better visualization"
      ],
      "metadata": {
        "id": "9aztRzUoiW5V"
      }
    },
    {
      "cell_type": "code",
      "source": [
        "plt.figure(figsize=(5,5))\n",
        "sb.heatmap(cm, annot=True, fmt=\"d\", cmap=\"viridis\",\n",
        "            xticklabels=np.unique(valid_labels),\n",
        "            yticklabels=np.unique(valid_labels))\n",
        "plt.xlabel(\"Predicted\")\n",
        "plt.ylabel(\"Actual\")\n",
        "plt.title(\"Confusion Matrix\")\n",
        "plt.show()"
      ],
      "metadata": {
        "colab": {
          "base_uri": "https://localhost:8080/",
          "height": 487
        },
        "outputId": "c35d7da9-ae52-453c-b82e-062429a521b8",
        "id": "z4siN_R8iW5W"
      },
      "execution_count": null,
      "outputs": [
        {
          "output_type": "display_data",
          "data": {
            "text/plain": [
              "<Figure size 500x500 with 2 Axes>"
            ],
            "image/png": "[encoded data removed]"
          },
          "metadata": {}
        }
      ]
    },
    {
      "cell_type": "markdown",
      "source": [
        "- Classification Report"
      ],
      "metadata": {
        "id": "qm-nNu7eiW5X"
      }
    },
    {
      "cell_type": "code",
      "source": [
        "print(f\"\"\"Classification Report:\\n\\n{classification_report(y_true=valid_labels,\n",
        "                                                         y_pred=valid_pred_cv_eyes_bal,\n",
        "                                                         target_names=le.classes_)}\"\"\")"
      ],
      "metadata": {
        "colab": {
          "base_uri": "https://localhost:8080/"
        },
        "outputId": "2f5bc1f5-cd1a-40d9-f75c-2b340c6c7784",
        "id": "ixGPFgjwiW5Y"
      },
      "execution_count": null,
      "outputs": [
        {
          "output_type": "stream",
          "name": "stdout",
          "text": [
            "Classification Report:\n",
            "\n",
            "              precision    recall  f1-score   support\n",
            "\n",
            "    negative       0.45      0.55      0.49       510\n",
            "     neutral       0.13      0.25      0.17       472\n",
            "    positive       0.91      0.80      0.85      4702\n",
            "\n",
            "    accuracy                           0.74      5684\n",
            "   macro avg       0.49      0.53      0.50      5684\n",
            "weighted avg       0.80      0.74      0.76      5684\n",
            "\n"
          ]
        }
      ]
    },
    {
      "cell_type": "markdown",
      "source": [
        "#### Class Weights - Customized"
      ],
      "metadata": {
        "id": "OZR0_nyHZ2S1"
      }
    },
    {
      "cell_type": "markdown",
      "source": [
        "##### Calculate weights"
      ],
      "metadata": {
        "id": "uWEIQoKWlLv7"
      }
    },
    {
      "cell_type": "markdown",
      "source": [
        "- Import library"
      ],
      "metadata": {
        "id": "lEstpy8VlLv9"
      }
    },
    {
      "cell_type": "code",
      "source": [
        "# from sklearn.utils.class_weight import compute_class_weight\n",
        "# import numpy as np"
      ],
      "metadata": {
        "id": "awnN7NmHlLv-"
      },
      "execution_count": null,
      "outputs": []
    },
    {
      "cell_type": "markdown",
      "source": [
        "- Compute Class Weights"
      ],
      "metadata": {
        "id": "B3G2Z0GslLv_"
      }
    },
    {
      "cell_type": "markdown",
      "source": [
        "**1. Balanced(same as `class_weight=\"balanced\"` in `Logistis Regression`):**\n",
        "```\n",
        "def compute_custom_weights(train_labels):\n",
        "  classes, counts = np.unique(train_labels, return_counts=True)\n",
        "  class_weights = 1.0 / counts\n",
        "  normalized_weights = class_weights / np.sum(class_weights)\n",
        "  class_weight_dict = {i: weight for i, weight in enumerate(normalized_weights)}\n",
        "  return class_weight_dict\n",
        "```\n",
        "\n",
        "**2. Inverse of class frequency:**\n",
        "```\n",
        "def effective_sample_size_weights(train_labels, beta=0.9):\n",
        "  classes, counts = np.unique(train_labels, return_counts=True)\n",
        "  eff_n = counts / (1.0 + (counts - 1) * beta)\n",
        "  weights = eff_n / np.sum(eff_n)\n",
        "  class_weight_dict = {i: weight for i, weight in enumerate(weights)}\n",
        "  return class_weight_dict\n",
        "```\n",
        "\n",
        "**3. Square Root of Inverse Frequency:**\n",
        "```\n",
        "def sqrt_inv_freq_weights(train_labels):\n",
        "  classes, counts = np.unique(train_labels, return_counts=True)\n",
        "  weights = 1.0 / np.sqrt(counts)\n",
        "  normalized_weights = weights / np.sum(weights)\n",
        "  class_weight_dict = {i: weight for i, weight in enumerate(normalized_weights)}\n",
        "  return class_weight_dict\n",
        "```\n",
        "\n",
        "**4. Inverse of F1-Score:**\n",
        "\n",
        "`(1)`\n",
        "```\n",
        "f1_scores = np.array([0.52, 0.18, 0.90])  # Negative, Neutral, Positive\n",
        "class_weights = 1.0 / f1_scores\n",
        "normalized_weights = class_weights / np.sum(class_weights)\n",
        "class_weight_dict = {i: weight for i, weight in enumerate(normalized_weights)}\n",
        "print(class_weight_dict)\n",
        "```\n",
        "`(2)`\n",
        "\n",
        "Emphasis on Lowest F1-Score: If you want to particularly focus on improving the \"neutral\" class, you can further increase its weight.\n",
        "\n",
        "```\n",
        "class_weight_dict[1] = class_weight_dict[1] * 2  # Double the weight for \"neutral\"\n",
        "normalized_weights = np.array(list(class_weight_dict.values())) / np.sum(list(class_weight_dict.values()))\n",
        "class_weight_dict = {i: weight for i, weight in enumerate(normalized_weights)}\n",
        "print(class_weight_dict)\n",
        "```\n",
        "\n",
        "These are just examples, and you might need to experiment with different scaling factors or adjustments based on the specific characteristics of your data and model.\n",
        "\n",
        "**5. Frequency-weighted F1-score:**\n",
        "```\n",
        "def freq_weighted_f1_scores(train_labels, f1_scores):\n",
        "  classes, counts = np.unique(train_labels, return_counts=True)\n",
        "  weighted_f1 = f1_scores * counts\n",
        "  inv_weighted_f1 = 1.0 / weighted_f1\n",
        "  normalized_weights = inv_weighted_f1 / np.sum(inv_weighted_f1)\n",
        "  class_weight_dict = {i: weight for i, weight in enumerate(normalized_weights)}\n",
        "  return class_weight_dict\n",
        "\n",
        "f1_scores = np.array([0.52, 0.18, 0.90])  # Negative, Neutral, Positive\n",
        "class_weight_dict = freq_weighted_f1_scores(train_labels, f1_scores)\n",
        "print(class_weight_dict)\n",
        "```\n",
        "\n",
        "**6. Balanced + Lowest f1-score:**\n",
        "\n",
        "```\n",
        "## Balanced\n",
        "def compute_custom_weights(train_labels):\n",
        "  classes, counts = np.unique(train_labels, return_counts=True)\n",
        "  class_weights = 1.0 / counts\n",
        "  normalized_weights = class_weights / np.sum(class_weights)\n",
        "  class_weight_dict = {i: weight for i, weight in enumerate(normalized_weights)}\n",
        "  return list(class_weight_dict.values())\n",
        "\n",
        "##  Lowest F1-Score:\n",
        "class_weight_dict[0] = class_weight_dict[0] * 8  # x15 the weight for \"negative\"\n",
        "class_weight_dict[1] = class_weight_dict[1] * 15  # x18 the weight for \"neutral\"\n",
        "normalized_weights = np.array(list(class_weight_dict.values())) / np.sum(list(class_weight_dict.values()))\n",
        "class_weight_dict = {i: weight for i, weight in enumerate(normalized_weights)}\n",
        "\n",
        "##  Increase weights of minority classes:\n",
        "class_weight_dict[0] = class_weight_dict[0] * 8  # x15 the weight for \"negative\"\n",
        "class_weight_dict[1] = class_weight_dict[1] * 15  # x18 the weight for \"neutral\"\n",
        "normalized_weights = np.array(list(class_weight_dict.values())) / np.sum(list(class_weight_dict.values()))\n",
        "class_weight_dict = {i: weight for i, weight in enumerate(normalized_weights)}\n",
        "print(class_weight_dict)\n",
        "```"
      ],
      "metadata": {
        "id": "P2gzKB20lLv_"
      }
    },
    {
      "cell_type": "markdown",
      "source": [
        "- Create a dictionary"
      ],
      "metadata": {
        "id": "b-9Dd_c4lLwA"
      }
    },
    {
      "cell_type": "code",
      "source": [
        "## Inverse of F1-Score\n",
        "f1_scores = np.array([0.52, 0.18, 0.90])  # Negative, Neutral, Positive\n",
        "class_weights = 1.0 / f1_scores\n",
        "normalized_weights = class_weights / np.sum(class_weights)\n",
        "class_weight_dict = {i: weight for i, weight in enumerate(normalized_weights)}\n",
        "\n",
        "class_weight_dict[1] = class_weight_dict[1] * 2  # Double the weight for \"neutral\"\n",
        "normalized_weights = np.array(list(class_weight_dict.values())) / np.sum(list(class_weight_dict.values()))\n",
        "class_weight_dict = {i: weight for i, weight in enumerate(normalized_weights)}"
      ],
      "metadata": {
        "id": "LNB6hzN7lLwB"
      },
      "execution_count": null,
      "outputs": []
    },
    {
      "cell_type": "code",
      "source": [
        "class_weight_dict"
      ],
      "metadata": {
        "colab": {
          "base_uri": "https://localhost:8080/"
        },
        "outputId": "02e9bfc9-3ced-4df4-aed5-e21a58321dd1",
        "id": "ZHalI--FlLwE"
      },
      "execution_count": null,
      "outputs": [
        {
          "output_type": "execute_result",
          "data": {
            "text/plain": [
              "{0: 0.13595166163141992, 1: 0.7854984894259819, 2: 0.0785498489425982}"
            ]
          },
          "metadata": {},
          "execution_count": 177
        }
      ]
    },
    {
      "cell_type": "markdown",
      "source": [
        "##### Create pipeline - `pipe_eyes_cv_cust`"
      ],
      "metadata": {
        "id": "Dj8iNO0_lLwF"
      }
    },
    {
      "cell_type": "code",
      "execution_count": null,
      "metadata": {
        "id": "PwuoMugylLwF"
      },
      "outputs": [],
      "source": [
        "pipe_eyes_cv_cust = Pipeline(\n",
        "                        [\n",
        "                          (\"Clean_Corpus\", CleanCorpusTransformer(emoji=False, stop_words=False)),\n",
        "                          (\"Word_Vectorizer\", WordVectors(vectorizer=\"count\")),\n",
        "                          (\"Scaler\", StandardScaler(with_mean=False)), # For sparse matrix it should be \"with_mean=False\"\n",
        "                          (\"Classifier\", LogisticRegression(max_iter=1000, class_weight=class_weight_dict))\n",
        "                        ]\n",
        "                      )"
      ]
    },
    {
      "cell_type": "markdown",
      "source": [
        "##### Fit pipeline - `pipe_eyes_cv_cust`"
      ],
      "metadata": {
        "id": "rpjDGRRmlLwG"
      }
    },
    {
      "cell_type": "code",
      "source": [
        "%%time\n",
        "# CPU times: user 2min 35s, sys: 8.8 s, total: 2min 44s\n",
        "# Wall time: 2min 34s\n",
        "pipe_eyes_cv_cust.fit(X=train_reviews, y=train_labels)"
      ],
      "metadata": {
        "colab": {
          "base_uri": "https://localhost:8080/",
          "height": 228
        },
        "outputId": "15ce6ba2-3bf3-468e-deb6-526fb7ce378a",
        "id": "qyBbW1YLlLwG"
      },
      "execution_count": null,
      "outputs": [
        {
          "output_type": "stream",
          "name": "stdout",
          "text": [
            "CPU times: user 2min 49s, sys: 7.82 s, total: 2min 57s\n",
            "Wall time: 3min 10s\n"
          ]
        },
        {
          "output_type": "execute_result",
          "data": {
            "text/plain": [
              "Pipeline(steps=[('Clean_Corpus',\n",
              "                 <__main__.CleanCorpusTransformer object at 0x7ce1e90cfa60>),\n",
              "                ('Word_Vectorizer',\n",
              "                 <__main__.WordVectors object at 0x7ce1e84d3af0>),\n",
              "                ('Scaler', StandardScaler(with_mean=False)),\n",
              "                ('Classifier',\n",
              "                 LogisticRegression(class_weight={0: 0.13595166163141992,\n",
              "                                                  1: 0.7854984894259819,\n",
              "                                                  2: 0.0785498489425982},\n",
              "                                    max_iter=1000))])"
            ],
            "text/html": [
              "<style>#sk-container-id-13 {color: black;}#sk-container-id-13 pre{padding: 0;}#sk-container-id-13 div.sk-toggleable {background-color: white;}#sk-container-id-13 label.sk-toggleable__label {cursor: pointer;display: block;width: 100%;margin-bottom: 0;padding: 0.3em;box-sizing: border-box;text-align: center;}#sk-container-id-13 label.sk-toggleable__label-arrow:before {content: \"▸\";float: left;margin-right: 0.25em;color: #696969;}#sk-container-id-13 label.sk-toggleable__label-arrow:hover:before {color: black;}#sk-container-id-13 div.sk-estimator:hover label.sk-toggleable__label-arrow:before {color: black;}#sk-container-id-13 div.sk-toggleable__content {max-height: 0;max-width: 0;overflow: hidden;text-align: left;background-color: #f0f8ff;}#sk-container-id-13 div.sk-toggleable__content pre {margin: 0.2em;color: black;border-radius: 0.25em;background-color: #f0f8ff;}#sk-container-id-13 input.sk-toggleable__control:checked~div.sk-toggleable__content {max-height: 200px;max-width: 100%;overflow: auto;}#sk-container-id-13 input.sk-toggleable__control:checked~label.sk-toggleable__label-arrow:before {content: \"▾\";}#sk-container-id-13 div.sk-estimator input.sk-toggleable__control:checked~label.sk-toggleable__label {background-color: #d4ebff;}#sk-container-id-13 div.sk-label input.sk-toggleable__control:checked~label.sk-toggleable__label {background-color: #d4ebff;}#sk-container-id-13 input.sk-hidden--visually {border: 0;clip: rect(1px 1px 1px 1px);clip: rect(1px, 1px, 1px, 1px);height: 1px;margin: -1px;overflow: hidden;padding: 0;position: absolute;width: 1px;}#sk-container-id-13 div.sk-estimator {font-family: monospace;background-color: #f0f8ff;border: 1px dotted black;border-radius: 0.25em;box-sizing: border-box;margin-bottom: 0.5em;}#sk-container-id-13 div.sk-estimator:hover {background-color: #d4ebff;}#sk-container-id-13 div.sk-parallel-item::after {content: \"\";width: 100%;border-bottom: 1px solid gray;flex-grow: 1;}#sk-container-id-13 div.sk-label:hover label.sk-toggleable__label {background-color: #d4ebff;}#sk-container-id-13 div.sk-serial::before {content: \"\";position: absolute;border-left: 1px solid gray;box-sizing: border-box;top: 0;bottom: 0;left: 50%;z-index: 0;}#sk-container-id-13 div.sk-serial {display: flex;flex-direction: column;align-items: center;background-color: white;padding-right: 0.2em;padding-left: 0.2em;position: relative;}#sk-container-id-13 div.sk-item {position: relative;z-index: 1;}#sk-container-id-13 div.sk-parallel {display: flex;align-items: stretch;justify-content: center;background-color: white;position: relative;}#sk-container-id-13 div.sk-item::before, #sk-container-id-13 div.sk-parallel-item::before {content: \"\";position: absolute;border-left: 1px solid gray;box-sizing: border-box;top: 0;bottom: 0;left: 50%;z-index: -1;}#sk-container-id-13 div.sk-parallel-item {display: flex;flex-direction: column;z-index: 1;position: relative;background-color: white;}#sk-container-id-13 div.sk-parallel-item:first-child::after {align-self: flex-end;width: 50%;}#sk-container-id-13 div.sk-parallel-item:last-child::after {align-self: flex-start;width: 50%;}#sk-container-id-13 div.sk-parallel-item:only-child::after {width: 0;}#sk-container-id-13 div.sk-dashed-wrapped {border: 1px dashed gray;margin: 0 0.4em 0.5em 0.4em;box-sizing: border-box;padding-bottom: 0.4em;background-color: white;}#sk-container-id-13 div.sk-label label {font-family: monospace;font-weight: bold;display: inline-block;line-height: 1.2em;}#sk-container-id-13 div.sk-label-container {text-align: center;}#sk-container-id-13 div.sk-container {/* jupyter's `normalize.less` sets `[hidden] { display: none; }` but bootstrap.min.css set `[hidden] { display: none !important; }` so we also need the `!important` here to be able to override the default hidden behavior on the sphinx rendered scikit-learn.org. See: https://github.com/scikit-learn/scikit-learn/issues/21755 */display: inline-block !important;position: relative;}#sk-container-id-13 div.sk-text-repr-fallback {display: none;}</style><div id=\"sk-container-id-13\" class=\"sk-top-container\"><div class=\"sk-text-repr-fallback\"><pre>Pipeline(steps=[(&#x27;Clean_Corpus&#x27;,\n",
              "                 &lt;__main__.CleanCorpusTransformer object at 0x7ce1e90cfa60&gt;),\n",
              "                (&#x27;Word_Vectorizer&#x27;,\n",
              "                 &lt;__main__.WordVectors object at 0x7ce1e84d3af0&gt;),\n",
              "                (&#x27;Scaler&#x27;, StandardScaler(with_mean=False)),\n",
              "                (&#x27;Classifier&#x27;,\n",
              "                 LogisticRegression(class_weight={0: 0.13595166163141992,\n",
              "                                                  1: 0.7854984894259819,\n",
              "                                                  2: 0.0785498489425982},\n",
              "                                    max_iter=1000))])</pre><b>In a Jupyter environment, please rerun this cell to show the HTML representation or trust the notebook. <br />On GitHub, the HTML representation is unable to render, please try loading this page with nbviewer.org.</b></div><div class=\"sk-container\" hidden><div class=\"sk-item sk-dashed-wrapped\"><div class=\"sk-label-container\"><div class=\"sk-label sk-toggleable\"><input class=\"sk-toggleable__control sk-hidden--visually\" id=\"sk-estimator-id-61\" type=\"checkbox\" ><label for=\"sk-estimator-id-61\" class=\"sk-toggleable__label sk-toggleable__label-arrow\">Pipeline</label><div class=\"sk-toggleable__content\"><pre>Pipeline(steps=[(&#x27;Clean_Corpus&#x27;,\n",
              "                 &lt;__main__.CleanCorpusTransformer object at 0x7ce1e90cfa60&gt;),\n",
              "                (&#x27;Word_Vectorizer&#x27;,\n",
              "                 &lt;__main__.WordVectors object at 0x7ce1e84d3af0&gt;),\n",
              "                (&#x27;Scaler&#x27;, StandardScaler(with_mean=False)),\n",
              "                (&#x27;Classifier&#x27;,\n",
              "                 LogisticRegression(class_weight={0: 0.13595166163141992,\n",
              "                                                  1: 0.7854984894259819,\n",
              "                                                  2: 0.0785498489425982},\n",
              "                                    max_iter=1000))])</pre></div></div></div><div class=\"sk-serial\"><div class=\"sk-item\"><div class=\"sk-estimator sk-toggleable\"><input class=\"sk-toggleable__control sk-hidden--visually\" id=\"sk-estimator-id-62\" type=\"checkbox\" ><label for=\"sk-estimator-id-62\" class=\"sk-toggleable__label sk-toggleable__label-arrow\">CleanCorpusTransformer</label><div class=\"sk-toggleable__content\"><pre>&lt;__main__.CleanCorpusTransformer object at 0x7ce1e90cfa60&gt;</pre></div></div></div><div class=\"sk-item\"><div class=\"sk-estimator sk-toggleable\"><input class=\"sk-toggleable__control sk-hidden--visually\" id=\"sk-estimator-id-63\" type=\"checkbox\" ><label for=\"sk-estimator-id-63\" class=\"sk-toggleable__label sk-toggleable__label-arrow\">WordVectors</label><div class=\"sk-toggleable__content\"><pre>&lt;__main__.WordVectors object at 0x7ce1e84d3af0&gt;</pre></div></div></div><div class=\"sk-item\"><div class=\"sk-estimator sk-toggleable\"><input class=\"sk-toggleable__control sk-hidden--visually\" id=\"sk-estimator-id-64\" type=\"checkbox\" ><label for=\"sk-estimator-id-64\" class=\"sk-toggleable__label sk-toggleable__label-arrow\">StandardScaler</label><div class=\"sk-toggleable__content\"><pre>StandardScaler(with_mean=False)</pre></div></div></div><div class=\"sk-item\"><div class=\"sk-estimator sk-toggleable\"><input class=\"sk-toggleable__control sk-hidden--visually\" id=\"sk-estimator-id-65\" type=\"checkbox\" ><label for=\"sk-estimator-id-65\" class=\"sk-toggleable__label sk-toggleable__label-arrow\">LogisticRegression</label><div class=\"sk-toggleable__content\"><pre>LogisticRegression(class_weight={0: 0.13595166163141992, 1: 0.7854984894259819,\n",
              "                                 2: 0.0785498489425982},\n",
              "                   max_iter=1000)</pre></div></div></div></div></div></div></div>"
            ]
          },
          "metadata": {},
          "execution_count": 179
        }
      ]
    },
    {
      "cell_type": "markdown",
      "source": [
        "##### Predict validation data"
      ],
      "metadata": {
        "id": "FgE3rnvJlLwG"
      }
    },
    {
      "cell_type": "code",
      "source": [
        "%%time\n",
        "valid_pred_cv_eyes_cust = pipe_eyes_cv_cust.predict(X=valid_reviews)\n",
        "valid_pred_cv_eyes_cust"
      ],
      "metadata": {
        "colab": {
          "base_uri": "https://localhost:8080/"
        },
        "outputId": "d692dad4-992f-4f62-d50e-c5329b1df46a",
        "id": "GuhDQ0BBlLwH"
      },
      "execution_count": null,
      "outputs": [
        {
          "output_type": "stream",
          "name": "stdout",
          "text": [
            "CPU times: user 16.2 s, sys: 258 ms, total: 16.5 s\n",
            "Wall time: 19.1 s\n"
          ]
        },
        {
          "output_type": "execute_result",
          "data": {
            "text/plain": [
              "array([2, 2, 2, ..., 0, 0, 2])"
            ]
          },
          "metadata": {},
          "execution_count": 180
        }
      ]
    },
    {
      "cell_type": "markdown",
      "source": [
        "##### Metrics"
      ],
      "metadata": {
        "id": "9zjxtGeDlLwI"
      }
    },
    {
      "cell_type": "markdown",
      "source": [
        "- Confusion Matrix"
      ],
      "metadata": {
        "id": "oAxcA_iRlLwI"
      }
    },
    {
      "cell_type": "code",
      "source": [
        "le.classes_"
      ],
      "metadata": {
        "colab": {
          "base_uri": "https://localhost:8080/"
        },
        "outputId": "14504f1e-bc7d-416d-a596-bb9c69459365",
        "id": "HNixwY0XlLwJ"
      },
      "execution_count": null,
      "outputs": [
        {
          "output_type": "execute_result",
          "data": {
            "text/plain": [
              "array(['negative', 'neutral', 'positive'], dtype=object)"
            ]
          },
          "metadata": {},
          "execution_count": 181
        }
      ]
    },
    {
      "cell_type": "markdown",
      "source": [
        "- There's no direct method within `LabelEncoder` to retrieve the classes as integers instead of their original form, you can achieve this by combining `classes_` and `transform`:\n",
        "\n",
        "```\n",
        "from sklearn.preprocessing import LabelEncoder\n",
        "\n",
        "# Sample labels\n",
        "labels = ['cat', 'dog', 'cat', 'bird']\n",
        "\n",
        "# Initialize the encoder\n",
        "le = LabelEncoder()\n",
        "\n",
        "# Fit the encoder\n",
        "le.fit(labels)\n",
        "\n",
        "# Get integer representation of classes\n",
        "integer_classes = le.transform(le.classes_)\n",
        "\n",
        "print(f\"Classes in integer form: {integer_classes}\")\n",
        "```"
      ],
      "metadata": {
        "id": "msI03lNslLwJ"
      }
    },
    {
      "cell_type": "code",
      "source": [
        "cm = confusion_matrix(y_true=valid_labels,\n",
        "                      y_pred=valid_pred_cv_eyes_cust,\n",
        "                      labels=np.unique(valid_labels))\n",
        "print(f\"Confusion Matrix:\\n\\n{cm}\")"
      ],
      "metadata": {
        "colab": {
          "base_uri": "https://localhost:8080/"
        },
        "outputId": "3c7ea5bf-88a7-41a5-d9ef-ae0ea09b5915",
        "id": "_dweI1IzlLwK"
      },
      "execution_count": null,
      "outputs": [
        {
          "output_type": "stream",
          "name": "stdout",
          "text": [
            "Confusion Matrix:\n",
            "\n",
            "[[ 198  180  132]\n",
            " [  59  139  274]\n",
            " [ 138  595 3969]]\n"
          ]
        }
      ]
    },
    {
      "cell_type": "markdown",
      "source": [
        "- Create a heatmap for better visualization"
      ],
      "metadata": {
        "id": "0tD3k0m-lLwK"
      }
    },
    {
      "cell_type": "code",
      "source": [
        "plt.figure(figsize=(5,5))\n",
        "sb.heatmap(cm, annot=True, fmt=\"d\", cmap=\"viridis\",\n",
        "            xticklabels=np.unique(valid_labels),\n",
        "            yticklabels=np.unique(valid_labels))\n",
        "plt.xlabel(\"Predicted\")\n",
        "plt.ylabel(\"Actual\")\n",
        "plt.title(\"Confusion Matrix\")\n",
        "plt.show()"
      ],
      "metadata": {
        "colab": {
          "base_uri": "https://localhost:8080/",
          "height": 487
        },
        "outputId": "1123e7ab-9486-4539-fbb2-fd3159c09176",
        "id": "lHAvU_kPlLwL"
      },
      "execution_count": null,
      "outputs": [
        {
          "output_type": "display_data",
          "data": {
            "text/plain": [
              "<Figure size 500x500 with 2 Axes>"
            ],
            "image/png": "[encoded data removed]"
          },
          "metadata": {}
        }
      ]
    },
    {
      "cell_type": "markdown",
      "source": [
        "- Classification Report"
      ],
      "metadata": {
        "id": "BEjlpf0DlLwL"
      }
    },
    {
      "cell_type": "code",
      "source": [
        "print(f\"\"\"Classification Report:\\n\\n{classification_report(y_true=valid_labels,\n",
        "                                                         y_pred=valid_pred_cv_eyes_cust,\n",
        "                                                         target_names=le.classes_)}\"\"\")"
      ],
      "metadata": {
        "colab": {
          "base_uri": "https://localhost:8080/"
        },
        "outputId": "c0b8277d-a24f-475b-8e13-34508b518f6b",
        "id": "6GHpOGUPlLwL"
      },
      "execution_count": null,
      "outputs": [
        {
          "output_type": "stream",
          "name": "stdout",
          "text": [
            "Classification Report:\n",
            "\n",
            "              precision    recall  f1-score   support\n",
            "\n",
            "    negative       0.50      0.39      0.44       510\n",
            "     neutral       0.15      0.29      0.20       472\n",
            "    positive       0.91      0.84      0.87      4702\n",
            "\n",
            "    accuracy                           0.76      5684\n",
            "   macro avg       0.52      0.51      0.50      5684\n",
            "weighted avg       0.81      0.76      0.78      5684\n",
            "\n"
          ]
        }
      ]
    },
    {
      "cell_type": "markdown",
      "source": [
        "##### Question - Can you define the above function such that we take random base score (according to class counts) and iterate it for certain rounds and select best score among them to calculate weights, and it should generalize well irrespective of number of classes?"
      ],
      "metadata": {
        "id": "fXk_KSWl-VP7"
      }
    },
    {
      "cell_type": "markdown",
      "source": [
        "##### Answer:\n",
        "```\n",
        "import numpy as np\n",
        "import random\n",
        "\n",
        "def freq_weighted_f1_scores(train_labels, f1_scores):\n",
        "  \"\"\"Calculates frequency-weighted F1-scores based on provided base scores.\n",
        "\n",
        "  Args:\n",
        "    train_labels: A list or array of class labels.\n",
        "    f1_scores: A list or array of base F1-scores for each class.\n",
        "\n",
        "  Returns:\n",
        "    A dictionary mapping class indices to their corresponding weights.\n",
        "  \"\"\"\n",
        "  classes, counts = np.unique(train_labels, return_counts=True)\n",
        "  weighted_f1 = f1_scores * counts\n",
        "  inv_weighted_f1 = 1.0 / weighted_f1\n",
        "  normalized_weights = inv_weighted_f1 / np.sum(inv_weighted_f1)\n",
        "  class_weight_dict = {i: weight for i, weight in enumerate(normalized_weights)}\n",
        "  return class_weight_dict\n",
        "\n",
        "def find_best_f1_scores(train_labels, num_iterations=10, score_range=(0.1, 0.9)):\n",
        "  \"\"\"Finds the best base F1-scores using random search and iteration.\n",
        "\n",
        "  Args:\n",
        "    train_labels: A list or array of class labels.\n",
        "    num_iterations: The number of iterations for random search.\n",
        "    score_range: The range for generating random base F1-scores.\n",
        "\n",
        "  Returns:\n",
        "    A list of base F1-scores that yield the highest average F1-score\n",
        "    across all classes.\n",
        "  \"\"\"\n",
        "  best_f1_scores = None\n",
        "  best_avg_f1 = 0\n",
        "\n",
        "  classes, counts = np.unique(train_labels, return_counts=True)\n",
        "  num_classes = len(classes)\n",
        "\n",
        "  for _ in range(num_iterations):\n",
        "    f1_scores = [random.uniform(*score_range) for _ in range(num_classes)]\n",
        "    class_weights = freq_weighted_f1_scores(train_labels, f1_scores)\n",
        "    # Here, you would train and evaluate your model with these weights\n",
        "    # and obtain the F1-scores for each class (replace with your actual evaluation)\n",
        "    # For this example, let's assume a simplified evaluation:\n",
        "    f1_scores_after_training = [class_weights[i] * counts[i] for i in range(num_classes)]\n",
        "    avg_f1 = np.mean(f1_scores_after_training)\n",
        "\n",
        "    if avg_f1 > best_avg_f1:\n",
        "      best_avg_f1 = avg_f1\n",
        "      best_f1_scores = f1_scores\n",
        "\n",
        "  return best_f1_scores\n",
        "\n",
        "# Example usage\n",
        "train_labels = [0, 2, 2, 1, 2, 0, 2, 2, 2, 0]\n",
        "best_f1_scores = find_best_f1_scores(train_labels, num_iterations=50)\n",
        "print(f\"Best base F1-scores: {best_f1_scores}\")\n",
        "\n",
        "class_weight_dict = freq_weighted_f1_scores(train_labels, best_f1_scores)\n",
        "print(f\"Class weight dictionary: {class_weight_dict}\")\n",
        "```\n",
        "\n",
        "**Explanation:**\n",
        "\n",
        "**1. `freq_weighted_f1_scores` Function:** This function remains the same as before, calculating weights based on provided F1-scores and class frequencies.\n",
        "\n",
        "**`find_best_f1_scores` Function:**\n",
        "  - Takes `train_labels`, num_iterations, and score_range as input.\n",
        "  - Initializes `best_f1_scores` and `best_avg_f1` to keep track of the best scores found.\n",
        "  - Iterates `num_iterations` times:\n",
        "    - Generates random F1-scores for each class within the `score_range`.\n",
        "    - Calculates class weights using `freq_weighted_f1_scores`.\n",
        "    - (Important): Here, you would insert your model training and evaluation logic using the generated weights. The example uses a simplified evaluation for demonstration.\n",
        "    - Calculates the average F1-score across all classes.\n",
        "    - Updates `best_f1_scores` and `best_avg_f1` if a better average F1-score is found.\n",
        "  - Returns the `best_f1_scores`.\n",
        "\n",
        "**Key Improvements:**\n",
        "\n",
        "- **Generalization:** Works for any number of classes by determining the number of classes dynamically.\n",
        "- **Random Search:** Explores different base F1-score combinations randomly within a specified range.\n",
        "- **Iteration:** Repeats the process for a defined number of iterations to increase the chances of finding good base scores.\n",
        "\n",
        "**How to Use:**\n",
        "\n",
        "**1. Replace the Simplified Evaluation:** Replace the placeholder evaluation logic with your actual model training and evaluation process. Use the `class_weights` dictionary in your model training.\n",
        "\n",
        "**2. Experiment with Parameters:** Adjust `num_iterations` and score_range to control the search space and computational cost.\n",
        "\n",
        "This approach automates the search for good base F1-scores, but remember that the effectiveness still depends on the quality of your model and evaluation process."
      ],
      "metadata": {
        "id": "IEKpj3Tk-qJF"
      }
    },
    {
      "cell_type": "markdown",
      "source": [
        "##### Question - I will be creating a class which will assign class weights for imbalanced datasets, i will be using these functions as methods, there are few more functions you mentioned i will be adding those in the class as well."
      ],
      "metadata": {
        "id": "k4z6prgGMmzp"
      }
    },
    {
      "cell_type": "markdown",
      "source": [
        "##### Answer:\n",
        "\n",
        "Here's a basic structure you could consider for your class:\n",
        "\n",
        "```\n",
        "import numpy as np\n",
        "import random\n",
        "\n",
        "class ClassWeights:\n",
        "    def __init__(self, train_labels):\n",
        "        self.train_labels = train_labels\n",
        "        self.classes, self.counts = np.unique(train_labels, return_counts=True)\n",
        "\n",
        "    def balanced(self):\n",
        "        # Implementation of balanced weights (same as class_weight=\"balanced\")\n",
        "        class_weights = 1.0 / self.counts\n",
        "        normalized_weights = class_weights / np.sum(class_weights)\n",
        "        class_weight_dict = {i: weight for i, weight in enumerate(normalized_weights)}\n",
        "        return class_weight_dict\n",
        "\n",
        "    def sqrt_inv_freq_weights(self):\n",
        "        # Implementation of square root of inverse frequency weights\n",
        "        weights = 1.0 / np.sqrt(self.counts)\n",
        "        normalized_weights = weights / np.sum(weights)\n",
        "        class_weight_dict = {i: weight for i, weight in enumerate(normalized_weights)}\n",
        "        return class_weight_dict\n",
        "\n",
        "    def freq_weighted_f1_scores(self, f1_scores):\n",
        "        # Implementation of frequency-weighted F1-scores\n",
        "        weighted_f1 = f1_scores * self.counts\n",
        "        inv_weighted_f1 = 1.0 / weighted_f1\n",
        "        normalized_weights = inv_weighted_f1 / np.sum(inv_weighted_f1)\n",
        "        class_weight_dict = {i: weight for i, weight in enumerate(normalized_weights)}\n",
        "        return class_weight_dict\n",
        "\n",
        "    def find_best_f1_scores(self, num_iterations=10, score_range=(0.1, 0.9)):\n",
        "        # Implementation of finding best base F1-scores\n",
        "        best_f1_scores = None\n",
        "        best_avg_f1 = 0\n",
        "\n",
        "        num_classes = len(self.classes)\n",
        "\n",
        "        for _ in range(num_iterations):\n",
        "            f1_scores = [random.uniform(*score_range) for _ in range(num_classes)]\n",
        "            class_weights = self.freq_weighted_f1_scores(f1_scores)\n",
        "            # ... (Your model training and evaluation logic here) ...\n",
        "            f1_scores_after_training = [class_weights[i] * self.counts[i] for i in range(num_classes)]\n",
        "            avg_f1 = np.mean(f1_scores_after_training)\n",
        "\n",
        "            if avg_f1 > best_avg_f1:\n",
        "                best_avg_f1 = avg_f1\n",
        "                best_f1_scores = f1_scores\n",
        "\n",
        "        return best_f1_scores\n",
        "\n",
        "    # Add other methods for different weighting techniques here (e.g., effective sample size weights)\n",
        "\n",
        "# Example Usage:\n",
        "train_labels = [0, 2, 2, 1, 2, 0, 2, 2, 2, 0]\n",
        "cw = ClassWeights(train_labels)\n",
        "balanced_weights = cw.balanced()\n",
        "sqrt_inv_freq_weights = cw.sqrt_inv_freq_weights()\n",
        "# ... (You can call other methods similarly)\n",
        "\n",
        "best_f1_scores = cw.find_best_f1_scores(num_iterations=50)\n",
        "# ... (Use best_f1_scores to calculate weights using freq_weighted_f1_scores)\n",
        "```\n",
        "\n",
        "**Key points and potential enhancements:**\n",
        "\n",
        "- **Constructor (__init__):** Takes train_labels as input and calculates classes and counts.\n",
        "- **Methods:** Each weighting technique is implemented as a separate method, making it easy to call and compare different approaches.\n",
        "- **`find_best_f1_scores`:** This method remains largely the same, but it now uses `self.freq_weighted_f1_scores`. Remember to replace the placeholder evaluation with your actual model training and assessment.\n",
        "- **Extensibility:** Add more methods for other weighting techniques like `effective_sample_size_weights`, as you mentioned.\n",
        "- **Error Handling:** You might consider adding error handling to ensure the input `train_labels` is valid and to handle potential issues during weight calculation.\n",
        "- **Documentation:** Provide clear docstrings for the class and its methods."
      ],
      "metadata": {
        "id": "Fio9n_88M2A0"
      }
    },
    {
      "cell_type": "markdown",
      "source": [
        "##### Question - Will it be good to create a method such that it will use all the weighing methods in the class and give out best method among them?"
      ],
      "metadata": {
        "id": "n7H_K2KrPLWL"
      }
    },
    {
      "cell_type": "markdown",
      "source": [
        "##### Answer:\n",
        "\n",
        "Here's how you could implement such a method:\n",
        "\n",
        "```\n",
        "import numpy as np\n",
        "import random\n",
        "\n",
        "# ... (rest of your ClassWeights class code)\n",
        "\n",
        "    def find_best_method(self, model, X_train, y_train, X_val, y_val,\n",
        "                          num_iterations=10, score_range=(0.1, 0.9), metric='f1_weighted'):\n",
        "        \"\"\"\n",
        "        Finds the best weighting method among available methods in the class.\n",
        "\n",
        "        Args:\n",
        "            model: The machine learning model to use for evaluation.\n",
        "            X_train: Training data features.\n",
        "            y_train: Training data labels.\n",
        "            X_val: Validation data features.\n",
        "            y_val: Validation data labels.\n",
        "            num_iterations: Number of iterations for random search (if applicable).\n",
        "            score_range: Range for random base F1-scores (if applicable).\n",
        "            metric: Evaluation metric ('f1_weighted', 'accuracy', etc.).\n",
        "\n",
        "        Returns:\n",
        "            A dictionary containing the best method name and its corresponding weights.\n",
        "        \"\"\"\n",
        "\n",
        "        best_method = None\n",
        "        best_weights = None\n",
        "        best_score = 0\n",
        "\n",
        "        methods = [\n",
        "            self.balanced,\n",
        "            self.sqrt_inv_freq_weights,\n",
        "            # Add other methods here\n",
        "        ]\n",
        "\n",
        "        for method in methods:\n",
        "            if method.__name__ == 'freq_weighted_f1_scores':\n",
        "                best_f1_scores = self.find_best_f1_scores(num_iterations, score_range)\n",
        "                weights = self.freq_weighted_f1_scores(best_f1_scores)\n",
        "            else:\n",
        "                weights = method()\n",
        "\n",
        "            # Train and evaluate the model with the current weights\n",
        "            model.fit(X_train, y_train, class_weight=weights)\n",
        "            y_pred = model.predict(X_val)\n",
        "            score = self._evaluate(y_val, y_pred, metric)\n",
        "\n",
        "            if score > best_score:\n",
        "                best_score = score\n",
        "                best_method = method.__name__\n",
        "                best_weights = weights\n",
        "\n",
        "        return {'method': best_method, 'weights': best_weights}\n",
        "\n",
        "    def _evaluate(self, y_true, y_pred, metric):\n",
        "        # Helper function to calculate evaluation score\n",
        "        if metric == 'f1_weighted':\n",
        "            from sklearn.metrics import f1_score\n",
        "            return f1_score(y_true, y_pred, average='weighted')\n",
        "        elif metric == 'accuracy':\n",
        "            from sklearn.metrics import accuracy_score\n",
        "            return accuracy_score(y_true, y_pred)\n",
        "        # Add other metrics as needed\n",
        "\n",
        "# Example Usage\n",
        "# ... (Assuming you have X_train, y_train, X_val, y_val, and a model)\n",
        "cw = ClassWeights(y_train)\n",
        "best_result = cw.find_best_method(model, X_train, y_train, X_val, y_val)\n",
        "print(f\"Best method: {best_result['method']}, Weights: {best_result['weights']}\")\n",
        "```\n",
        "\n",
        "**Explanation:**\n",
        "\n",
        "**1. `find_best_method`:**\n",
        "\n",
        "  - Takes the model, training and validation data, and evaluation metric as input.\n",
        "  - Defines a list of methods containing all the weighting methods from your class.\n",
        "  - Iterates through each method:\n",
        "    - Calculates the weights using the method (special handling for `freq_weighted_f1_scores`).\n",
        "    - Trains the model using the calculated weights.\n",
        "    - Evaluates the model on the validation set using the specified `metric`.\n",
        "    - Tracks the best score and corresponding method/weights.\n",
        "  - Returns a dictionary containing the best method's name and weights.\n",
        "\n",
        "**2. `_evaluate`:**\n",
        "\n",
        "A helper function to calculate the evaluation score based on the chosen `metric`.\n",
        "\n",
        "Now you have a convenient way to automatically find the most effective class weighting technique for your imbalanced dataset! Remember to add any new weighting methods you create to the methods list in `find_best_method`."
      ],
      "metadata": {
        "id": "Neb9Pk0dPXay"
      }
    },
    {
      "cell_type": "markdown",
      "source": [
        "### Stopwords - No"
      ],
      "metadata": {
        "id": "kICnU6yOYm8J"
      }
    },
    {
      "cell_type": "markdown",
      "source": [
        "#### Class Weights - Not Balanced"
      ],
      "metadata": {
        "id": "N1wKAcBqZ5PQ"
      }
    },
    {
      "cell_type": "code",
      "execution_count": null,
      "metadata": {
        "id": "06GC5_dXZ5Pf"
      },
      "outputs": [],
      "source": []
    },
    {
      "cell_type": "markdown",
      "source": [
        "#### Class Weights - Balanced"
      ],
      "metadata": {
        "id": "OUECn1f1Z5Pf"
      }
    },
    {
      "cell_type": "code",
      "source": [],
      "metadata": {
        "id": "D4t4ueZbZ5Pf"
      },
      "execution_count": null,
      "outputs": []
    },
    {
      "cell_type": "markdown",
      "source": [
        "#### Class Weights - Customized"
      ],
      "metadata": {
        "id": "04SIaTHHZ5Pg"
      }
    },
    {
      "cell_type": "code",
      "source": [],
      "metadata": {
        "id": "D-JqSt4uYqkD"
      },
      "execution_count": null,
      "outputs": []
    },
    {
      "cell_type": "markdown",
      "metadata": {
        "id": "VDzFFGNXfExG"
      },
      "source": [
        "## TF-IDF Vectorizer"
      ]
    },
    {
      "cell_type": "markdown",
      "source": [
        "### Emoji - No"
      ],
      "metadata": {
        "id": "BVYeEjmjYszE"
      }
    },
    {
      "cell_type": "code",
      "execution_count": null,
      "metadata": {
        "id": "2wRAum8GYszT"
      },
      "outputs": [],
      "source": []
    },
    {
      "cell_type": "markdown",
      "source": [
        "### Emoji - Yes"
      ],
      "metadata": {
        "id": "Vu5e3fDWYszT"
      }
    },
    {
      "cell_type": "code",
      "source": [],
      "metadata": {
        "id": "eQkqKQfuYszT"
      },
      "execution_count": null,
      "outputs": []
    },
    {
      "cell_type": "markdown",
      "source": [
        "### Stopwords - No"
      ],
      "metadata": {
        "id": "ufZ8WvZUYszU"
      }
    },
    {
      "cell_type": "code",
      "source": [],
      "metadata": {
        "id": "6c_Wq-FCYszU"
      },
      "execution_count": null,
      "outputs": []
    },
    {
      "cell_type": "markdown",
      "metadata": {
        "id": "lAdOnTsqfExG"
      },
      "source": [
        "## Word2vec"
      ]
    },
    {
      "cell_type": "markdown",
      "source": [
        "### Gensim Word2Vec - Manual"
      ],
      "metadata": {
        "id": "a63kzincX-pi"
      }
    },
    {
      "cell_type": "markdown",
      "source": [
        "#### Emoji - No"
      ],
      "metadata": {
        "id": "4v68_SvRYxHd"
      }
    },
    {
      "cell_type": "markdown",
      "source": [
        "##### Class Weights - Not Balanced"
      ],
      "metadata": {
        "id": "SYZT1OC8Z_yH"
      }
    },
    {
      "cell_type": "code",
      "execution_count": null,
      "metadata": {
        "id": "cP6bX9dKZ_ye"
      },
      "outputs": [],
      "source": []
    },
    {
      "cell_type": "markdown",
      "source": [
        "##### Class Weights - Balanced"
      ],
      "metadata": {
        "id": "0nuxL4eAZ_yf"
      }
    },
    {
      "cell_type": "code",
      "source": [],
      "metadata": {
        "id": "6iOdl6vnZ_yf"
      },
      "execution_count": null,
      "outputs": []
    },
    {
      "cell_type": "markdown",
      "source": [
        "##### Class Weights - Customized"
      ],
      "metadata": {
        "id": "caWFT7AYZ_yg"
      }
    },
    {
      "cell_type": "code",
      "execution_count": null,
      "metadata": {
        "id": "312ifcYfYxHv"
      },
      "outputs": [],
      "source": []
    },
    {
      "cell_type": "markdown",
      "source": [
        "#### Emoji - Yes"
      ],
      "metadata": {
        "id": "eChVdU5MYxHw"
      }
    },
    {
      "cell_type": "markdown",
      "source": [
        "##### Class Weights - Not Balanced"
      ],
      "metadata": {
        "id": "BO5RHOmpaH7O"
      }
    },
    {
      "cell_type": "code",
      "execution_count": null,
      "metadata": {
        "id": "E6gblxHIaH7l"
      },
      "outputs": [],
      "source": []
    },
    {
      "cell_type": "markdown",
      "source": [
        "##### Class Weights - Balanced"
      ],
      "metadata": {
        "id": "ZTCr2cJAaH7l"
      }
    },
    {
      "cell_type": "code",
      "source": [],
      "metadata": {
        "id": "kqZkhWIsaH7l"
      },
      "execution_count": null,
      "outputs": []
    },
    {
      "cell_type": "markdown",
      "source": [
        "##### Class Weights - Customized"
      ],
      "metadata": {
        "id": "IidZELRTaH7m"
      }
    },
    {
      "cell_type": "code",
      "source": [],
      "metadata": {
        "id": "DDvFR6ywYxHw"
      },
      "execution_count": null,
      "outputs": []
    },
    {
      "cell_type": "markdown",
      "source": [
        "#### Stopwords - No"
      ],
      "metadata": {
        "id": "wtgHTKbDYxHx"
      }
    },
    {
      "cell_type": "markdown",
      "source": [
        "##### Class Weights - Not Balanced"
      ],
      "metadata": {
        "id": "1LtsL_kDaJUl"
      }
    },
    {
      "cell_type": "code",
      "execution_count": null,
      "metadata": {
        "id": "2FQlHA8ZaJVA"
      },
      "outputs": [],
      "source": []
    },
    {
      "cell_type": "markdown",
      "source": [
        "##### Class Weights - Balanced"
      ],
      "metadata": {
        "id": "Asz9jnfRaJVB"
      }
    },
    {
      "cell_type": "code",
      "source": [],
      "metadata": {
        "id": "GIqmysg9aJVB"
      },
      "execution_count": null,
      "outputs": []
    },
    {
      "cell_type": "markdown",
      "source": [
        "##### Class Weights - Customized"
      ],
      "metadata": {
        "id": "XaDddt18aJVB"
      }
    },
    {
      "cell_type": "code",
      "source": [],
      "metadata": {
        "id": "XXbQKv5CWPdL"
      },
      "execution_count": null,
      "outputs": []
    },
    {
      "cell_type": "markdown",
      "source": [
        "### Gensim Word2Vec - Pre-trained"
      ],
      "metadata": {
        "id": "stIyiZg3YFIy"
      }
    },
    {
      "cell_type": "markdown",
      "source": [
        "#### Emoji - No"
      ],
      "metadata": {
        "id": "Y4hBPYsuYzQL"
      }
    },
    {
      "cell_type": "markdown",
      "source": [
        "##### Class Weights - Not Balanced"
      ],
      "metadata": {
        "id": "YGtzXdYQaT-z"
      }
    },
    {
      "cell_type": "code",
      "execution_count": null,
      "metadata": {
        "id": "Weo2ph-zaT_A"
      },
      "outputs": [],
      "source": []
    },
    {
      "cell_type": "markdown",
      "source": [
        "##### Class Weights - Balanced"
      ],
      "metadata": {
        "id": "t8vBj6HwaT_B"
      }
    },
    {
      "cell_type": "code",
      "source": [],
      "metadata": {
        "id": "liEcyNgvaT_B"
      },
      "execution_count": null,
      "outputs": []
    },
    {
      "cell_type": "markdown",
      "source": [
        "##### Class Weights - Customized"
      ],
      "metadata": {
        "id": "3OoRv7hJaT_B"
      }
    },
    {
      "cell_type": "code",
      "execution_count": null,
      "metadata": {
        "id": "faav12Z4YzQg"
      },
      "outputs": [],
      "source": []
    },
    {
      "cell_type": "markdown",
      "source": [
        "#### Emoji - Yes"
      ],
      "metadata": {
        "id": "Aps5UPWVYzQg"
      }
    },
    {
      "cell_type": "markdown",
      "source": [
        "##### Class Weights - Not Balanced"
      ],
      "metadata": {
        "id": "0qJR8bEmaU_l"
      }
    },
    {
      "cell_type": "code",
      "execution_count": null,
      "metadata": {
        "id": "FbrQnPajaU_m"
      },
      "outputs": [],
      "source": []
    },
    {
      "cell_type": "markdown",
      "source": [
        "##### Class Weights - Balanced"
      ],
      "metadata": {
        "id": "M6OjqTv1aU_n"
      }
    },
    {
      "cell_type": "code",
      "source": [],
      "metadata": {
        "id": "UZ9BHv30aU_n"
      },
      "execution_count": null,
      "outputs": []
    },
    {
      "cell_type": "markdown",
      "source": [
        "##### Class Weights - Customized"
      ],
      "metadata": {
        "id": "3A_H3-xMaU_n"
      }
    },
    {
      "cell_type": "code",
      "source": [],
      "metadata": {
        "id": "Znl3gotOYzQh"
      },
      "execution_count": null,
      "outputs": []
    },
    {
      "cell_type": "markdown",
      "source": [
        "#### Stopwords - No"
      ],
      "metadata": {
        "id": "psernBAAYzQh"
      }
    },
    {
      "cell_type": "markdown",
      "source": [
        "##### Class Weights - Not Balanced"
      ],
      "metadata": {
        "id": "g86DE1-qaW81"
      }
    },
    {
      "cell_type": "code",
      "execution_count": null,
      "metadata": {
        "id": "ZV_k-mI4aW9E"
      },
      "outputs": [],
      "source": []
    },
    {
      "cell_type": "markdown",
      "source": [
        "##### Class Weights - Balanced"
      ],
      "metadata": {
        "id": "jPWBUloXaW9E"
      }
    },
    {
      "cell_type": "code",
      "source": [],
      "metadata": {
        "id": "xfBkgUn_aW9E"
      },
      "execution_count": null,
      "outputs": []
    },
    {
      "cell_type": "markdown",
      "source": [
        "##### Class Weights - Customized"
      ],
      "metadata": {
        "id": "eFXnCqMyaW9F"
      }
    },
    {
      "cell_type": "code",
      "source": [],
      "metadata": {
        "id": "e-jiwwnbYKhh"
      },
      "execution_count": null,
      "outputs": []
    },
    {
      "cell_type": "markdown",
      "source": [
        "# Converting txt file into pdf file"
      ],
      "metadata": {
        "id": "lDz0fhY3WUu0"
      }
    },
    {
      "cell_type": "code",
      "source": [
        "!pip install markdown2 weasyprint"
      ],
      "metadata": {
        "id": "0c6QKQClQTbF"
      },
      "execution_count": null,
      "outputs": []
    },
    {
      "cell_type": "code",
      "source": [
        "import markdown2\n",
        "from weasyprint import HTML\n",
        "\n",
        "# Read the contents of the text file\n",
        "with open('/content/Classes_related_conversation_with_gemini.txt', 'r', encoding='utf-8') as file:\n",
        "    text_content = file.read()\n",
        "\n",
        "# Convert text content to markdown\n",
        "markdown_content = markdown2.markdown(text_content)\n",
        "\n",
        "# Convert markdown content to HTML\n",
        "html_content = markdown_content\n",
        "\n",
        "# Path for the output PDF file\n",
        "output_path = \"Classes_related_conversation_with_gemini.pdf\"\n",
        "\n",
        "# Convert HTML to PDF using WeasyPrint\n",
        "HTML(string=html_content).write_pdf(output_path)\n",
        "\n",
        "print(f\"PDF successfully generated at {output_path}\")\n"
      ],
      "metadata": {
        "id": "jZGiZsxAUtY-"
      },
      "execution_count": null,
      "outputs": []
    },
    {
      "cell_type": "markdown",
      "source": [
        "## Getting corpus and evaluations"
      ],
      "metadata": {
        "id": "fneRrX7Oqhdx"
      }
    },
    {
      "cell_type": "code",
      "source": [
        "\n",
        "\n",
        "clf_names=\"\"\"sklearn.naive_bayes.MultinomialNB\n",
        "sklearn.naive_bayes.BernoulliNB\n",
        "sklearn.naive_bayes.CategoricalNB\n",
        "sklearn.naive_bayes.ComplementNB\n",
        "sklearn.linear_model.LogisticRegression (with multi_class='multinomial' or multi_class='ovr')\n",
        "sklearn.linear_model.RidgeClassifier\n",
        "sklearn.linear_model.SGDClassifier (with loss='hinge' or other multi-class losses)\n",
        "sklearn.ensemble.RandomForestClassifier\n",
        "sklearn.ensemble.ExtraTreesClassifier\n",
        "sklearn.ensemble.BaggingClassifier\n",
        "sklearn.ensemble.AdaBoostClassifier\n",
        "sklearn.ensemble.GradientBoostingClassifier\n",
        "sklearn.ensemble.HistGradientBoostingClassifier\n",
        "sklearn.ensemble.VotingClassifier\n",
        "XGBoost\n",
        "LightGBM\n",
        "\"\"\""
      ],
      "metadata": {
        "id": "6HUCX3EHVAHr"
      },
      "execution_count": null,
      "outputs": []
    },
    {
      "cell_type": "code",
      "source": [
        "clf_names_list = clf_names.split(\"\\n\")\n",
        "clf_names_list"
      ],
      "metadata": {
        "colab": {
          "base_uri": "https://localhost:8080/"
        },
        "id": "9gUWsV15lyeK",
        "outputId": "6b5ad10b-4732-4509-bf32-09f9c32b746c"
      },
      "execution_count": null,
      "outputs": [
        {
          "output_type": "execute_result",
          "data": {
            "text/plain": [
              "['sklearn.naive_bayes.MultinomialNB',\n",
              " 'sklearn.naive_bayes.BernoulliNB',\n",
              " 'sklearn.naive_bayes.CategoricalNB',\n",
              " 'sklearn.naive_bayes.ComplementNB',\n",
              " \"sklearn.linear_model.LogisticRegression (with multi_class='multinomial' or multi_class='ovr')\",\n",
              " 'sklearn.linear_model.RidgeClassifier',\n",
              " \"sklearn.linear_model.SGDClassifier (with loss='hinge' or other multi-class losses)\",\n",
              " 'sklearn.ensemble.RandomForestClassifier',\n",
              " 'sklearn.ensemble.ExtraTreesClassifier',\n",
              " 'sklearn.ensemble.BaggingClassifier',\n",
              " 'sklearn.ensemble.AdaBoostClassifier',\n",
              " 'sklearn.ensemble.GradientBoostingClassifier',\n",
              " 'sklearn.ensemble.HistGradientBoostingClassifier',\n",
              " 'sklearn.ensemble.VotingClassifier',\n",
              " 'XGBoost',\n",
              " 'LightGBM',\n",
              " '']"
            ]
          },
          "metadata": {},
          "execution_count": 3
        }
      ]
    },
    {
      "cell_type": "code",
      "source": [
        "clfs = []\n",
        "for i in clf_names_list:\n",
        "  if i != \"\":\n",
        "    clfs.append(i.split(\".\")[-1])\n",
        "clfs"
      ],
      "metadata": {
        "colab": {
          "base_uri": "https://localhost:8080/"
        },
        "id": "p0I0jEFNmDWw",
        "outputId": "66e51385-976d-4eeb-c720-04b6127ff8e4"
      },
      "execution_count": null,
      "outputs": [
        {
          "output_type": "execute_result",
          "data": {
            "text/plain": [
              "['MultinomialNB',\n",
              " 'BernoulliNB',\n",
              " 'CategoricalNB',\n",
              " 'ComplementNB',\n",
              " \"LogisticRegression (with multi_class='multinomial' or multi_class='ovr')\",\n",
              " 'RidgeClassifier',\n",
              " \"SGDClassifier (with loss='hinge' or other multi-class losses)\",\n",
              " 'RandomForestClassifier',\n",
              " 'ExtraTreesClassifier',\n",
              " 'BaggingClassifier',\n",
              " 'AdaBoostClassifier',\n",
              " 'GradientBoostingClassifier',\n",
              " 'HistGradientBoostingClassifier',\n",
              " 'VotingClassifier',\n",
              " 'XGBoost',\n",
              " 'LightGBM']"
            ]
          },
          "metadata": {},
          "execution_count": 4
        }
      ]
    },
    {
      "cell_type": "code",
      "source": [
        "print(clfs)"
      ],
      "metadata": {
        "colab": {
          "base_uri": "https://localhost:8080/"
        },
        "id": "u2f9PNDq5Q3Y",
        "outputId": "2fb24eac-e84c-428e-96fc-8a6335741517"
      },
      "execution_count": null,
      "outputs": [
        {
          "output_type": "stream",
          "name": "stdout",
          "text": [
            "['MultinomialNB', 'BernoulliNB', 'CategoricalNB', 'ComplementNB', \"LogisticRegression (with multi_class='multinomial' or multi_class='ovr')\", 'RidgeClassifier', \"SGDClassifier (with loss='hinge' or other multi-class losses)\", 'RandomForestClassifier', 'ExtraTreesClassifier', 'BaggingClassifier', 'AdaBoostClassifier', 'GradientBoostingClassifier', 'HistGradientBoostingClassifier', 'VotingClassifier', 'XGBoost', 'LightGBM']\n"
          ]
        }
      ]
    },
    {
      "cell_type": "markdown",
      "source": [
        "- Without balancing weights"
      ],
      "metadata": {
        "id": "HVuDHIr6qAPs"
      }
    },
    {
      "cell_type": "code",
      "source": [
        "pipe = Pipeline(\n",
        "                        [\n",
        "                          (\"Clean_Corpus\", CleanCorpusTransformer(emoji=False, stop_words=False)),\n",
        "                          (\"Word_Vectorizer\", WordVectors(vectorizer=\"count\")),\n",
        "                          (\"Scaler\", StandardScaler(with_mean=False)), # For sparse matrix it should be \"with_mean=False\"\n",
        "                          (\"Classifier\", LogisticRegression(max_iter=1000, class_weight=class_weight_dict))\n",
        "                        ]\n",
        "                      )"
      ],
      "metadata": {
        "id": "_wO8rW6aockJ"
      },
      "execution_count": null,
      "outputs": []
    },
    {
      "cell_type": "markdown",
      "source": [
        "- With balancing weights"
      ],
      "metadata": {
        "id": "HPHDDrRcqHCh"
      }
    },
    {
      "cell_type": "code",
      "source": [
        "pipe_bal = Pipeline(\n",
        "                        [\n",
        "                          (\"Clean_Corpus\", CleanCorpusTransformer(emoji=False, stop_words=False)),\n",
        "                          (\"Word_Vectorizer\", WordVectors(vectorizer=\"count\")),\n",
        "                          (\"Scaler\", StandardScaler(with_mean=False)), # For sparse matrix it should be \"with_mean=False\"\n",
        "                          (\"weights\", ClassWeightsTransformer()),\n",
        "                          (\"Classifier\", LogisticRegression(max_iter=10000000)),\n",
        "                        ]\n",
        "                      )"
      ],
      "metadata": {
        "id": "Q3Z-WQqFqKbm"
      },
      "execution_count": null,
      "outputs": []
    },
    {
      "cell_type": "code",
      "source": [
        "%%time\n",
        "\n",
        "pipe_bal.fit(X=train_reviews, y=train_labels)"
      ],
      "metadata": {
        "colab": {
          "base_uri": "https://localhost:8080/",
          "height": 1000
        },
        "id": "b7X5xC4jTpid",
        "outputId": "c9b6c11e-b1e8-4c35-b6cb-9cca094d8099"
      },
      "execution_count": null,
      "outputs": [
        {
          "output_type": "stream",
          "name": "stderr",
          "text": [
            "/usr/local/lib/python3.10/dist-packages/sklearn/linear_model/_logistic.py:460: ConvergenceWarning: lbfgs failed to converge (status=1):\n",
            "STOP: TOTAL NO. of ITERATIONS REACHED LIMIT.\n",
            "\n",
            "Increase the number of iterations (max_iter) or scale the data as shown in:\n",
            "    https://scikit-learn.org/stable/modules/preprocessing.html\n",
            "Please also refer to the documentation for alternative solver options:\n",
            "    https://scikit-learn.org/stable/modules/linear_model.html#logistic-regression\n",
            "  n_iter_i = _check_optimize_result(\n",
            "/usr/local/lib/python3.10/dist-packages/sklearn/linear_model/_logistic.py:460: ConvergenceWarning: lbfgs failed to converge (status=1):\n",
            "STOP: TOTAL NO. of ITERATIONS REACHED LIMIT.\n",
            "\n",
            "Increase the number of iterations (max_iter) or scale the data as shown in:\n",
            "    https://scikit-learn.org/stable/modules/preprocessing.html\n",
            "Please also refer to the documentation for alternative solver options:\n",
            "    https://scikit-learn.org/stable/modules/linear_model.html#logistic-regression\n",
            "  n_iter_i = _check_optimize_result(\n",
            "/usr/local/lib/python3.10/dist-packages/sklearn/linear_model/_logistic.py:460: ConvergenceWarning: lbfgs failed to converge (status=1):\n",
            "STOP: TOTAL NO. of ITERATIONS REACHED LIMIT.\n",
            "\n",
            "Increase the number of iterations (max_iter) or scale the data as shown in:\n",
            "    https://scikit-learn.org/stable/modules/preprocessing.html\n",
            "Please also refer to the documentation for alternative solver options:\n",
            "    https://scikit-learn.org/stable/modules/linear_model.html#logistic-regression\n",
            "  n_iter_i = _check_optimize_result(\n",
            "/usr/local/lib/python3.10/dist-packages/sklearn/linear_model/_logistic.py:460: ConvergenceWarning: lbfgs failed to converge (status=1):\n",
            "STOP: TOTAL NO. of ITERATIONS REACHED LIMIT.\n",
            "\n",
            "Increase the number of iterations (max_iter) or scale the data as shown in:\n",
            "    https://scikit-learn.org/stable/modules/preprocessing.html\n",
            "Please also refer to the documentation for alternative solver options:\n",
            "    https://scikit-learn.org/stable/modules/linear_model.html#logistic-regression\n",
            "  n_iter_i = _check_optimize_result(\n",
            "/usr/local/lib/python3.10/dist-packages/sklearn/linear_model/_logistic.py:460: ConvergenceWarning: lbfgs failed to converge (status=1):\n",
            "STOP: TOTAL NO. of ITERATIONS REACHED LIMIT.\n",
            "\n",
            "Increase the number of iterations (max_iter) or scale the data as shown in:\n",
            "    https://scikit-learn.org/stable/modules/preprocessing.html\n",
            "Please also refer to the documentation for alternative solver options:\n",
            "    https://scikit-learn.org/stable/modules/linear_model.html#logistic-regression\n",
            "  n_iter_i = _check_optimize_result(\n",
            "/usr/local/lib/python3.10/dist-packages/sklearn/linear_model/_logistic.py:460: ConvergenceWarning: lbfgs failed to converge (status=1):\n",
            "STOP: TOTAL NO. of ITERATIONS REACHED LIMIT.\n",
            "\n",
            "Increase the number of iterations (max_iter) or scale the data as shown in:\n",
            "    https://scikit-learn.org/stable/modules/preprocessing.html\n",
            "Please also refer to the documentation for alternative solver options:\n",
            "    https://scikit-learn.org/stable/modules/linear_model.html#logistic-regression\n",
            "  n_iter_i = _check_optimize_result(\n",
            "/usr/local/lib/python3.10/dist-packages/sklearn/linear_model/_logistic.py:460: ConvergenceWarning: lbfgs failed to converge (status=1):\n",
            "STOP: TOTAL NO. of ITERATIONS REACHED LIMIT.\n",
            "\n",
            "Increase the number of iterations (max_iter) or scale the data as shown in:\n",
            "    https://scikit-learn.org/stable/modules/preprocessing.html\n",
            "Please also refer to the documentation for alternative solver options:\n",
            "    https://scikit-learn.org/stable/modules/linear_model.html#logistic-regression\n",
            "  n_iter_i = _check_optimize_result(\n",
            "/usr/local/lib/python3.10/dist-packages/sklearn/linear_model/_logistic.py:460: ConvergenceWarning: lbfgs failed to converge (status=1):\n",
            "STOP: TOTAL NO. of ITERATIONS REACHED LIMIT.\n",
            "\n",
            "Increase the number of iterations (max_iter) or scale the data as shown in:\n",
            "    https://scikit-learn.org/stable/modules/preprocessing.html\n",
            "Please also refer to the documentation for alternative solver options:\n",
            "    https://scikit-learn.org/stable/modules/linear_model.html#logistic-regression\n",
            "  n_iter_i = _check_optimize_result(\n",
            "/usr/local/lib/python3.10/dist-packages/sklearn/linear_model/_logistic.py:460: ConvergenceWarning: lbfgs failed to converge (status=1):\n",
            "STOP: TOTAL NO. of ITERATIONS REACHED LIMIT.\n",
            "\n",
            "Increase the number of iterations (max_iter) or scale the data as shown in:\n",
            "    https://scikit-learn.org/stable/modules/preprocessing.html\n",
            "Please also refer to the documentation for alternative solver options:\n",
            "    https://scikit-learn.org/stable/modules/linear_model.html#logistic-regression\n",
            "  n_iter_i = _check_optimize_result(\n"
          ]
        },
        {
          "output_type": "stream",
          "name": "stdout",
          "text": [
            "Best weights: {0: 0.4320892226758567, 1: 0.4384759518498002, 2: 0.12943482547434318}\n",
            "CPU times: user 3min 51s, sys: 26.7 s, total: 4min 18s\n",
            "Wall time: 3min 44s\n"
          ]
        },
        {
          "output_type": "execute_result",
          "data": {
            "text/plain": [
              "Pipeline(steps=[('Clean_Corpus',\n",
              "                 <__main__.CleanCorpusTransformer object at 0x786cb94c3820>),\n",
              "                ('Word_Vectorizer',\n",
              "                 <__main__.WordVectors object at 0x786c6dd6e1a0>),\n",
              "                ('Scaler', StandardScaler(with_mean=False)),\n",
              "                ('weights',\n",
              "                 <__main__.ClassWeightsTransformer object at 0x786c6dd6fac0>),\n",
              "                ('Classifier', LogisticRegression(max_iter=10000000))])"
            ],
            "text/html": [
              "<style>#sk-container-id-3 {color: black;}#sk-container-id-3 pre{padding: 0;}#sk-container-id-3 div.sk-toggleable {background-color: white;}#sk-container-id-3 label.sk-toggleable__label {cursor: pointer;display: block;width: 100%;margin-bottom: 0;padding: 0.3em;box-sizing: border-box;text-align: center;}#sk-container-id-3 label.sk-toggleable__label-arrow:before {content: \"▸\";float: left;margin-right: 0.25em;color: #696969;}#sk-container-id-3 label.sk-toggleable__label-arrow:hover:before {color: black;}#sk-container-id-3 div.sk-estimator:hover label.sk-toggleable__label-arrow:before {color: black;}#sk-container-id-3 div.sk-toggleable__content {max-height: 0;max-width: 0;overflow: hidden;text-align: left;background-color: #f0f8ff;}#sk-container-id-3 div.sk-toggleable__content pre {margin: 0.2em;color: black;border-radius: 0.25em;background-color: #f0f8ff;}#sk-container-id-3 input.sk-toggleable__control:checked~div.sk-toggleable__content {max-height: 200px;max-width: 100%;overflow: auto;}#sk-container-id-3 input.sk-toggleable__control:checked~label.sk-toggleable__label-arrow:before {content: \"▾\";}#sk-container-id-3 div.sk-estimator input.sk-toggleable__control:checked~label.sk-toggleable__label {background-color: #d4ebff;}#sk-container-id-3 div.sk-label input.sk-toggleable__control:checked~label.sk-toggleable__label {background-color: #d4ebff;}#sk-container-id-3 input.sk-hidden--visually {border: 0;clip: rect(1px 1px 1px 1px);clip: rect(1px, 1px, 1px, 1px);height: 1px;margin: -1px;overflow: hidden;padding: 0;position: absolute;width: 1px;}#sk-container-id-3 div.sk-estimator {font-family: monospace;background-color: #f0f8ff;border: 1px dotted black;border-radius: 0.25em;box-sizing: border-box;margin-bottom: 0.5em;}#sk-container-id-3 div.sk-estimator:hover {background-color: #d4ebff;}#sk-container-id-3 div.sk-parallel-item::after {content: \"\";width: 100%;border-bottom: 1px solid gray;flex-grow: 1;}#sk-container-id-3 div.sk-label:hover label.sk-toggleable__label {background-color: #d4ebff;}#sk-container-id-3 div.sk-serial::before {content: \"\";position: absolute;border-left: 1px solid gray;box-sizing: border-box;top: 0;bottom: 0;left: 50%;z-index: 0;}#sk-container-id-3 div.sk-serial {display: flex;flex-direction: column;align-items: center;background-color: white;padding-right: 0.2em;padding-left: 0.2em;position: relative;}#sk-container-id-3 div.sk-item {position: relative;z-index: 1;}#sk-container-id-3 div.sk-parallel {display: flex;align-items: stretch;justify-content: center;background-color: white;position: relative;}#sk-container-id-3 div.sk-item::before, #sk-container-id-3 div.sk-parallel-item::before {content: \"\";position: absolute;border-left: 1px solid gray;box-sizing: border-box;top: 0;bottom: 0;left: 50%;z-index: -1;}#sk-container-id-3 div.sk-parallel-item {display: flex;flex-direction: column;z-index: 1;position: relative;background-color: white;}#sk-container-id-3 div.sk-parallel-item:first-child::after {align-self: flex-end;width: 50%;}#sk-container-id-3 div.sk-parallel-item:last-child::after {align-self: flex-start;width: 50%;}#sk-container-id-3 div.sk-parallel-item:only-child::after {width: 0;}#sk-container-id-3 div.sk-dashed-wrapped {border: 1px dashed gray;margin: 0 0.4em 0.5em 0.4em;box-sizing: border-box;padding-bottom: 0.4em;background-color: white;}#sk-container-id-3 div.sk-label label {font-family: monospace;font-weight: bold;display: inline-block;line-height: 1.2em;}#sk-container-id-3 div.sk-label-container {text-align: center;}#sk-container-id-3 div.sk-container {/* jupyter's `normalize.less` sets `[hidden] { display: none; }` but bootstrap.min.css set `[hidden] { display: none !important; }` so we also need the `!important` here to be able to override the default hidden behavior on the sphinx rendered scikit-learn.org. See: https://github.com/scikit-learn/scikit-learn/issues/21755 */display: inline-block !important;position: relative;}#sk-container-id-3 div.sk-text-repr-fallback {display: none;}</style><div id=\"sk-container-id-3\" class=\"sk-top-container\"><div class=\"sk-text-repr-fallback\"><pre>Pipeline(steps=[(&#x27;Clean_Corpus&#x27;,\n",
              "                 &lt;__main__.CleanCorpusTransformer object at 0x786cb94c3820&gt;),\n",
              "                (&#x27;Word_Vectorizer&#x27;,\n",
              "                 &lt;__main__.WordVectors object at 0x786c6dd6e1a0&gt;),\n",
              "                (&#x27;Scaler&#x27;, StandardScaler(with_mean=False)),\n",
              "                (&#x27;weights&#x27;,\n",
              "                 &lt;__main__.ClassWeightsTransformer object at 0x786c6dd6fac0&gt;),\n",
              "                (&#x27;Classifier&#x27;, LogisticRegression(max_iter=10000000))])</pre><b>In a Jupyter environment, please rerun this cell to show the HTML representation or trust the notebook. <br />On GitHub, the HTML representation is unable to render, please try loading this page with nbviewer.org.</b></div><div class=\"sk-container\" hidden><div class=\"sk-item sk-dashed-wrapped\"><div class=\"sk-label-container\"><div class=\"sk-label sk-toggleable\"><input class=\"sk-toggleable__control sk-hidden--visually\" id=\"sk-estimator-id-17\" type=\"checkbox\" ><label for=\"sk-estimator-id-17\" class=\"sk-toggleable__label sk-toggleable__label-arrow\">Pipeline</label><div class=\"sk-toggleable__content\"><pre>Pipeline(steps=[(&#x27;Clean_Corpus&#x27;,\n",
              "                 &lt;__main__.CleanCorpusTransformer object at 0x786cb94c3820&gt;),\n",
              "                (&#x27;Word_Vectorizer&#x27;,\n",
              "                 &lt;__main__.WordVectors object at 0x786c6dd6e1a0&gt;),\n",
              "                (&#x27;Scaler&#x27;, StandardScaler(with_mean=False)),\n",
              "                (&#x27;weights&#x27;,\n",
              "                 &lt;__main__.ClassWeightsTransformer object at 0x786c6dd6fac0&gt;),\n",
              "                (&#x27;Classifier&#x27;, LogisticRegression(max_iter=10000000))])</pre></div></div></div><div class=\"sk-serial\"><div class=\"sk-item\"><div class=\"sk-estimator sk-toggleable\"><input class=\"sk-toggleable__control sk-hidden--visually\" id=\"sk-estimator-id-18\" type=\"checkbox\" ><label for=\"sk-estimator-id-18\" class=\"sk-toggleable__label sk-toggleable__label-arrow\">CleanCorpusTransformer</label><div class=\"sk-toggleable__content\"><pre>&lt;__main__.CleanCorpusTransformer object at 0x786cb94c3820&gt;</pre></div></div></div><div class=\"sk-item\"><div class=\"sk-estimator sk-toggleable\"><input class=\"sk-toggleable__control sk-hidden--visually\" id=\"sk-estimator-id-19\" type=\"checkbox\" ><label for=\"sk-estimator-id-19\" class=\"sk-toggleable__label sk-toggleable__label-arrow\">WordVectors</label><div class=\"sk-toggleable__content\"><pre>&lt;__main__.WordVectors object at 0x786c6dd6e1a0&gt;</pre></div></div></div><div class=\"sk-item\"><div class=\"sk-estimator sk-toggleable\"><input class=\"sk-toggleable__control sk-hidden--visually\" id=\"sk-estimator-id-20\" type=\"checkbox\" ><label for=\"sk-estimator-id-20\" class=\"sk-toggleable__label sk-toggleable__label-arrow\">StandardScaler</label><div class=\"sk-toggleable__content\"><pre>StandardScaler(with_mean=False)</pre></div></div></div><div class=\"sk-item sk-dashed-wrapped\"><div class=\"sk-label-container\"><div class=\"sk-label sk-toggleable\"><input class=\"sk-toggleable__control sk-hidden--visually\" id=\"sk-estimator-id-21\" type=\"checkbox\" ><label for=\"sk-estimator-id-21\" class=\"sk-toggleable__label sk-toggleable__label-arrow\">weights: ClassWeightsTransformer</label><div class=\"sk-toggleable__content\"><pre>&lt;__main__.ClassWeightsTransformer object at 0x786c6dd6fac0&gt;</pre></div></div></div><div class=\"sk-parallel\"><div class=\"sk-parallel-item\"><div class=\"sk-item\"><div class=\"sk-label-container\"><div class=\"sk-label sk-toggleable\"><input class=\"sk-toggleable__control sk-hidden--visually\" id=\"sk-estimator-id-22\" type=\"checkbox\" ><label for=\"sk-estimator-id-22\" class=\"sk-toggleable__label sk-toggleable__label-arrow\">model: LogisticRegression</label><div class=\"sk-toggleable__content\"><pre>LogisticRegression()</pre></div></div></div><div class=\"sk-serial\"><div class=\"sk-item\"><div class=\"sk-estimator sk-toggleable\"><input class=\"sk-toggleable__control sk-hidden--visually\" id=\"sk-estimator-id-23\" type=\"checkbox\" ><label for=\"sk-estimator-id-23\" class=\"sk-toggleable__label sk-toggleable__label-arrow\">LogisticRegression</label><div class=\"sk-toggleable__content\"><pre>LogisticRegression()</pre></div></div></div></div></div></div></div></div><div class=\"sk-item\"><div class=\"sk-estimator sk-toggleable\"><input class=\"sk-toggleable__control sk-hidden--visually\" id=\"sk-estimator-id-24\" type=\"checkbox\" ><label for=\"sk-estimator-id-24\" class=\"sk-toggleable__label sk-toggleable__label-arrow\">LogisticRegression</label><div class=\"sk-toggleable__content\"><pre>LogisticRegression(max_iter=10000000)</pre></div></div></div></div></div></div></div>"
            ]
          },
          "metadata": {},
          "execution_count": 31
        }
      ]
    },
    {
      "cell_type": "code",
      "source": [
        "from sklearn.naive_bayes import MultinomialNB"
      ],
      "metadata": {
        "id": "et0yXhMcsFQg"
      },
      "execution_count": null,
      "outputs": []
    },
    {
      "cell_type": "code",
      "source": [
        "mb = clfs[0]+\"()\""
      ],
      "metadata": {
        "id": "C0DEfjr2rqvP"
      },
      "execution_count": null,
      "outputs": []
    },
    {
      "cell_type": "code",
      "source": [
        "mb"
      ],
      "metadata": {
        "colab": {
          "base_uri": "https://localhost:8080/",
          "height": 35
        },
        "id": "EX7-3ppIrro9",
        "outputId": "5131bf01-9cfc-4383-a72b-d87cdb9ce5fa"
      },
      "execution_count": null,
      "outputs": [
        {
          "output_type": "execute_result",
          "data": {
            "text/plain": [
              "'MultinomialNB()'"
            ],
            "application/vnd.google.colaboratory.intrinsic+json": {
              "type": "string"
            }
          },
          "metadata": {},
          "execution_count": 8
        }
      ]
    },
    {
      "cell_type": "code",
      "source": [
        "eval(mb)"
      ],
      "metadata": {
        "id": "AvbcDeKNsQJ9",
        "colab": {
          "base_uri": "https://localhost:8080/",
          "height": 74
        },
        "outputId": "7cf2093a-2aa2-4106-917f-5fd9a0794ff7"
      },
      "execution_count": null,
      "outputs": [
        {
          "output_type": "execute_result",
          "data": {
            "text/plain": [
              "MultinomialNB()"
            ],
            "text/html": [
              "<style>#sk-container-id-1 {color: black;}#sk-container-id-1 pre{padding: 0;}#sk-container-id-1 div.sk-toggleable {background-color: white;}#sk-container-id-1 label.sk-toggleable__label {cursor: pointer;display: block;width: 100%;margin-bottom: 0;padding: 0.3em;box-sizing: border-box;text-align: center;}#sk-container-id-1 label.sk-toggleable__label-arrow:before {content: \"▸\";float: left;margin-right: 0.25em;color: #696969;}#sk-container-id-1 label.sk-toggleable__label-arrow:hover:before {color: black;}#sk-container-id-1 div.sk-estimator:hover label.sk-toggleable__label-arrow:before {color: black;}#sk-container-id-1 div.sk-toggleable__content {max-height: 0;max-width: 0;overflow: hidden;text-align: left;background-color: #f0f8ff;}#sk-container-id-1 div.sk-toggleable__content pre {margin: 0.2em;color: black;border-radius: 0.25em;background-color: #f0f8ff;}#sk-container-id-1 input.sk-toggleable__control:checked~div.sk-toggleable__content {max-height: 200px;max-width: 100%;overflow: auto;}#sk-container-id-1 input.sk-toggleable__control:checked~label.sk-toggleable__label-arrow:before {content: \"▾\";}#sk-container-id-1 div.sk-estimator input.sk-toggleable__control:checked~label.sk-toggleable__label {background-color: #d4ebff;}#sk-container-id-1 div.sk-label input.sk-toggleable__control:checked~label.sk-toggleable__label {background-color: #d4ebff;}#sk-container-id-1 input.sk-hidden--visually {border: 0;clip: rect(1px 1px 1px 1px);clip: rect(1px, 1px, 1px, 1px);height: 1px;margin: -1px;overflow: hidden;padding: 0;position: absolute;width: 1px;}#sk-container-id-1 div.sk-estimator {font-family: monospace;background-color: #f0f8ff;border: 1px dotted black;border-radius: 0.25em;box-sizing: border-box;margin-bottom: 0.5em;}#sk-container-id-1 div.sk-estimator:hover {background-color: #d4ebff;}#sk-container-id-1 div.sk-parallel-item::after {content: \"\";width: 100%;border-bottom: 1px solid gray;flex-grow: 1;}#sk-container-id-1 div.sk-label:hover label.sk-toggleable__label {background-color: #d4ebff;}#sk-container-id-1 div.sk-serial::before {content: \"\";position: absolute;border-left: 1px solid gray;box-sizing: border-box;top: 0;bottom: 0;left: 50%;z-index: 0;}#sk-container-id-1 div.sk-serial {display: flex;flex-direction: column;align-items: center;background-color: white;padding-right: 0.2em;padding-left: 0.2em;position: relative;}#sk-container-id-1 div.sk-item {position: relative;z-index: 1;}#sk-container-id-1 div.sk-parallel {display: flex;align-items: stretch;justify-content: center;background-color: white;position: relative;}#sk-container-id-1 div.sk-item::before, #sk-container-id-1 div.sk-parallel-item::before {content: \"\";position: absolute;border-left: 1px solid gray;box-sizing: border-box;top: 0;bottom: 0;left: 50%;z-index: -1;}#sk-container-id-1 div.sk-parallel-item {display: flex;flex-direction: column;z-index: 1;position: relative;background-color: white;}#sk-container-id-1 div.sk-parallel-item:first-child::after {align-self: flex-end;width: 50%;}#sk-container-id-1 div.sk-parallel-item:last-child::after {align-self: flex-start;width: 50%;}#sk-container-id-1 div.sk-parallel-item:only-child::after {width: 0;}#sk-container-id-1 div.sk-dashed-wrapped {border: 1px dashed gray;margin: 0 0.4em 0.5em 0.4em;box-sizing: border-box;padding-bottom: 0.4em;background-color: white;}#sk-container-id-1 div.sk-label label {font-family: monospace;font-weight: bold;display: inline-block;line-height: 1.2em;}#sk-container-id-1 div.sk-label-container {text-align: center;}#sk-container-id-1 div.sk-container {/* jupyter's `normalize.less` sets `[hidden] { display: none; }` but bootstrap.min.css set `[hidden] { display: none !important; }` so we also need the `!important` here to be able to override the default hidden behavior on the sphinx rendered scikit-learn.org. See: https://github.com/scikit-learn/scikit-learn/issues/21755 */display: inline-block !important;position: relative;}#sk-container-id-1 div.sk-text-repr-fallback {display: none;}</style><div id=\"sk-container-id-1\" class=\"sk-top-container\"><div class=\"sk-text-repr-fallback\"><pre>MultinomialNB()</pre><b>In a Jupyter environment, please rerun this cell to show the HTML representation or trust the notebook. <br />On GitHub, the HTML representation is unable to render, please try loading this page with nbviewer.org.</b></div><div class=\"sk-container\" hidden><div class=\"sk-item\"><div class=\"sk-estimator sk-toggleable\"><input class=\"sk-toggleable__control sk-hidden--visually\" id=\"sk-estimator-id-1\" type=\"checkbox\" checked><label for=\"sk-estimator-id-1\" class=\"sk-toggleable__label sk-toggleable__label-arrow\">MultinomialNB</label><div class=\"sk-toggleable__content\"><pre>MultinomialNB()</pre></div></div></div></div></div>"
            ]
          },
          "metadata": {},
          "execution_count": 11
        }
      ]
    },
    {
      "cell_type": "code",
      "source": [
        "def safe_eval(expression):\n",
        "  \"\"\"Evaluates a string expression if it contains only allowed characters.\"\"\"\n",
        "  allowed_chars = set(\"abcdefghijklmnopqrstuvwxyzABCDEFGHIJKLMNOPQRSTUVWXYZ0123456789_()\")\n",
        "  if set(expression).issubset(allowed_chars):\n",
        "    return eval(expression)\n",
        "  else:\n",
        "    return \"Potentially unsafe expression\"\n"
      ],
      "metadata": {
        "colab": {
          "base_uri": "https://localhost:8080/",
          "height": 35
        },
        "id": "zioUPrT9TAEL",
        "outputId": "6b2af595-238b-4588-d391-8b297000a0ec"
      },
      "execution_count": null,
      "outputs": [
        {
          "output_type": "execute_result",
          "data": {
            "text/plain": [
              "'Potentially unsafe expression'"
            ],
            "application/vnd.google.colaboratory.intrinsic+json": {
              "type": "string"
            }
          },
          "metadata": {},
          "execution_count": 12
        }
      ]
    },
    {
      "cell_type": "code",
      "source": [
        "# Example usage\n",
        "safe_eval(\"MultinomialNB()\")  # Safe"
      ],
      "metadata": {
        "colab": {
          "base_uri": "https://localhost:8080/",
          "height": 74
        },
        "id": "RKtSdjihU0mQ",
        "outputId": "c8b36f8c-c76a-4e03-df5c-edb8ca6c256d"
      },
      "execution_count": null,
      "outputs": [
        {
          "output_type": "execute_result",
          "data": {
            "text/plain": [
              "MultinomialNB()"
            ],
            "text/html": [
              "<style>#sk-container-id-2 {color: black;}#sk-container-id-2 pre{padding: 0;}#sk-container-id-2 div.sk-toggleable {background-color: white;}#sk-container-id-2 label.sk-toggleable__label {cursor: pointer;display: block;width: 100%;margin-bottom: 0;padding: 0.3em;box-sizing: border-box;text-align: center;}#sk-container-id-2 label.sk-toggleable__label-arrow:before {content: \"▸\";float: left;margin-right: 0.25em;color: #696969;}#sk-container-id-2 label.sk-toggleable__label-arrow:hover:before {color: black;}#sk-container-id-2 div.sk-estimator:hover label.sk-toggleable__label-arrow:before {color: black;}#sk-container-id-2 div.sk-toggleable__content {max-height: 0;max-width: 0;overflow: hidden;text-align: left;background-color: #f0f8ff;}#sk-container-id-2 div.sk-toggleable__content pre {margin: 0.2em;color: black;border-radius: 0.25em;background-color: #f0f8ff;}#sk-container-id-2 input.sk-toggleable__control:checked~div.sk-toggleable__content {max-height: 200px;max-width: 100%;overflow: auto;}#sk-container-id-2 input.sk-toggleable__control:checked~label.sk-toggleable__label-arrow:before {content: \"▾\";}#sk-container-id-2 div.sk-estimator input.sk-toggleable__control:checked~label.sk-toggleable__label {background-color: #d4ebff;}#sk-container-id-2 div.sk-label input.sk-toggleable__control:checked~label.sk-toggleable__label {background-color: #d4ebff;}#sk-container-id-2 input.sk-hidden--visually {border: 0;clip: rect(1px 1px 1px 1px);clip: rect(1px, 1px, 1px, 1px);height: 1px;margin: -1px;overflow: hidden;padding: 0;position: absolute;width: 1px;}#sk-container-id-2 div.sk-estimator {font-family: monospace;background-color: #f0f8ff;border: 1px dotted black;border-radius: 0.25em;box-sizing: border-box;margin-bottom: 0.5em;}#sk-container-id-2 div.sk-estimator:hover {background-color: #d4ebff;}#sk-container-id-2 div.sk-parallel-item::after {content: \"\";width: 100%;border-bottom: 1px solid gray;flex-grow: 1;}#sk-container-id-2 div.sk-label:hover label.sk-toggleable__label {background-color: #d4ebff;}#sk-container-id-2 div.sk-serial::before {content: \"\";position: absolute;border-left: 1px solid gray;box-sizing: border-box;top: 0;bottom: 0;left: 50%;z-index: 0;}#sk-container-id-2 div.sk-serial {display: flex;flex-direction: column;align-items: center;background-color: white;padding-right: 0.2em;padding-left: 0.2em;position: relative;}#sk-container-id-2 div.sk-item {position: relative;z-index: 1;}#sk-container-id-2 div.sk-parallel {display: flex;align-items: stretch;justify-content: center;background-color: white;position: relative;}#sk-container-id-2 div.sk-item::before, #sk-container-id-2 div.sk-parallel-item::before {content: \"\";position: absolute;border-left: 1px solid gray;box-sizing: border-box;top: 0;bottom: 0;left: 50%;z-index: -1;}#sk-container-id-2 div.sk-parallel-item {display: flex;flex-direction: column;z-index: 1;position: relative;background-color: white;}#sk-container-id-2 div.sk-parallel-item:first-child::after {align-self: flex-end;width: 50%;}#sk-container-id-2 div.sk-parallel-item:last-child::after {align-self: flex-start;width: 50%;}#sk-container-id-2 div.sk-parallel-item:only-child::after {width: 0;}#sk-container-id-2 div.sk-dashed-wrapped {border: 1px dashed gray;margin: 0 0.4em 0.5em 0.4em;box-sizing: border-box;padding-bottom: 0.4em;background-color: white;}#sk-container-id-2 div.sk-label label {font-family: monospace;font-weight: bold;display: inline-block;line-height: 1.2em;}#sk-container-id-2 div.sk-label-container {text-align: center;}#sk-container-id-2 div.sk-container {/* jupyter's `normalize.less` sets `[hidden] { display: none; }` but bootstrap.min.css set `[hidden] { display: none !important; }` so we also need the `!important` here to be able to override the default hidden behavior on the sphinx rendered scikit-learn.org. See: https://github.com/scikit-learn/scikit-learn/issues/21755 */display: inline-block !important;position: relative;}#sk-container-id-2 div.sk-text-repr-fallback {display: none;}</style><div id=\"sk-container-id-2\" class=\"sk-top-container\"><div class=\"sk-text-repr-fallback\"><pre>MultinomialNB()</pre><b>In a Jupyter environment, please rerun this cell to show the HTML representation or trust the notebook. <br />On GitHub, the HTML representation is unable to render, please try loading this page with nbviewer.org.</b></div><div class=\"sk-container\" hidden><div class=\"sk-item\"><div class=\"sk-estimator sk-toggleable\"><input class=\"sk-toggleable__control sk-hidden--visually\" id=\"sk-estimator-id-2\" type=\"checkbox\" checked><label for=\"sk-estimator-id-2\" class=\"sk-toggleable__label sk-toggleable__label-arrow\">MultinomialNB</label><div class=\"sk-toggleable__content\"><pre>MultinomialNB()</pre></div></div></div></div></div>"
            ]
          },
          "metadata": {},
          "execution_count": 13
        }
      ]
    },
    {
      "cell_type": "code",
      "source": [
        "safe_eval(\"__import__('os').system('rm -rf /')\")  # Unsafe"
      ],
      "metadata": {
        "colab": {
          "base_uri": "https://localhost:8080/",
          "height": 35
        },
        "id": "2f2rhnqGU7ed",
        "outputId": "0db53e97-550a-4429-fec8-aef5528fa2be"
      },
      "execution_count": null,
      "outputs": [
        {
          "output_type": "execute_result",
          "data": {
            "text/plain": [
              "'Potentially unsafe expression'"
            ],
            "application/vnd.google.colaboratory.intrinsic+json": {
              "type": "string"
            }
          },
          "metadata": {},
          "execution_count": 14
        }
      ]
    },
    {
      "cell_type": "code",
      "source": [
        "from sklearn.naive_bayes import MultinomialNB, BernoulliNB, CategoricalNB, ComplementNB\n",
        "from sklearn.linear_model import LogisticRegression, RidgeClassifier, SGDClassifier\n",
        "from sklearn.ensemble import RandomForestClassifier, ExtraTreesClassifier, BaggingClassifier, AdaBoostClassifier, GradientBoostingClassifier, HistGradientBoostingClassifier, VotingClassifier\n",
        "from xgboost import XGBClassifier\n",
        "from lightgbm import LGBMClassifier\n",
        "\n",
        "models = {\n",
        "    'MultinomialNB': MultinomialNB,\n",
        "    'BernoulliNB': BernoulliNB,\n",
        "    'CategoricalNB': CategoricalNB,\n",
        "    'ComplementNB': ComplementNB,\n",
        "    'LogisticRegression': lambda: LogisticRegression(multi_class='multinomial', random_state=42),\n",
        "    'RidgeClassifier': RidgeClassifier,\n",
        "    'SGDClassifier': lambda: SGDClassifier(loss='hinge', random_state=42),\n",
        "    'RandomForestClassifier': lambda: RandomForestClassifier(random_state=42),\n",
        "    'ExtraTreesClassifier': lambda: ExtraTreesClassifier(random_state=42),\n",
        "    'BaggingClassifier': lambda: BaggingClassifier(random_state=42),\n",
        "    'AdaBoostClassifier': AdaBoostClassifier,\n",
        "    'GradientBoostingClassifier': lambda: GradientBoostingClassifier(random_state=42),\n",
        "    'HistGradientBoostingClassifier': HistGradientBoostingClassifier,\n",
        "    # Note: VotingClassifier doesn't have a class_weight parameter directly,\n",
        "    # but you can set it for the individual estimators within it.\n",
        "    'XGBClassifier': lambda: XGBClassifier(random_state=42),\n",
        "    'LGBMClassifier': lambda: LGBMClassifier(random_state=42),\n",
        "}"
      ],
      "metadata": {
        "colab": {
          "base_uri": "https://localhost:8080/"
        },
        "id": "IApGfULuU8DV",
        "outputId": "1c55f112-1bf4-4a72-fc4d-082eb70e6b27"
      },
      "execution_count": null,
      "outputs": [
        {
          "output_type": "stream",
          "name": "stderr",
          "text": [
            "/usr/local/lib/python3.10/dist-packages/dask/dataframe/__init__.py:42: FutureWarning: \n",
            "Dask dataframe query planning is disabled because dask-expr is not installed.\n",
            "\n",
            "You can install it with `pip install dask[dataframe]` or `conda install dask`.\n",
            "This will raise in a future version.\n",
            "\n",
            "  warnings.warn(msg, FutureWarning)\n"
          ]
        }
      ]
    },
    {
      "cell_type": "code",
      "source": [
        "models_list = list(models.keys())\n",
        "models_list"
      ],
      "metadata": {
        "colab": {
          "base_uri": "https://localhost:8080/"
        },
        "id": "wEBvLqvRrVD_",
        "outputId": "c907c0b0-c578-4847-98d3-eff71f448f58"
      },
      "execution_count": null,
      "outputs": [
        {
          "output_type": "execute_result",
          "data": {
            "text/plain": [
              "['MultinomialNB',\n",
              " 'BernoulliNB',\n",
              " 'CategoricalNB',\n",
              " 'ComplementNB',\n",
              " 'LogisticRegression',\n",
              " 'RidgeClassifier',\n",
              " 'SGDClassifier',\n",
              " 'RandomForestClassifier',\n",
              " 'ExtraTreesClassifier',\n",
              " 'BaggingClassifier',\n",
              " 'AdaBoostClassifier',\n",
              " 'GradientBoostingClassifier',\n",
              " 'HistGradientBoostingClassifier',\n",
              " 'XGBClassifier',\n",
              " 'LGBMClassifier']"
            ]
          },
          "metadata": {},
          "execution_count": 35
        }
      ]
    },
    {
      "cell_type": "code",
      "source": [
        "len(models.keys())"
      ],
      "metadata": {
        "colab": {
          "base_uri": "https://localhost:8080/"
        },
        "id": "eIiRj72J7pqX",
        "outputId": "5f646c00-c814-4c82-ac79-b8de8758b5af"
      },
      "execution_count": null,
      "outputs": [
        {
          "output_type": "execute_result",
          "data": {
            "text/plain": [
              "15"
            ]
          },
          "metadata": {},
          "execution_count": 19
        }
      ]
    },
    {
      "cell_type": "code",
      "source": [
        "len(clfs)"
      ],
      "metadata": {
        "colab": {
          "base_uri": "https://localhost:8080/"
        },
        "id": "H9KDt4ho7utB",
        "outputId": "52ac7fc3-2512-4702-a94b-8880d42cd99b"
      },
      "execution_count": null,
      "outputs": [
        {
          "output_type": "execute_result",
          "data": {
            "text/plain": [
              "16"
            ]
          },
          "metadata": {},
          "execution_count": 20
        }
      ]
    },
    {
      "cell_type": "markdown",
      "source": [
        "## Remember: Function/class should return results as a dataframe, there should be option f returning corpus (like emoji-yes, stopwords-no corpus etc)"
      ],
      "metadata": {
        "id": "2Ywab_GkbVR6"
      }
    },
    {
      "cell_type": "code",
      "source": [],
      "metadata": {
        "id": "iqyV3U8z7zU5"
      },
      "execution_count": null,
      "outputs": []
    }
  ],
  "metadata": {
    "colab": {
      "provenance": [],
      "toc_visible": true
    },
    "kernelspec": {
      "display_name": "Python 3",
      "name": "python3"
    },
    "language_info": {
      "name": "python"
    }
  },
  "nbformat": 4,
  "nbformat_minor": 0
}